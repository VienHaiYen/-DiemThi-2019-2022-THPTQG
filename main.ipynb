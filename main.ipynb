{
 "cells": [
  {
   "cell_type": "markdown",
   "metadata": {},
   "source": [
    "### ĐỒ ÁN CUỐI KÌ LẬP TRÌNH CHO KHOA HỌC DỮ LIỆU **LÝ THUYẾT**"
   ]
  },
  {
   "cell_type": "markdown",
   "metadata": {},
   "source": [
    "### Khám phá dữ liệu\n",
    "#### Đọc dữ liệu từ file csv"
   ]
  },
  {
   "cell_type": "code",
   "execution_count": 51,
   "metadata": {},
   "outputs": [],
   "source": [
    "import numpy as np\n",
    "import pandas as pd\n",
    "import seaborn as sns\n",
    "import matplotlib.pyplot as plt\n",
    "import requests\n",
    "import json "
   ]
  },
  {
   "cell_type": "code",
   "execution_count": 4,
   "metadata": {},
   "outputs": [
    {
     "data": {
      "text/html": [
       "<div>\n",
       "<style scoped>\n",
       "    .dataframe tbody tr th:only-of-type {\n",
       "        vertical-align: middle;\n",
       "    }\n",
       "\n",
       "    .dataframe tbody tr th {\n",
       "        vertical-align: top;\n",
       "    }\n",
       "\n",
       "    .dataframe thead th {\n",
       "        text-align: right;\n",
       "    }\n",
       "</style>\n",
       "<table border=\"1\" class=\"dataframe\">\n",
       "  <thead>\n",
       "    <tr style=\"text-align: right;\">\n",
       "      <th></th>\n",
       "      <th>SBD</th>\n",
       "      <th>Toan</th>\n",
       "      <th>Van</th>\n",
       "      <th>Ly</th>\n",
       "      <th>Sinh</th>\n",
       "      <th>Ngoai ngu</th>\n",
       "      <th>Year</th>\n",
       "      <th>Hoa</th>\n",
       "      <th>Lich su</th>\n",
       "      <th>Dia ly</th>\n",
       "      <th>GDCD</th>\n",
       "      <th>MaTinh</th>\n",
       "    </tr>\n",
       "  </thead>\n",
       "  <tbody>\n",
       "    <tr>\n",
       "      <th>0</th>\n",
       "      <td>8002816</td>\n",
       "      <td>7.8</td>\n",
       "      <td>8.25</td>\n",
       "      <td>7.50</td>\n",
       "      <td>7.0</td>\n",
       "      <td>6.2</td>\n",
       "      <td>2017</td>\n",
       "      <td>NaN</td>\n",
       "      <td>NaN</td>\n",
       "      <td>NaN</td>\n",
       "      <td>NaN</td>\n",
       "      <td>8</td>\n",
       "    </tr>\n",
       "    <tr>\n",
       "      <th>1</th>\n",
       "      <td>8005707</td>\n",
       "      <td>3.0</td>\n",
       "      <td>3.25</td>\n",
       "      <td>2.75</td>\n",
       "      <td>3.0</td>\n",
       "      <td>3.2</td>\n",
       "      <td>2017</td>\n",
       "      <td>NaN</td>\n",
       "      <td>NaN</td>\n",
       "      <td>NaN</td>\n",
       "      <td>NaN</td>\n",
       "      <td>8</td>\n",
       "    </tr>\n",
       "    <tr>\n",
       "      <th>2</th>\n",
       "      <td>8004883</td>\n",
       "      <td>6.0</td>\n",
       "      <td>5.25</td>\n",
       "      <td>NaN</td>\n",
       "      <td>NaN</td>\n",
       "      <td>4.8</td>\n",
       "      <td>2017</td>\n",
       "      <td>NaN</td>\n",
       "      <td>NaN</td>\n",
       "      <td>NaN</td>\n",
       "      <td>NaN</td>\n",
       "      <td>8</td>\n",
       "    </tr>\n",
       "    <tr>\n",
       "      <th>3</th>\n",
       "      <td>8004786</td>\n",
       "      <td>2.4</td>\n",
       "      <td>3.75</td>\n",
       "      <td>NaN</td>\n",
       "      <td>NaN</td>\n",
       "      <td>NaN</td>\n",
       "      <td>2017</td>\n",
       "      <td>NaN</td>\n",
       "      <td>NaN</td>\n",
       "      <td>NaN</td>\n",
       "      <td>NaN</td>\n",
       "      <td>8</td>\n",
       "    </tr>\n",
       "    <tr>\n",
       "      <th>4</th>\n",
       "      <td>8004225</td>\n",
       "      <td>4.2</td>\n",
       "      <td>4.00</td>\n",
       "      <td>NaN</td>\n",
       "      <td>NaN</td>\n",
       "      <td>3.0</td>\n",
       "      <td>2017</td>\n",
       "      <td>NaN</td>\n",
       "      <td>NaN</td>\n",
       "      <td>NaN</td>\n",
       "      <td>NaN</td>\n",
       "      <td>8</td>\n",
       "    </tr>\n",
       "  </tbody>\n",
       "</table>\n",
       "</div>"
      ],
      "text/plain": [
       "       SBD  Toan   Van    Ly  Sinh  Ngoai ngu  Year  Hoa  Lich su  Dia ly  \\\n",
       "0  8002816   7.8  8.25  7.50   7.0        6.2  2017  NaN      NaN     NaN   \n",
       "1  8005707   3.0  3.25  2.75   3.0        3.2  2017  NaN      NaN     NaN   \n",
       "2  8004883   6.0  5.25   NaN   NaN        4.8  2017  NaN      NaN     NaN   \n",
       "3  8004786   2.4  3.75   NaN   NaN        NaN  2017  NaN      NaN     NaN   \n",
       "4  8004225   4.2  4.00   NaN   NaN        3.0  2017  NaN      NaN     NaN   \n",
       "\n",
       "   GDCD  MaTinh  \n",
       "0   NaN       8  \n",
       "1   NaN       8  \n",
       "2   NaN       8  \n",
       "3   NaN       8  \n",
       "4   NaN       8  "
      ]
     },
     "execution_count": 4,
     "metadata": {},
     "output_type": "execute_result"
    }
   ],
   "source": [
    "df_results = pd.read_csv('./[2018-2021] thptqg-data/2017-2021.csv')\n",
    "df_results.head()"
   ]
  },
  {
   "cell_type": "markdown",
   "metadata": {},
   "source": [
    "#### Ở đây chúng ta có được file exel có dữ liệu của năm 2017\n",
    "Tuy nhiên <span style=\"color:red\">**KHÔNG** thể sử dụng được</span>  vì dữ liệu của năm này đã thiếu mất một số cột điểm quy định\n",
    "**Vậy nên** hiện tại chúng ta sẽ làm việc trên tập dữ liệu 2018-2021"
   ]
  },
  {
   "cell_type": "code",
   "execution_count": 5,
   "metadata": {},
   "outputs": [],
   "source": [
    "df_results = df_results[df_results['Year']!=2017]"
   ]
  },
  {
   "cell_type": "code",
   "execution_count": 6,
   "metadata": {},
   "outputs": [
    {
     "data": {
      "text/html": [
       "<div>\n",
       "<style scoped>\n",
       "    .dataframe tbody tr th:only-of-type {\n",
       "        vertical-align: middle;\n",
       "    }\n",
       "\n",
       "    .dataframe tbody tr th {\n",
       "        vertical-align: top;\n",
       "    }\n",
       "\n",
       "    .dataframe thead th {\n",
       "        text-align: right;\n",
       "    }\n",
       "</style>\n",
       "<table border=\"1\" class=\"dataframe\">\n",
       "  <thead>\n",
       "    <tr style=\"text-align: right;\">\n",
       "      <th></th>\n",
       "      <th>MaTinh</th>\n",
       "      <th>TenTinh</th>\n",
       "    </tr>\n",
       "  </thead>\n",
       "  <tbody>\n",
       "    <tr>\n",
       "      <th>0</th>\n",
       "      <td>1</td>\n",
       "      <td>THÀNH PHỐ HÀ NỘI</td>\n",
       "    </tr>\n",
       "    <tr>\n",
       "      <th>1</th>\n",
       "      <td>2</td>\n",
       "      <td>THÀNH PHỐ HỒ CHÍ MINH</td>\n",
       "    </tr>\n",
       "    <tr>\n",
       "      <th>2</th>\n",
       "      <td>3</td>\n",
       "      <td>THÀNH PHỐ HẢI PHÒNG</td>\n",
       "    </tr>\n",
       "    <tr>\n",
       "      <th>3</th>\n",
       "      <td>4</td>\n",
       "      <td>THÀNH PHỐ ĐÀ NẴNG</td>\n",
       "    </tr>\n",
       "    <tr>\n",
       "      <th>4</th>\n",
       "      <td>5</td>\n",
       "      <td>TỈNH HÀ GIANG</td>\n",
       "    </tr>\n",
       "  </tbody>\n",
       "</table>\n",
       "</div>"
      ],
      "text/plain": [
       "   MaTinh                TenTinh\n",
       "0       1       THÀNH PHỐ HÀ NỘI\n",
       "1       2  THÀNH PHỐ HỒ CHÍ MINH\n",
       "2       3    THÀNH PHỐ HẢI PHÒNG\n",
       "3       4      THÀNH PHỐ ĐÀ NẴNG\n",
       "4       5          TỈNH HÀ GIANG"
      ]
     },
     "execution_count": 6,
     "metadata": {},
     "output_type": "execute_result"
    }
   ],
   "source": [
    "df_cities = pd.read_csv('./[2018-2021] thptqg-data/Tinh.csv')\n",
    "df_cities.head()"
   ]
  },
  {
   "cell_type": "markdown",
   "metadata": {},
   "source": [
    "#### Kiểm tra dòng trùng"
   ]
  },
  {
   "cell_type": "code",
   "execution_count": 7,
   "metadata": {},
   "outputs": [
    {
     "name": "stdout",
     "output_type": "stream",
     "text": [
      "Không bị trùng\n"
     ]
    }
   ],
   "source": [
    "have_duplicated_rows = False\n",
    "for i in df_results.duplicated().items():\n",
    "    if(i == True):\n",
    "        have_duplicated_rows = True\n",
    "\n",
    "if(have_duplicated_rows == True):\n",
    "    print('Bị trùng dữ liệu')\n",
    "else:\n",
    "    print('Không bị trùng')"
   ]
  },
  {
   "cell_type": "markdown",
   "metadata": {},
   "source": [
    "#### Số dòng và cột của dữ liệu"
   ]
  },
  {
   "cell_type": "code",
   "execution_count": 8,
   "metadata": {},
   "outputs": [],
   "source": [
    "num_result_rows = len(df_results.axes[0])\n",
    "num_result_cols = len(df_results.axes[1])\n",
    "\n",
    "num_city_rows = len(df_cities.axes[0])\n",
    "num_city_cols = len(df_cities.axes[1])"
   ]
  },
  {
   "cell_type": "code",
   "execution_count": 9,
   "metadata": {},
   "outputs": [
    {
     "name": "stdout",
     "output_type": "stream",
     "text": [
      "Có tổng cộng là 3351840 học sinh tham gia kì thi THPTQG trên khắp cả nước\n",
      "Số lượng các tỉnh tham gia là 63 tỉnh\n"
     ]
    }
   ],
   "source": [
    "print('Có tổng cộng là {number} học sinh tham gia kì thi THPTQG trên khắp cả nước'.format(number=num_result_rows))\n",
    "print('Số lượng các tỉnh tham gia là {number} tỉnh'.format(number=num_city_rows))"
   ]
  },
  {
   "cell_type": "code",
   "execution_count": 10,
   "metadata": {},
   "outputs": [
    {
     "name": "stdout",
     "output_type": "stream",
     "text": [
      "SBD, Toan, Van, Ly, Sinh, Ngoai ngu, Year, Hoa, Lich su, Dia ly, GDCD, MaTinh, "
     ]
    }
   ],
   "source": [
    "for i in df_results.columns:\n",
    "    print(i, end = \", \")"
   ]
  },
  {
   "cell_type": "markdown",
   "metadata": {},
   "source": [
    "#### Ý nghĩa của từng cột\n",
    "\n",
    "\n",
    "|Tên cột   |Ý nghĩa   |\n",
    "|---|---|\n",
    "|SBD  |Số báo danh của thí sinh (có thể bị trùng ở các năm khác nhau), trong 1 năm không tồn tại 2 SBD giống nha   |\n",
    "|Toan   |Điểm môn Toán  |\n",
    "|Van   |Điểm môn Ngữ văn   |\n",
    "|Ngoai ngu   |Điểm môn Ngoại ngữ  (Có thể là Tiếng Anh, Tiếng Nhật, Tiếng Trung ,...) |\n",
    "|Ly   |Điểm môn Vật lý   |\n",
    "|Hoa   |Điểm môn Hóa học   |\n",
    "|Sinh   |Điểm môn Sinh học   |\n",
    "|Lich su   |Điểm môn Sử   |\n",
    "|Dia ly   |Điểm môn Dịa   |\n",
    "|GDCD   |Điểm môn Giáo dục công dân   |\n",
    "|MaTinh   |Mã tỉnh dự thi   |\n",
    "\n",
    "\n"
   ]
  },
  {
   "cell_type": "markdown",
   "metadata": {},
   "source": [
    "## Tiền xử lí dữ liệu"
   ]
  },
  {
   "cell_type": "markdown",
   "metadata": {},
   "source": [
    "##### Xử lí các cột có trật tự logic xác định"
   ]
  },
  {
   "cell_type": "code",
   "execution_count": 11,
   "metadata": {},
   "outputs": [],
   "source": [
    "new_order = ['SBD', 'Toan', 'Van' ,'Ngoai ngu', 'Ly', 'Sinh', 'Hoa', 'Lich su', 'Dia ly', 'GDCD', 'Year','MaTinh']\n",
    "df_results = df_results[new_order]"
   ]
  },
  {
   "cell_type": "markdown",
   "metadata": {},
   "source": [
    "## Đặt câu hỏi và trả lời"
   ]
  },
  {
   "cell_type": "markdown",
   "metadata": {},
   "source": [
    "**Câu 1:**\n",
    "Tìm số lượng thí sinh tham dự của các tỉnh vào mỗi năm"
   ]
  },
  {
   "cell_type": "code",
   "execution_count": 12,
   "metadata": {},
   "outputs": [],
   "source": [
    "years = df_results['Year'].unique()\n",
    "cities = df_cities['MaTinh'].unique()"
   ]
  },
  {
   "cell_type": "markdown",
   "metadata": {},
   "source": [
    "**Lưu ý:** Tồn tại những năm có những tỉnh không được ghi nhận số liệu, điều này là do mất số liệu lưu trữ trong năm đó"
   ]
  },
  {
   "cell_type": "code",
   "execution_count": 13,
   "metadata": {},
   "outputs": [
    {
     "data": {
      "text/html": [
       "<div>\n",
       "<style scoped>\n",
       "    .dataframe tbody tr th:only-of-type {\n",
       "        vertical-align: middle;\n",
       "    }\n",
       "\n",
       "    .dataframe tbody tr th {\n",
       "        vertical-align: top;\n",
       "    }\n",
       "\n",
       "    .dataframe thead th {\n",
       "        text-align: right;\n",
       "    }\n",
       "</style>\n",
       "<table border=\"1\" class=\"dataframe\">\n",
       "  <thead>\n",
       "    <tr style=\"text-align: right;\">\n",
       "      <th></th>\n",
       "      <th>MaTinh</th>\n",
       "      <th>TenTinh</th>\n",
       "      <th>2018</th>\n",
       "      <th>2019</th>\n",
       "      <th>2020</th>\n",
       "      <th>2021</th>\n",
       "    </tr>\n",
       "  </thead>\n",
       "  <tbody>\n",
       "    <tr>\n",
       "      <th>0</th>\n",
       "      <td>1</td>\n",
       "      <td>THÀNH PHỐ HÀ NỘI</td>\n",
       "      <td>38099</td>\n",
       "      <td>74277</td>\n",
       "      <td>78860</td>\n",
       "      <td>100838</td>\n",
       "    </tr>\n",
       "    <tr>\n",
       "      <th>1</th>\n",
       "      <td>2</td>\n",
       "      <td>THÀNH PHỐ HỒ CHÍ MINH</td>\n",
       "      <td>78321</td>\n",
       "      <td>0</td>\n",
       "      <td>74451</td>\n",
       "      <td>86367</td>\n",
       "    </tr>\n",
       "    <tr>\n",
       "      <th>2</th>\n",
       "      <td>3</td>\n",
       "      <td>THÀNH PHỐ HẢI PHÒNG</td>\n",
       "      <td>5099</td>\n",
       "      <td>18484</td>\n",
       "      <td>18533</td>\n",
       "      <td>23269</td>\n",
       "    </tr>\n",
       "    <tr>\n",
       "      <th>3</th>\n",
       "      <td>4</td>\n",
       "      <td>THÀNH PHỐ ĐÀ NẴNG</td>\n",
       "      <td>6099</td>\n",
       "      <td>10110</td>\n",
       "      <td>0</td>\n",
       "      <td>12637</td>\n",
       "    </tr>\n",
       "    <tr>\n",
       "      <th>4</th>\n",
       "      <td>5</td>\n",
       "      <td>TỈNH HÀ GIANG</td>\n",
       "      <td>3099</td>\n",
       "      <td>5155</td>\n",
       "      <td>5627</td>\n",
       "      <td>5618</td>\n",
       "    </tr>\n",
       "    <tr>\n",
       "      <th>...</th>\n",
       "      <td>...</td>\n",
       "      <td>...</td>\n",
       "      <td>...</td>\n",
       "      <td>...</td>\n",
       "      <td>...</td>\n",
       "      <td>...</td>\n",
       "    </tr>\n",
       "    <tr>\n",
       "      <th>58</th>\n",
       "      <td>60</td>\n",
       "      <td>TỈNH BẠC LIÊU</td>\n",
       "      <td>5370</td>\n",
       "      <td>5355</td>\n",
       "      <td>5589</td>\n",
       "      <td>6340</td>\n",
       "    </tr>\n",
       "    <tr>\n",
       "      <th>59</th>\n",
       "      <td>61</td>\n",
       "      <td>TỈNH CÀ MAU</td>\n",
       "      <td>9275</td>\n",
       "      <td>9292</td>\n",
       "      <td>9637</td>\n",
       "      <td>10925</td>\n",
       "    </tr>\n",
       "    <tr>\n",
       "      <th>60</th>\n",
       "      <td>62</td>\n",
       "      <td>TỈNH ĐIỆN BIÊN</td>\n",
       "      <td>5481</td>\n",
       "      <td>5287</td>\n",
       "      <td>5608</td>\n",
       "      <td>6276</td>\n",
       "    </tr>\n",
       "    <tr>\n",
       "      <th>61</th>\n",
       "      <td>63</td>\n",
       "      <td>TỈNH ĐĂK NÔNG</td>\n",
       "      <td>6361</td>\n",
       "      <td>6292</td>\n",
       "      <td>6212</td>\n",
       "      <td>6685</td>\n",
       "    </tr>\n",
       "    <tr>\n",
       "      <th>62</th>\n",
       "      <td>64</td>\n",
       "      <td>TỈNH HẬU GIANG</td>\n",
       "      <td>6190</td>\n",
       "      <td>5707</td>\n",
       "      <td>5813</td>\n",
       "      <td>6819</td>\n",
       "    </tr>\n",
       "  </tbody>\n",
       "</table>\n",
       "<p>63 rows × 6 columns</p>\n",
       "</div>"
      ],
      "text/plain": [
       "    MaTinh                TenTinh   2018   2019   2020    2021\n",
       "0        1       THÀNH PHỐ HÀ NỘI  38099  74277  78860  100838\n",
       "1        2  THÀNH PHỐ HỒ CHÍ MINH  78321      0  74451   86367\n",
       "2        3    THÀNH PHỐ HẢI PHÒNG   5099  18484  18533   23269\n",
       "3        4      THÀNH PHỐ ĐÀ NẴNG   6099  10110      0   12637\n",
       "4        5          TỈNH HÀ GIANG   3099   5155   5627    5618\n",
       "..     ...                    ...    ...    ...    ...     ...\n",
       "58      60          TỈNH BẠC LIÊU   5370   5355   5589    6340\n",
       "59      61            TỈNH CÀ MAU   9275   9292   9637   10925\n",
       "60      62         TỈNH ĐIỆN BIÊN   5481   5287   5608    6276\n",
       "61      63          TỈNH ĐĂK NÔNG   6361   6292   6212    6685\n",
       "62      64         TỈNH HẬU GIANG   6190   5707   5813    6819\n",
       "\n",
       "[63 rows x 6 columns]"
      ]
     },
     "execution_count": 13,
     "metadata": {},
     "output_type": "execute_result"
    }
   ],
   "source": [
    "for year in years:\n",
    "    col_year_city_participants_number =[]\n",
    "    for city in cities:\n",
    "        col_year_city_participants_number.append(df_results.loc[(df_results['Year']==year) & (df_results['MaTinh']==city),'SBD'].count())\n",
    "    df_cities[year] =  pd.Series(col_year_city_participants_number)\n",
    "\n",
    "df_cities"
   ]
  },
  {
   "cell_type": "code",
   "execution_count": 14,
   "metadata": {},
   "outputs": [
    {
     "data": {
      "image/png": "[encoded data removed]",
      "text/plain": [
       "<Figure size 1332x756 with 4 Axes>"
      ]
     },
     "metadata": {
      "needs_background": "light"
     },
     "output_type": "display_data"
    }
   ],
   "source": [
    "from matplotlib.pyplot import figure\n",
    "\n",
    "fig,a =  plt.subplots(2,2)\n",
    "fig.set_size_inches(18.5, 10.5, forward=True)\n",
    "x = np.array(df_cities['MaTinh'])\n",
    "\n",
    "x = np.arange(1,5)\n",
    "a[0][0].bar(np.array(df_cities['MaTinh']),np.array(df_cities[2018]))\n",
    "a[0][0].set_title('2018')\n",
    "a[0][1].bar(np.array(df_cities['MaTinh']),np.array(df_cities[2019]))\n",
    "a[0][1].set_title('2019')\n",
    "a[1][0].bar(np.array(df_cities['MaTinh']),np.array(df_cities[2020]))\n",
    "a[1][0].set_title('2020')\n",
    "a[1][1].bar(np.array(df_cities['MaTinh']),np.array(df_cities[2021]))\n",
    "a[1][1].set_title('2021')\n",
    "plt.show()"
   ]
  },
  {
   "cell_type": "markdown",
   "metadata": {},
   "source": [
    "### <span style=\"color:red\">**Lưu ý**</span>\n",
    "Những thành phố có năm không thu thập được dữ liệu"
   ]
  },
  {
   "cell_type": "code",
   "execution_count": 46,
   "metadata": {},
   "outputs": [
    {
     "data": {
      "text/html": [
       "<div>\n",
       "<style scoped>\n",
       "    .dataframe tbody tr th:only-of-type {\n",
       "        vertical-align: middle;\n",
       "    }\n",
       "\n",
       "    .dataframe tbody tr th {\n",
       "        vertical-align: top;\n",
       "    }\n",
       "\n",
       "    .dataframe thead th {\n",
       "        text-align: right;\n",
       "    }\n",
       "</style>\n",
       "<table border=\"1\" class=\"dataframe\">\n",
       "  <thead>\n",
       "    <tr style=\"text-align: right;\">\n",
       "      <th></th>\n",
       "      <th>MaTinh</th>\n",
       "      <th>TenTinh</th>\n",
       "      <th>2018</th>\n",
       "      <th>2019</th>\n",
       "      <th>2020</th>\n",
       "      <th>2021</th>\n",
       "    </tr>\n",
       "  </thead>\n",
       "  <tbody>\n",
       "    <tr>\n",
       "      <th>1</th>\n",
       "      <td>2</td>\n",
       "      <td>THÀNH PHỐ HỒ CHÍ MINH</td>\n",
       "      <td>78321</td>\n",
       "      <td>0</td>\n",
       "      <td>74451</td>\n",
       "      <td>86367</td>\n",
       "    </tr>\n",
       "    <tr>\n",
       "      <th>3</th>\n",
       "      <td>4</td>\n",
       "      <td>THÀNH PHỐ ĐÀ NẴNG</td>\n",
       "      <td>6099</td>\n",
       "      <td>10110</td>\n",
       "      <td>0</td>\n",
       "      <td>12637</td>\n",
       "    </tr>\n",
       "    <tr>\n",
       "      <th>12</th>\n",
       "      <td>13</td>\n",
       "      <td>TỈNH YÊN BÁI</td>\n",
       "      <td>7022</td>\n",
       "      <td>7024</td>\n",
       "      <td>7404</td>\n",
       "      <td>0</td>\n",
       "    </tr>\n",
       "    <tr>\n",
       "      <th>13</th>\n",
       "      <td>14</td>\n",
       "      <td>TỈNH SƠN LA</td>\n",
       "      <td>0</td>\n",
       "      <td>10551</td>\n",
       "      <td>11626</td>\n",
       "      <td>0</td>\n",
       "    </tr>\n",
       "    <tr>\n",
       "      <th>16</th>\n",
       "      <td>17</td>\n",
       "      <td>TỈNH QUẢNG NINH</td>\n",
       "      <td>0</td>\n",
       "      <td>14108</td>\n",
       "      <td>14547</td>\n",
       "      <td>16393</td>\n",
       "    </tr>\n",
       "    <tr>\n",
       "      <th>27</th>\n",
       "      <td>29</td>\n",
       "      <td>TỈNH NGHỆ AN</td>\n",
       "      <td>0</td>\n",
       "      <td>32242</td>\n",
       "      <td>31072</td>\n",
       "      <td>0</td>\n",
       "    </tr>\n",
       "    <tr>\n",
       "      <th>30</th>\n",
       "      <td>32</td>\n",
       "      <td>TỈNH QUẢNG TRỊ</td>\n",
       "      <td>7889</td>\n",
       "      <td>7873</td>\n",
       "      <td>7897</td>\n",
       "      <td>0</td>\n",
       "    </tr>\n",
       "    <tr>\n",
       "      <th>49</th>\n",
       "      <td>51</td>\n",
       "      <td>TỈNH AN GIANG</td>\n",
       "      <td>0</td>\n",
       "      <td>15784</td>\n",
       "      <td>15239</td>\n",
       "      <td>12120</td>\n",
       "    </tr>\n",
       "  </tbody>\n",
       "</table>\n",
       "</div>"
      ],
      "text/plain": [
       "    MaTinh                TenTinh   2018   2019   2020   2021\n",
       "1        2  THÀNH PHỐ HỒ CHÍ MINH  78321      0  74451  86367\n",
       "3        4      THÀNH PHỐ ĐÀ NẴNG   6099  10110      0  12637\n",
       "12      13           TỈNH YÊN BÁI   7022   7024   7404      0\n",
       "13      14            TỈNH SƠN LA      0  10551  11626      0\n",
       "16      17        TỈNH QUẢNG NINH      0  14108  14547  16393\n",
       "27      29           TỈNH NGHỆ AN      0  32242  31072      0\n",
       "30      32         TỈNH QUẢNG TRỊ   7889   7873   7897      0\n",
       "49      51          TỈNH AN GIANG      0  15784  15239  12120"
      ]
     },
     "execution_count": 46,
     "metadata": {},
     "output_type": "execute_result"
    }
   ],
   "source": [
    "df_cities[(df_cities[2018]==0) | (df_cities[2019]==0) | (df_cities[2020]==0) |(df_cities[2021]==0)]"
   ]
  },
  {
   "cell_type": "markdown",
   "metadata": {},
   "source": [
    "# Cào dữ liệu những ô thiếu - chưa làm xong"
   ]
  },
  {
   "cell_type": "code",
   "execution_count": null,
   "metadata": {},
   "outputs": [],
   "source": [
    "# https://diemthi.vnanet.vn/BTT-tra-cuu-diem-thi-THPT-2019\n",
    "# https://diemthi.vnanet.vn/Home/SearchBySobaodanhFile?code=02070045&nam=2019\n",
    "# HCM :  [02000001, 02071045]"
   ]
  },
  {
   "cell_type": "code",
   "execution_count": 204,
   "metadata": {},
   "outputs": [],
   "source": [
    "# obj = pd.DataFrame()\n",
    "def get_result_item(result):\n",
    "    obj = {\n",
    "        'SBD':result['Code'],\n",
    "        'Toan': result['Toan'],\n",
    "        'Van': result['NguVan'],\n",
    "        'Ngoai ngu': result['NgoaiNgu'],\n",
    "        'Sinh': result['SinhHoc'],\n",
    "        'Hoa': result['HoaHoc'],\n",
    "        'Ly': result['VatLi'],\n",
    "        'Dia ly': result['DiaLi'],\n",
    "        'Lich su': result['LichSu'],\n",
    "        'GDCD': result['GDCD']\n",
    "    },\n",
    "    return pd.DataFrame(obj)"
   ]
  },
  {
   "cell_type": "code",
   "execution_count": 184,
   "metadata": {},
   "outputs": [],
   "source": []
  },
  {
   "cell_type": "code",
   "execution_count": 174,
   "metadata": {},
   "outputs": [
    {
     "data": {
      "text/plain": [
       "{'message': 'Số báo danh không đúng. Bạn vui lòng nhập lại.', 'result': []}"
      ]
     },
     "execution_count": 174,
     "metadata": {},
     "output_type": "execute_result"
    }
   ],
   "source": [
    "res = requests.get('https://diemthi.vnanet.vn/Home/SearchBySobaodanhFile?code={:02d}{:06d}&nam={year}'.format(2, 74132,year=2019))\n",
    "response = json.loads(res.text)\n",
    "result = response['result']\n",
    "response"
   ]
  },
  {
   "cell_type": "code",
   "execution_count": 205,
   "metadata": {},
   "outputs": [
    {
     "data": {
      "text/html": [
       "<div>\n",
       "<style scoped>\n",
       "    .dataframe tbody tr th:only-of-type {\n",
       "        vertical-align: middle;\n",
       "    }\n",
       "\n",
       "    .dataframe tbody tr th {\n",
       "        vertical-align: top;\n",
       "    }\n",
       "\n",
       "    .dataframe thead th {\n",
       "        text-align: right;\n",
       "    }\n",
       "</style>\n",
       "<table border=\"1\" class=\"dataframe\">\n",
       "  <thead>\n",
       "    <tr style=\"text-align: right;\">\n",
       "      <th></th>\n",
       "      <th>SBD</th>\n",
       "      <th>Toan</th>\n",
       "      <th>Van</th>\n",
       "      <th>Ngoai ngu</th>\n",
       "      <th>Sinh</th>\n",
       "      <th>Hoa</th>\n",
       "      <th>Ly</th>\n",
       "      <th>Dia ly</th>\n",
       "      <th>Lich su</th>\n",
       "      <th>GDCD</th>\n",
       "    </tr>\n",
       "  </thead>\n",
       "  <tbody>\n",
       "    <tr>\n",
       "      <th>0</th>\n",
       "      <td>02069990</td>\n",
       "      <td>4.80</td>\n",
       "      <td>6.00</td>\n",
       "      <td>4.60</td>\n",
       "      <td></td>\n",
       "      <td></td>\n",
       "      <td></td>\n",
       "      <td>6.50</td>\n",
       "      <td>3.25</td>\n",
       "      <td>8.50</td>\n",
       "    </tr>\n",
       "    <tr>\n",
       "      <th>1</th>\n",
       "      <td>02069991</td>\n",
       "      <td>7.20</td>\n",
       "      <td>5.75</td>\n",
       "      <td>5.60</td>\n",
       "      <td>4.75</td>\n",
       "      <td>8.00</td>\n",
       "      <td>5.75</td>\n",
       "      <td></td>\n",
       "      <td></td>\n",
       "      <td></td>\n",
       "    </tr>\n",
       "    <tr>\n",
       "      <th>2</th>\n",
       "      <td>02069992</td>\n",
       "      <td>7.40</td>\n",
       "      <td>5.00</td>\n",
       "      <td>4.20</td>\n",
       "      <td>3.50</td>\n",
       "      <td>7.00</td>\n",
       "      <td>7.25</td>\n",
       "      <td></td>\n",
       "      <td></td>\n",
       "      <td></td>\n",
       "    </tr>\n",
       "    <tr>\n",
       "      <th>3</th>\n",
       "      <td>02069993</td>\n",
       "      <td>6.20</td>\n",
       "      <td>5.00</td>\n",
       "      <td>5.00</td>\n",
       "      <td>5.50</td>\n",
       "      <td>4.75</td>\n",
       "      <td>6.00</td>\n",
       "      <td></td>\n",
       "      <td></td>\n",
       "      <td></td>\n",
       "    </tr>\n",
       "    <tr>\n",
       "      <th>4</th>\n",
       "      <td>02069994</td>\n",
       "      <td>6.80</td>\n",
       "      <td>5.25</td>\n",
       "      <td></td>\n",
       "      <td></td>\n",
       "      <td></td>\n",
       "      <td></td>\n",
       "      <td>8.00</td>\n",
       "      <td>6.00</td>\n",
       "      <td></td>\n",
       "    </tr>\n",
       "    <tr>\n",
       "      <th>5</th>\n",
       "      <td>02069995</td>\n",
       "      <td>3.80</td>\n",
       "      <td>5.50</td>\n",
       "      <td></td>\n",
       "      <td></td>\n",
       "      <td></td>\n",
       "      <td></td>\n",
       "      <td>4.50</td>\n",
       "      <td>3.50</td>\n",
       "      <td></td>\n",
       "    </tr>\n",
       "    <tr>\n",
       "      <th>6</th>\n",
       "      <td>02069996</td>\n",
       "      <td>5.20</td>\n",
       "      <td>5.75</td>\n",
       "      <td>4.20</td>\n",
       "      <td></td>\n",
       "      <td></td>\n",
       "      <td></td>\n",
       "      <td>6.00</td>\n",
       "      <td>3.75</td>\n",
       "      <td>8.75</td>\n",
       "    </tr>\n",
       "    <tr>\n",
       "      <th>7</th>\n",
       "      <td>02069997</td>\n",
       "      <td>7.60</td>\n",
       "      <td>7.00</td>\n",
       "      <td></td>\n",
       "      <td>5.00</td>\n",
       "      <td>8.00</td>\n",
       "      <td>7.75</td>\n",
       "      <td></td>\n",
       "      <td></td>\n",
       "      <td></td>\n",
       "    </tr>\n",
       "    <tr>\n",
       "      <th>8</th>\n",
       "      <td>02069998</td>\n",
       "      <td>6.60</td>\n",
       "      <td>5.75</td>\n",
       "      <td>4.00</td>\n",
       "      <td>5.25</td>\n",
       "      <td>5.75</td>\n",
       "      <td>7.00</td>\n",
       "      <td></td>\n",
       "      <td></td>\n",
       "      <td></td>\n",
       "    </tr>\n",
       "    <tr>\n",
       "      <th>9</th>\n",
       "      <td>02069999</td>\n",
       "      <td>6.20</td>\n",
       "      <td>5.00</td>\n",
       "      <td>5.20</td>\n",
       "      <td>3.50</td>\n",
       "      <td>3.00</td>\n",
       "      <td>5.75</td>\n",
       "      <td></td>\n",
       "      <td></td>\n",
       "      <td></td>\n",
       "    </tr>\n",
       "  </tbody>\n",
       "</table>\n",
       "</div>"
      ],
      "text/plain": [
       "        SBD  Toan   Van Ngoai ngu  Sinh   Hoa    Ly Dia ly Lich su  GDCD\n",
       "0  02069990  4.80  6.00      4.60                     6.50    3.25  8.50\n",
       "1  02069991  7.20  5.75      5.60  4.75  8.00  5.75                     \n",
       "2  02069992  7.40  5.00      4.20  3.50  7.00  7.25                     \n",
       "3  02069993  6.20  5.00      5.00  5.50  4.75  6.00                     \n",
       "4  02069994  6.80  5.25                               8.00    6.00      \n",
       "5  02069995  3.80  5.50                               4.50    3.50      \n",
       "6  02069996  5.20  5.75      4.20                     6.00    3.75  8.75\n",
       "7  02069997  7.60  7.00            5.00  8.00  7.75                     \n",
       "8  02069998  6.60  5.75      4.00  5.25  5.75  7.00                     \n",
       "9  02069999  6.20  5.00      5.20  3.50  3.00  5.75                     "
      ]
     },
     "execution_count": 205,
     "metadata": {},
     "output_type": "execute_result"
    }
   ],
   "source": [
    "df_new = pd.DataFrame()\n",
    "\n",
    "for year in [2019]:\n",
    "    for i in [2]:\n",
    "    # for i in df_cities['MaTinh']:\n",
    "        ms = 69990\n",
    "        enable = True\n",
    "        while enable ==True:\n",
    "            res = requests.get('https://diemthi.vnanet.vn/Home/SearchBySobaodanhFile?code={:02d}{:06d}&nam={year}'.format(i, ms,year=year))\n",
    "            response = json.loads(res.text)\n",
    "            result = response['result']\n",
    "            if (len(result)==0):\n",
    "                enable=False\n",
    "            else:\n",
    "                # df_new = df_new.append(append_df_ressult(result[0]),ignore_index = True)\n",
    "                df_new = pd.concat([df_new,get_result_item(result[0])],ignore_index = True)\n",
    "                ms+=1\n",
    "\n",
    "df_new"
   ]
  },
  {
   "cell_type": "code",
   "execution_count": 187,
   "metadata": {},
   "outputs": [
    {
     "data": {
      "text/html": [
       "<div>\n",
       "<style scoped>\n",
       "    .dataframe tbody tr th:only-of-type {\n",
       "        vertical-align: middle;\n",
       "    }\n",
       "\n",
       "    .dataframe tbody tr th {\n",
       "        vertical-align: top;\n",
       "    }\n",
       "\n",
       "    .dataframe thead th {\n",
       "        text-align: right;\n",
       "    }\n",
       "</style>\n",
       "<table border=\"1\" class=\"dataframe\">\n",
       "  <thead>\n",
       "    <tr style=\"text-align: right;\">\n",
       "      <th></th>\n",
       "    </tr>\n",
       "  </thead>\n",
       "  <tbody>\n",
       "  </tbody>\n",
       "</table>\n",
       "</div>"
      ],
      "text/plain": [
       "Empty DataFrame\n",
       "Columns: []\n",
       "Index: []"
      ]
     },
     "execution_count": 187,
     "metadata": {},
     "output_type": "execute_result"
    }
   ],
   "source": [
    "df_new.head(10)"
   ]
  },
  {
   "cell_type": "markdown",
   "metadata": {},
   "source": [
    "Tính trung bình số lượng thí sinh tham gia của mỗi tỉnh\\\n",
    "Cho biết tình thành nào có số lượng thí sinh tham giao cao nhất / thấp nhất"
   ]
  },
  {
   "cell_type": "code",
   "execution_count": 16,
   "metadata": {},
   "outputs": [],
   "source": [
    "# vì có những số liệu của các tp bị bỏ lỡ nên hiện tại sẽ sử dụng tới hàm mean tự định nghĩa\n",
    "# cho phép những ô bị mất dữ liệu không tính vào tổng số tránh làm chênh lệnh\n",
    "import math\n",
    "def custom_mean_function(arr):\n",
    "    arr = np.array(arr)\n",
    "    sum = 0\n",
    "    for i in arr:\n",
    "        sum+=i\n",
    "    return sum/len(arr[arr!=0])\n"
   ]
  },
  {
   "cell_type": "code",
   "execution_count": 17,
   "metadata": {},
   "outputs": [],
   "source": [
    "avg_number_participants = []\n",
    "len(df_cities)\n",
    "for i in range(len(df_cities)):\n",
    "    avg_number_participants.append(custom_mean_function(df_cities.loc[i,[2018,2018,2020,2021]]))"
   ]
  },
  {
   "cell_type": "code",
   "execution_count": 18,
   "metadata": {},
   "outputs": [],
   "source": [
    "max_avg = max(avg_number_participants)\n",
    "min_avg = min(avg_number_participants)"
   ]
  },
  {
   "cell_type": "markdown",
   "metadata": {},
   "source": [
    "#### Tỉnh thành có nhiều thí sinh trung bình dự thi nhất là:"
   ]
  },
  {
   "cell_type": "code",
   "execution_count": 19,
   "metadata": {},
   "outputs": [
    {
     "data": {
      "text/html": [
       "<div>\n",
       "<style scoped>\n",
       "    .dataframe tbody tr th:only-of-type {\n",
       "        vertical-align: middle;\n",
       "    }\n",
       "\n",
       "    .dataframe tbody tr th {\n",
       "        vertical-align: top;\n",
       "    }\n",
       "\n",
       "    .dataframe thead th {\n",
       "        text-align: right;\n",
       "    }\n",
       "</style>\n",
       "<table border=\"1\" class=\"dataframe\">\n",
       "  <thead>\n",
       "    <tr style=\"text-align: right;\">\n",
       "      <th></th>\n",
       "      <th>MaTinh</th>\n",
       "      <th>TenTinh</th>\n",
       "      <th>2018</th>\n",
       "      <th>2019</th>\n",
       "      <th>2020</th>\n",
       "      <th>2021</th>\n",
       "    </tr>\n",
       "  </thead>\n",
       "  <tbody>\n",
       "    <tr>\n",
       "      <th>1</th>\n",
       "      <td>2</td>\n",
       "      <td>THÀNH PHỐ HỒ CHÍ MINH</td>\n",
       "      <td>78321</td>\n",
       "      <td>0</td>\n",
       "      <td>74451</td>\n",
       "      <td>86367</td>\n",
       "    </tr>\n",
       "  </tbody>\n",
       "</table>\n",
       "</div>"
      ],
      "text/plain": [
       "   MaTinh                TenTinh   2018  2019   2020   2021\n",
       "1       2  THÀNH PHỐ HỒ CHÍ MINH  78321     0  74451  86367"
      ]
     },
     "execution_count": 19,
     "metadata": {},
     "output_type": "execute_result"
    }
   ],
   "source": [
    "df_cities.iloc[[avg_number_participants.index(max_avg)]]"
   ]
  },
  {
   "cell_type": "markdown",
   "metadata": {},
   "source": [
    "#### Tỉnh thành có ít thí sinh trung bình dự thi ít nhất là:"
   ]
  },
  {
   "cell_type": "code",
   "execution_count": 20,
   "metadata": {},
   "outputs": [
    {
     "data": {
      "text/html": [
       "<div>\n",
       "<style scoped>\n",
       "    .dataframe tbody tr th:only-of-type {\n",
       "        vertical-align: middle;\n",
       "    }\n",
       "\n",
       "    .dataframe tbody tr th {\n",
       "        vertical-align: top;\n",
       "    }\n",
       "\n",
       "    .dataframe thead th {\n",
       "        text-align: right;\n",
       "    }\n",
       "</style>\n",
       "<table border=\"1\" class=\"dataframe\">\n",
       "  <thead>\n",
       "    <tr style=\"text-align: right;\">\n",
       "      <th></th>\n",
       "      <th>MaTinh</th>\n",
       "      <th>TenTinh</th>\n",
       "      <th>2018</th>\n",
       "      <th>2019</th>\n",
       "      <th>2020</th>\n",
       "      <th>2021</th>\n",
       "    </tr>\n",
       "  </thead>\n",
       "  <tbody>\n",
       "    <tr>\n",
       "      <th>10</th>\n",
       "      <td>11</td>\n",
       "      <td>TỈNH BẮC KẠN</td>\n",
       "      <td>2866</td>\n",
       "      <td>2849</td>\n",
       "      <td>2851</td>\n",
       "      <td>2898</td>\n",
       "    </tr>\n",
       "  </tbody>\n",
       "</table>\n",
       "</div>"
      ],
      "text/plain": [
       "    MaTinh       TenTinh  2018  2019  2020  2021\n",
       "10      11  TỈNH BẮC KẠN  2866  2849  2851  2898"
      ]
     },
     "execution_count": 20,
     "metadata": {},
     "output_type": "execute_result"
    }
   ],
   "source": [
    "df_cities.iloc[[avg_number_participants.index(min_avg)]]"
   ]
  },
  {
   "cell_type": "markdown",
   "metadata": {},
   "source": [
    "**Câu hỏi 3:**\n",
    "Tìm và nhận xét số lượng thí sinh thi đậu tốt nghiệp\\\n",
    "Biết là để thõa điều kiện tốt nghiệp:\n",
    "- Các môn tiên quyết bắt buộc và các môn thành phần trong bài thi Tổ hợp luôn phải lớn hơn 1.0\n",
    "- Tổng điểm xét tốt nghiệp phải lớn hơn 5.0 -> ở trường hợp này mình không xét tới vì điểm tốt nghiệp có 30% là điểm trung bình trong trường"
   ]
  },
  {
   "cell_type": "code",
   "execution_count": 21,
   "metadata": {},
   "outputs": [],
   "source": [
    "passed_cdt_1 = (df_results['Toan']>1 )&(df_results['Van']>1 )&(df_results['Ngoai ngu']>1 )\n",
    "passed_cdt_2 = (df_results['Ly']>1 )&(df_results['Hoa']>1 )&(df_results['Sinh']>1 )\n",
    "passed_cdt_3 = (df_results['Lich su']>1) & (df_results['Dia ly']>1 ) & (df_results['GDCD']>1 )\n"
   ]
  },
  {
   "cell_type": "code",
   "execution_count": 22,
   "metadata": {},
   "outputs": [
    {
     "data": {
      "text/html": [
       "<div>\n",
       "<style scoped>\n",
       "    .dataframe tbody tr th:only-of-type {\n",
       "        vertical-align: middle;\n",
       "    }\n",
       "\n",
       "    .dataframe tbody tr th {\n",
       "        vertical-align: top;\n",
       "    }\n",
       "\n",
       "    .dataframe thead th {\n",
       "        text-align: right;\n",
       "    }\n",
       "</style>\n",
       "<table border=\"1\" class=\"dataframe\">\n",
       "  <thead>\n",
       "    <tr style=\"text-align: right;\">\n",
       "      <th></th>\n",
       "      <th>SBD</th>\n",
       "      <th>Toan</th>\n",
       "      <th>Van</th>\n",
       "      <th>Ngoai ngu</th>\n",
       "      <th>Ly</th>\n",
       "      <th>Sinh</th>\n",
       "      <th>Hoa</th>\n",
       "      <th>Lich su</th>\n",
       "      <th>Dia ly</th>\n",
       "      <th>GDCD</th>\n",
       "      <th>Year</th>\n",
       "      <th>MaTinh</th>\n",
       "    </tr>\n",
       "  </thead>\n",
       "  <tbody>\n",
       "    <tr>\n",
       "      <th>847348</th>\n",
       "      <td>18010226</td>\n",
       "      <td>3.0</td>\n",
       "      <td>3.75</td>\n",
       "      <td>3.0</td>\n",
       "      <td>NaN</td>\n",
       "      <td>NaN</td>\n",
       "      <td>NaN</td>\n",
       "      <td>3.00</td>\n",
       "      <td>6.50</td>\n",
       "      <td>8.25</td>\n",
       "      <td>2018</td>\n",
       "      <td>18</td>\n",
       "    </tr>\n",
       "    <tr>\n",
       "      <th>847349</th>\n",
       "      <td>18010229</td>\n",
       "      <td>8.8</td>\n",
       "      <td>7.50</td>\n",
       "      <td>9.0</td>\n",
       "      <td>NaN</td>\n",
       "      <td>NaN</td>\n",
       "      <td>NaN</td>\n",
       "      <td>6.00</td>\n",
       "      <td>9.00</td>\n",
       "      <td>8.25</td>\n",
       "      <td>2018</td>\n",
       "      <td>18</td>\n",
       "    </tr>\n",
       "    <tr>\n",
       "      <th>847350</th>\n",
       "      <td>18010232</td>\n",
       "      <td>6.0</td>\n",
       "      <td>5.50</td>\n",
       "      <td>4.0</td>\n",
       "      <td>5.75</td>\n",
       "      <td>5.00</td>\n",
       "      <td>5.50</td>\n",
       "      <td>NaN</td>\n",
       "      <td>NaN</td>\n",
       "      <td>NaN</td>\n",
       "      <td>2018</td>\n",
       "      <td>18</td>\n",
       "    </tr>\n",
       "    <tr>\n",
       "      <th>847351</th>\n",
       "      <td>18010242</td>\n",
       "      <td>3.4</td>\n",
       "      <td>5.75</td>\n",
       "      <td>2.6</td>\n",
       "      <td>NaN</td>\n",
       "      <td>NaN</td>\n",
       "      <td>NaN</td>\n",
       "      <td>3.50</td>\n",
       "      <td>4.75</td>\n",
       "      <td>7.25</td>\n",
       "      <td>2018</td>\n",
       "      <td>18</td>\n",
       "    </tr>\n",
       "    <tr>\n",
       "      <th>847352</th>\n",
       "      <td>18010247</td>\n",
       "      <td>3.8</td>\n",
       "      <td>6.75</td>\n",
       "      <td>3.0</td>\n",
       "      <td>NaN</td>\n",
       "      <td>NaN</td>\n",
       "      <td>NaN</td>\n",
       "      <td>3.50</td>\n",
       "      <td>6.25</td>\n",
       "      <td>8.00</td>\n",
       "      <td>2018</td>\n",
       "      <td>18</td>\n",
       "    </tr>\n",
       "    <tr>\n",
       "      <th>...</th>\n",
       "      <td>...</td>\n",
       "      <td>...</td>\n",
       "      <td>...</td>\n",
       "      <td>...</td>\n",
       "      <td>...</td>\n",
       "      <td>...</td>\n",
       "      <td>...</td>\n",
       "      <td>...</td>\n",
       "      <td>...</td>\n",
       "      <td>...</td>\n",
       "      <td>...</td>\n",
       "      <td>...</td>\n",
       "    </tr>\n",
       "    <tr>\n",
       "      <th>4199179</th>\n",
       "      <td>64006815</td>\n",
       "      <td>4.6</td>\n",
       "      <td>7.50</td>\n",
       "      <td>2.4</td>\n",
       "      <td>NaN</td>\n",
       "      <td>NaN</td>\n",
       "      <td>NaN</td>\n",
       "      <td>3.75</td>\n",
       "      <td>4.75</td>\n",
       "      <td>6.75</td>\n",
       "      <td>2021</td>\n",
       "      <td>64</td>\n",
       "    </tr>\n",
       "    <tr>\n",
       "      <th>4199180</th>\n",
       "      <td>64006826</td>\n",
       "      <td>7.4</td>\n",
       "      <td>6.75</td>\n",
       "      <td>9.2</td>\n",
       "      <td>NaN</td>\n",
       "      <td>NaN</td>\n",
       "      <td>NaN</td>\n",
       "      <td>5.50</td>\n",
       "      <td>6.75</td>\n",
       "      <td>9.25</td>\n",
       "      <td>2021</td>\n",
       "      <td>64</td>\n",
       "    </tr>\n",
       "    <tr>\n",
       "      <th>4199182</th>\n",
       "      <td>64006830</td>\n",
       "      <td>7.2</td>\n",
       "      <td>7.75</td>\n",
       "      <td>7.8</td>\n",
       "      <td>NaN</td>\n",
       "      <td>NaN</td>\n",
       "      <td>NaN</td>\n",
       "      <td>7.75</td>\n",
       "      <td>8.50</td>\n",
       "      <td>8.50</td>\n",
       "      <td>2021</td>\n",
       "      <td>64</td>\n",
       "    </tr>\n",
       "    <tr>\n",
       "      <th>4199184</th>\n",
       "      <td>64006813</td>\n",
       "      <td>7.6</td>\n",
       "      <td>6.50</td>\n",
       "      <td>5.4</td>\n",
       "      <td>7.25</td>\n",
       "      <td>8.25</td>\n",
       "      <td>7.75</td>\n",
       "      <td>NaN</td>\n",
       "      <td>NaN</td>\n",
       "      <td>NaN</td>\n",
       "      <td>2021</td>\n",
       "      <td>64</td>\n",
       "    </tr>\n",
       "    <tr>\n",
       "      <th>4199186</th>\n",
       "      <td>64006829</td>\n",
       "      <td>8.8</td>\n",
       "      <td>8.25</td>\n",
       "      <td>9.4</td>\n",
       "      <td>NaN</td>\n",
       "      <td>NaN</td>\n",
       "      <td>NaN</td>\n",
       "      <td>4.25</td>\n",
       "      <td>7.00</td>\n",
       "      <td>9.75</td>\n",
       "      <td>2021</td>\n",
       "      <td>64</td>\n",
       "    </tr>\n",
       "  </tbody>\n",
       "</table>\n",
       "<p>2932910 rows × 12 columns</p>\n",
       "</div>"
      ],
      "text/plain": [
       "              SBD  Toan   Van  Ngoai ngu    Ly  Sinh   Hoa  Lich su  Dia ly  \\\n",
       "847348   18010226   3.0  3.75        3.0   NaN   NaN   NaN     3.00    6.50   \n",
       "847349   18010229   8.8  7.50        9.0   NaN   NaN   NaN     6.00    9.00   \n",
       "847350   18010232   6.0  5.50        4.0  5.75  5.00  5.50      NaN     NaN   \n",
       "847351   18010242   3.4  5.75        2.6   NaN   NaN   NaN     3.50    4.75   \n",
       "847352   18010247   3.8  6.75        3.0   NaN   NaN   NaN     3.50    6.25   \n",
       "...           ...   ...   ...        ...   ...   ...   ...      ...     ...   \n",
       "4199179  64006815   4.6  7.50        2.4   NaN   NaN   NaN     3.75    4.75   \n",
       "4199180  64006826   7.4  6.75        9.2   NaN   NaN   NaN     5.50    6.75   \n",
       "4199182  64006830   7.2  7.75        7.8   NaN   NaN   NaN     7.75    8.50   \n",
       "4199184  64006813   7.6  6.50        5.4  7.25  8.25  7.75      NaN     NaN   \n",
       "4199186  64006829   8.8  8.25        9.4   NaN   NaN   NaN     4.25    7.00   \n",
       "\n",
       "         GDCD  Year  MaTinh  \n",
       "847348   8.25  2018      18  \n",
       "847349   8.25  2018      18  \n",
       "847350    NaN  2018      18  \n",
       "847351   7.25  2018      18  \n",
       "847352   8.00  2018      18  \n",
       "...       ...   ...     ...  \n",
       "4199179  6.75  2021      64  \n",
       "4199180  9.25  2021      64  \n",
       "4199182  8.50  2021      64  \n",
       "4199184   NaN  2021      64  \n",
       "4199186  9.75  2021      64  \n",
       "\n",
       "[2932910 rows x 12 columns]"
      ]
     },
     "execution_count": 22,
     "metadata": {},
     "output_type": "execute_result"
    }
   ],
   "source": [
    "df_passed = df_results[passed_cdt_1 & (passed_cdt_2 | passed_cdt_3)]\n",
    "df_passed"
   ]
  },
  {
   "cell_type": "code",
   "execution_count": 23,
   "metadata": {},
   "outputs": [
    {
     "data": {
      "text/html": [
       "<div>\n",
       "<style scoped>\n",
       "    .dataframe tbody tr th:only-of-type {\n",
       "        vertical-align: middle;\n",
       "    }\n",
       "\n",
       "    .dataframe tbody tr th {\n",
       "        vertical-align: top;\n",
       "    }\n",
       "\n",
       "    .dataframe thead th {\n",
       "        text-align: right;\n",
       "    }\n",
       "</style>\n",
       "<table border=\"1\" class=\"dataframe\">\n",
       "  <thead>\n",
       "    <tr style=\"text-align: right;\">\n",
       "      <th></th>\n",
       "      <th>MaTinh</th>\n",
       "      <th>2018</th>\n",
       "      <th>2019</th>\n",
       "      <th>2020</th>\n",
       "      <th>2021</th>\n",
       "    </tr>\n",
       "  </thead>\n",
       "  <tbody>\n",
       "    <tr>\n",
       "      <th>0</th>\n",
       "      <td>1</td>\n",
       "      <td>33216</td>\n",
       "      <td>64034</td>\n",
       "      <td>66582</td>\n",
       "      <td>85557</td>\n",
       "    </tr>\n",
       "    <tr>\n",
       "      <th>1</th>\n",
       "      <td>2</td>\n",
       "      <td>67267</td>\n",
       "      <td>0</td>\n",
       "      <td>64848</td>\n",
       "      <td>74744</td>\n",
       "    </tr>\n",
       "    <tr>\n",
       "      <th>2</th>\n",
       "      <td>3</td>\n",
       "      <td>4747</td>\n",
       "      <td>16640</td>\n",
       "      <td>16563</td>\n",
       "      <td>20547</td>\n",
       "    </tr>\n",
       "    <tr>\n",
       "      <th>3</th>\n",
       "      <td>4</td>\n",
       "      <td>5656</td>\n",
       "      <td>9012</td>\n",
       "      <td>0</td>\n",
       "      <td>11103</td>\n",
       "    </tr>\n",
       "    <tr>\n",
       "      <th>4</th>\n",
       "      <td>5</td>\n",
       "      <td>2799</td>\n",
       "      <td>4457</td>\n",
       "      <td>4847</td>\n",
       "      <td>4929</td>\n",
       "    </tr>\n",
       "    <tr>\n",
       "      <th>...</th>\n",
       "      <td>...</td>\n",
       "      <td>...</td>\n",
       "      <td>...</td>\n",
       "      <td>...</td>\n",
       "      <td>...</td>\n",
       "    </tr>\n",
       "    <tr>\n",
       "      <th>58</th>\n",
       "      <td>60</td>\n",
       "      <td>4896</td>\n",
       "      <td>4903</td>\n",
       "      <td>5048</td>\n",
       "      <td>5702</td>\n",
       "    </tr>\n",
       "    <tr>\n",
       "      <th>59</th>\n",
       "      <td>61</td>\n",
       "      <td>8467</td>\n",
       "      <td>8849</td>\n",
       "      <td>9128</td>\n",
       "      <td>10546</td>\n",
       "    </tr>\n",
       "    <tr>\n",
       "      <th>60</th>\n",
       "      <td>62</td>\n",
       "      <td>4376</td>\n",
       "      <td>4598</td>\n",
       "      <td>4692</td>\n",
       "      <td>5252</td>\n",
       "    </tr>\n",
       "    <tr>\n",
       "      <th>61</th>\n",
       "      <td>63</td>\n",
       "      <td>5736</td>\n",
       "      <td>5812</td>\n",
       "      <td>5719</td>\n",
       "      <td>6246</td>\n",
       "    </tr>\n",
       "    <tr>\n",
       "      <th>62</th>\n",
       "      <td>64</td>\n",
       "      <td>5692</td>\n",
       "      <td>5313</td>\n",
       "      <td>5334</td>\n",
       "      <td>6346</td>\n",
       "    </tr>\n",
       "  </tbody>\n",
       "</table>\n",
       "<p>63 rows × 5 columns</p>\n",
       "</div>"
      ],
      "text/plain": [
       "    MaTinh   2018   2019   2020   2021\n",
       "0        1  33216  64034  66582  85557\n",
       "1        2  67267      0  64848  74744\n",
       "2        3   4747  16640  16563  20547\n",
       "3        4   5656   9012      0  11103\n",
       "4        5   2799   4457   4847   4929\n",
       "..     ...    ...    ...    ...    ...\n",
       "58      60   4896   4903   5048   5702\n",
       "59      61   8467   8849   9128  10546\n",
       "60      62   4376   4598   4692   5252\n",
       "61      63   5736   5812   5719   6246\n",
       "62      64   5692   5313   5334   6346\n",
       "\n",
       "[63 rows x 5 columns]"
      ]
     },
     "execution_count": 23,
     "metadata": {},
     "output_type": "execute_result"
    }
   ],
   "source": [
    "df_city_passed = pd.DataFrame()\n",
    "df_city_passed['MaTinh'] = df_cities['MaTinh']\n",
    "\n",
    "for year in years:\n",
    "    city_passed_year =[]\n",
    "    for city in cities:\n",
    "        city_passed_year.append(df_passed.loc[(df_passed['Year']==year) & (df_passed['MaTinh']==city),'SBD'].count())\n",
    "    df_city_passed[year] =  pd.Series(city_passed_year)\n",
    "\n",
    "df_city_passed"
   ]
  },
  {
   "cell_type": "markdown",
   "metadata": {},
   "source": [
    "#### Biểu đồ cột cho thấy mối quan hệ của việc đậu và tham gia kì thi trong năm 2018"
   ]
  },
  {
   "cell_type": "code",
   "execution_count": 24,
   "metadata": {},
   "outputs": [
    {
     "data": {
      "text/plain": [
       "<matplotlib.legend.Legend at 0x157b97e3c10>"
      ]
     },
     "execution_count": 24,
     "metadata": {},
     "output_type": "execute_result"
    },
    {
     "data": {
      "image/png": "[encoded data removed]",
      "text/plain": [
       "<Figure size 1332x756 with 1 Axes>"
      ]
     },
     "metadata": {
      "needs_background": "light"
     },
     "output_type": "display_data"
    }
   ],
   "source": [
    "fig,a =  plt.subplots(1,1)\n",
    "fig.set_size_inches(18.5, 10.5, forward=True)\n",
    "x = np.array(df_cities['MaTinh'])\n",
    "\n",
    "\n",
    "a.bar(np.array(df_cities['MaTinh'])-0.3, df_cities[2018],color='red', width=0.3, label='Tham gia thi')\n",
    "a.bar(np.array(df_cities['MaTinh']), df_city_passed[2018], width=0.3,color='blue', label='Đậu')\n",
    "\n",
    "a.set_ylabel('Số lượng thí sinh')\n",
    "a.set_xlabel('Năm')\n",
    "a.set_title(\"Thí sinh tham dự kì thi và Vượt qua kì thi của tất cả các tỉnh thành trong năm 2018\")\n",
    "a.legend()"
   ]
  },
  {
   "cell_type": "markdown",
   "metadata": {},
   "source": [
    "### Tỉ Lệ thi đậu tốt nghiệp"
   ]
  },
  {
   "cell_type": "code",
   "execution_count": 25,
   "metadata": {},
   "outputs": [
    {
     "data": {
      "text/html": [
       "<div>\n",
       "<style scoped>\n",
       "    .dataframe tbody tr th:only-of-type {\n",
       "        vertical-align: middle;\n",
       "    }\n",
       "\n",
       "    .dataframe tbody tr th {\n",
       "        vertical-align: top;\n",
       "    }\n",
       "\n",
       "    .dataframe thead th {\n",
       "        text-align: right;\n",
       "    }\n",
       "</style>\n",
       "<table border=\"1\" class=\"dataframe\">\n",
       "  <thead>\n",
       "    <tr style=\"text-align: right;\">\n",
       "      <th></th>\n",
       "      <th>MaTinh</th>\n",
       "      <th>TenTinh</th>\n",
       "      <th>2018</th>\n",
       "      <th>2019</th>\n",
       "      <th>2020</th>\n",
       "      <th>2021</th>\n",
       "    </tr>\n",
       "  </thead>\n",
       "  <tbody>\n",
       "    <tr>\n",
       "      <th>0</th>\n",
       "      <td>1</td>\n",
       "      <td>THÀNH PHỐ HÀ NỘI</td>\n",
       "      <td>38099</td>\n",
       "      <td>74277</td>\n",
       "      <td>78860</td>\n",
       "      <td>100838</td>\n",
       "    </tr>\n",
       "    <tr>\n",
       "      <th>1</th>\n",
       "      <td>2</td>\n",
       "      <td>THÀNH PHỐ HỒ CHÍ MINH</td>\n",
       "      <td>78321</td>\n",
       "      <td>0</td>\n",
       "      <td>74451</td>\n",
       "      <td>86367</td>\n",
       "    </tr>\n",
       "    <tr>\n",
       "      <th>2</th>\n",
       "      <td>3</td>\n",
       "      <td>THÀNH PHỐ HẢI PHÒNG</td>\n",
       "      <td>5099</td>\n",
       "      <td>18484</td>\n",
       "      <td>18533</td>\n",
       "      <td>23269</td>\n",
       "    </tr>\n",
       "    <tr>\n",
       "      <th>3</th>\n",
       "      <td>4</td>\n",
       "      <td>THÀNH PHỐ ĐÀ NẴNG</td>\n",
       "      <td>6099</td>\n",
       "      <td>10110</td>\n",
       "      <td>0</td>\n",
       "      <td>12637</td>\n",
       "    </tr>\n",
       "    <tr>\n",
       "      <th>4</th>\n",
       "      <td>5</td>\n",
       "      <td>TỈNH HÀ GIANG</td>\n",
       "      <td>3099</td>\n",
       "      <td>5155</td>\n",
       "      <td>5627</td>\n",
       "      <td>5618</td>\n",
       "    </tr>\n",
       "    <tr>\n",
       "      <th>...</th>\n",
       "      <td>...</td>\n",
       "      <td>...</td>\n",
       "      <td>...</td>\n",
       "      <td>...</td>\n",
       "      <td>...</td>\n",
       "      <td>...</td>\n",
       "    </tr>\n",
       "    <tr>\n",
       "      <th>58</th>\n",
       "      <td>60</td>\n",
       "      <td>TỈNH BẠC LIÊU</td>\n",
       "      <td>5370</td>\n",
       "      <td>5355</td>\n",
       "      <td>5589</td>\n",
       "      <td>6340</td>\n",
       "    </tr>\n",
       "    <tr>\n",
       "      <th>59</th>\n",
       "      <td>61</td>\n",
       "      <td>TỈNH CÀ MAU</td>\n",
       "      <td>9275</td>\n",
       "      <td>9292</td>\n",
       "      <td>9637</td>\n",
       "      <td>10925</td>\n",
       "    </tr>\n",
       "    <tr>\n",
       "      <th>60</th>\n",
       "      <td>62</td>\n",
       "      <td>TỈNH ĐIỆN BIÊN</td>\n",
       "      <td>5481</td>\n",
       "      <td>5287</td>\n",
       "      <td>5608</td>\n",
       "      <td>6276</td>\n",
       "    </tr>\n",
       "    <tr>\n",
       "      <th>61</th>\n",
       "      <td>63</td>\n",
       "      <td>TỈNH ĐĂK NÔNG</td>\n",
       "      <td>6361</td>\n",
       "      <td>6292</td>\n",
       "      <td>6212</td>\n",
       "      <td>6685</td>\n",
       "    </tr>\n",
       "    <tr>\n",
       "      <th>62</th>\n",
       "      <td>64</td>\n",
       "      <td>TỈNH HẬU GIANG</td>\n",
       "      <td>6190</td>\n",
       "      <td>5707</td>\n",
       "      <td>5813</td>\n",
       "      <td>6819</td>\n",
       "    </tr>\n",
       "  </tbody>\n",
       "</table>\n",
       "<p>63 rows × 6 columns</p>\n",
       "</div>"
      ],
      "text/plain": [
       "    MaTinh                TenTinh   2018   2019   2020    2021\n",
       "0        1       THÀNH PHỐ HÀ NỘI  38099  74277  78860  100838\n",
       "1        2  THÀNH PHỐ HỒ CHÍ MINH  78321      0  74451   86367\n",
       "2        3    THÀNH PHỐ HẢI PHÒNG   5099  18484  18533   23269\n",
       "3        4      THÀNH PHỐ ĐÀ NẴNG   6099  10110      0   12637\n",
       "4        5          TỈNH HÀ GIANG   3099   5155   5627    5618\n",
       "..     ...                    ...    ...    ...    ...     ...\n",
       "58      60          TỈNH BẠC LIÊU   5370   5355   5589    6340\n",
       "59      61            TỈNH CÀ MAU   9275   9292   9637   10925\n",
       "60      62         TỈNH ĐIỆN BIÊN   5481   5287   5608    6276\n",
       "61      63          TỈNH ĐĂK NÔNG   6361   6292   6212    6685\n",
       "62      64         TỈNH HẬU GIANG   6190   5707   5813    6819\n",
       "\n",
       "[63 rows x 6 columns]"
      ]
     },
     "execution_count": 25,
     "metadata": {},
     "output_type": "execute_result"
    }
   ],
   "source": [
    "df_cities"
   ]
  },
  {
   "cell_type": "code",
   "execution_count": 26,
   "metadata": {},
   "outputs": [
    {
     "data": {
      "text/plain": [
       "2018    True\n",
       "Name: 5, dtype: bool"
      ]
     },
     "execution_count": 26,
     "metadata": {},
     "output_type": "execute_result"
    }
   ],
   "source": [
    "df_city_passed.loc[5,[2018]]\n",
    "df_city_passed.loc[5,[2018]]\n",
    "df_cities.loc[5,[2018]]!=0"
   ]
  },
  {
   "cell_type": "code",
   "execution_count": 27,
   "metadata": {},
   "outputs": [],
   "source": [
    "percentage_passed_city = []\n",
    "year = 2018\n",
    "for i in range(len(df_cities)):\n",
    "    percent = math.nan\n",
    "    if(df_cities.loc[i,[year]].iloc[0] !=0 ):\n",
    "        percent = df_city_passed.loc[i,year] *1.0 / df_cities.loc[i,year]\n",
    "    percentage_passed_city.append(percent)"
   ]
  },
  {
   "cell_type": "markdown",
   "metadata": {},
   "source": [
    "#### Tình thành có tỉ lệ thí sinh đỗ cao nhất và thấp nhất năm 2018 là"
   ]
  },
  {
   "cell_type": "code",
   "execution_count": 28,
   "metadata": {},
   "outputs": [],
   "source": [
    "max_ratio=max(percentage_passed_city)\n",
    "min_ratio=min(percentage_passed_city)"
   ]
  },
  {
   "cell_type": "code",
   "execution_count": 29,
   "metadata": {},
   "outputs": [
    {
     "name": "stdout",
     "output_type": "stream",
     "text": [
      "Tỉ lệ:  94.66 %\n",
      "TenTinh    TỈNH QUẢNG NAM\n",
      "Name: 32, dtype: object\n"
     ]
    }
   ],
   "source": [
    "# CAO NHẤT\n",
    "print('Tỉ lệ: ', round(max_ratio*100,2), '%')\n",
    "print(df_cities.iloc[percentage_passed_city.index(max_ratio)].loc[['TenTinh']])"
   ]
  },
  {
   "cell_type": "code",
   "execution_count": 30,
   "metadata": {},
   "outputs": [
    {
     "name": "stdout",
     "output_type": "stream",
     "text": [
      "Tỉ lệ:  61.44 %\n",
      "TenTinh    TỈNH NAM ĐỊNH\n",
      "Name: 23, dtype: object\n"
     ]
    }
   ],
   "source": [
    "# CAO NHẤT\n",
    "print('Tỉ lệ: ', round(min_ratio*100,2),'%')\n",
    "print(df_cities.iloc[percentage_passed_city.index(min_ratio)].loc[['TenTinh']])"
   ]
  },
  {
   "cell_type": "markdown",
   "metadata": {},
   "source": [
    "**Câu hỏi 4:** \\\n",
    "Cho biết điểm thi môn Toán trên khắp cả nước\n",
    "Trực quan hóa sự thay đổi điểm số trung bình của tất cả các môn thi"
   ]
  },
  {
   "cell_type": "code",
   "execution_count": 31,
   "metadata": {},
   "outputs": [],
   "source": [
    "math_18 = df_results[df_results['Year']==2018].loc[:,'Toan']\n",
    "math_19 = df_results[df_results['Year']==2019].loc[:,'Toan']\n",
    "math_20 = df_results[df_results['Year']==2020].loc[:,'Toan']\n",
    "math_21 = df_results[df_results['Year']==2021].loc[:,'Toan']"
   ]
  },
  {
   "cell_type": "code",
   "execution_count": 32,
   "metadata": {},
   "outputs": [],
   "source": [
    "language_18 = df_results[df_results['Year']==2018].loc[:, 'Ngoai ngu']\n",
    "language_19 = df_results[df_results['Year']==2019].loc[:, 'Ngoai ngu']\n",
    "language_20 = df_results[df_results['Year']==2020].loc[:, 'Ngoai ngu']\n",
    "language_21 = df_results[df_results['Year']==2021].loc[:, 'Ngoai ngu']"
   ]
  },
  {
   "cell_type": "markdown",
   "metadata": {},
   "source": [
    "#### Trực quan hóa để thấy sự tương quan của tất cả các môn qua các năm"
   ]
  },
  {
   "cell_type": "code",
   "execution_count": 33,
   "metadata": {},
   "outputs": [
    {
     "data": {
      "image/png": "[encoded data removed]",
      "text/plain": [
       "<Figure size 1332x756 with 9 Axes>"
      ]
     },
     "metadata": {
      "needs_background": "light"
     },
     "output_type": "display_data"
    }
   ],
   "source": [
    "fig,a =  plt.subplots(3,3)\n",
    "fig.set_size_inches(18.5, 10.5, forward=True)\n",
    "x = np.array([2018,2019,2020,2021])\n",
    "\n",
    "all_subjects =[ 'Toan', 'Van', 'Ngoai ngu', 'Ly',  'Hoa','Sinh', 'Lich su','Dia ly', 'GDCD']\n",
    "i=0\n",
    "for subject in all_subjects:\n",
    "       mean_years = []\n",
    "       for year in years:\n",
    "              mean_years.append(np.mean(df_results[df_results['Year']==year][subject]))\n",
    "\n",
    "       a[int(i/3)][i%3].plot(x,np.array(mean_years))\n",
    "       a[int(i/3)][i%3].set_title(subject)\n",
    "       plt.ylim(0,10)\n",
    "       i+=1\n",
    "plt.show()"
   ]
  },
  {
   "cell_type": "markdown",
   "metadata": {},
   "source": [
    "**Câu hỏi 5**\n",
    "### Biểu đồ thể hiển phổ điểm của môn Toán và Ngoại ngữ qua các năm"
   ]
  },
  {
   "cell_type": "code",
   "execution_count": 34,
   "metadata": {},
   "outputs": [
    {
     "data": {
      "text/plain": [
       "Text(0.5, 1.0, '2021')"
      ]
     },
     "execution_count": 34,
     "metadata": {},
     "output_type": "execute_result"
    },
    {
     "data": {
      "image/png": "[encoded data removed]",
      "text/plain": [
       "<Figure size 1332x756 with 4 Axes>"
      ]
     },
     "metadata": {
      "needs_background": "light"
     },
     "output_type": "display_data"
    }
   ],
   "source": [
    "#Môn TOÁN\n",
    "\n",
    "fig,a =  plt.subplots(2,2)\n",
    "fig.set_size_inches(18.5, 10.5, forward=True)\n",
    "\n",
    "c = [0. , 0.2, 0.4, 0.6, 0.8, 1. , 1.2, 1.4, 1.6, 1.8, 2. , 2.2, 2.4,\n",
    "       2.6, 2.8, 3. , 3.2, 3.4, 3.6, 3.8, 4. , 4.2, 4.4, 4.6, 4.8, 5. ,\n",
    "       5.2, 5.4, 5.6, 5.8, 6. , 6.2, 6.4, 6.6, 6.8, 7. , 7.2, 7.4, 7.6,\n",
    "       7.8, 8. , 8.2, 8.4, 8.6, 8.8, 9. , 9.2, 9.4, 9.6, 9.8,10.0]\n",
    "\n",
    "a[0][0].hist(math_18,edgecolor=\"#6A9662\",color=\"#B3D4FC\")\n",
    "a[0][0].set_title('2018')\n",
    "a[0][1].hist(math_19,edgecolor=\"#6A9662\",color=\"#DDFFDD\")\n",
    "a[0][1].set_title('2019')\n",
    "a[1][0].hist(math_20,edgecolor=\"#6A9662\",color=\"#112971\")\n",
    "a[1][0].set_title('2020')\n",
    "a[1][1].hist(math_21,edgecolor=\"#6A9662\",color=\"#F16E28\")\n",
    "a[1][1].set_title('2021')"
   ]
  },
  {
   "cell_type": "code",
   "execution_count": 35,
   "metadata": {},
   "outputs": [
    {
     "data": {
      "text/html": [
       "<div>\n",
       "<style scoped>\n",
       "    .dataframe tbody tr th:only-of-type {\n",
       "        vertical-align: middle;\n",
       "    }\n",
       "\n",
       "    .dataframe tbody tr th {\n",
       "        vertical-align: top;\n",
       "    }\n",
       "\n",
       "    .dataframe thead th {\n",
       "        text-align: right;\n",
       "    }\n",
       "</style>\n",
       "<table border=\"1\" class=\"dataframe\">\n",
       "  <thead>\n",
       "    <tr style=\"text-align: right;\">\n",
       "      <th></th>\n",
       "      <th>SBD</th>\n",
       "      <th>Toan</th>\n",
       "      <th>Van</th>\n",
       "      <th>Ngoai ngu</th>\n",
       "      <th>Ly</th>\n",
       "      <th>Sinh</th>\n",
       "      <th>Hoa</th>\n",
       "      <th>Lich su</th>\n",
       "      <th>Dia ly</th>\n",
       "      <th>GDCD</th>\n",
       "      <th>Year</th>\n",
       "      <th>MaTinh</th>\n",
       "    </tr>\n",
       "  </thead>\n",
       "  <tbody>\n",
       "    <tr>\n",
       "      <th>847352</th>\n",
       "      <td>18010247</td>\n",
       "      <td>3.8</td>\n",
       "      <td>6.75</td>\n",
       "      <td>3.0</td>\n",
       "      <td>NaN</td>\n",
       "      <td>NaN</td>\n",
       "      <td>NaN</td>\n",
       "      <td>3.50</td>\n",
       "      <td>6.25</td>\n",
       "      <td>8.00</td>\n",
       "      <td>2018</td>\n",
       "      <td>18</td>\n",
       "    </tr>\n",
       "    <tr>\n",
       "      <th>847436</th>\n",
       "      <td>18019492</td>\n",
       "      <td>3.8</td>\n",
       "      <td>5.50</td>\n",
       "      <td>NaN</td>\n",
       "      <td>NaN</td>\n",
       "      <td>NaN</td>\n",
       "      <td>NaN</td>\n",
       "      <td>3.00</td>\n",
       "      <td>5.75</td>\n",
       "      <td>NaN</td>\n",
       "      <td>2018</td>\n",
       "      <td>18</td>\n",
       "    </tr>\n",
       "    <tr>\n",
       "      <th>847520</th>\n",
       "      <td>18009412</td>\n",
       "      <td>3.8</td>\n",
       "      <td>3.75</td>\n",
       "      <td>2.8</td>\n",
       "      <td>NaN</td>\n",
       "      <td>NaN</td>\n",
       "      <td>NaN</td>\n",
       "      <td>5.00</td>\n",
       "      <td>5.25</td>\n",
       "      <td>6.75</td>\n",
       "      <td>2018</td>\n",
       "      <td>18</td>\n",
       "    </tr>\n",
       "    <tr>\n",
       "      <th>847542</th>\n",
       "      <td>18009323</td>\n",
       "      <td>3.8</td>\n",
       "      <td>5.75</td>\n",
       "      <td>2.8</td>\n",
       "      <td>2.75</td>\n",
       "      <td>2.75</td>\n",
       "      <td>3.0</td>\n",
       "      <td>3.50</td>\n",
       "      <td>6.00</td>\n",
       "      <td>7.00</td>\n",
       "      <td>2018</td>\n",
       "      <td>18</td>\n",
       "    </tr>\n",
       "    <tr>\n",
       "      <th>847569</th>\n",
       "      <td>18018423</td>\n",
       "      <td>3.8</td>\n",
       "      <td>6.50</td>\n",
       "      <td>3.4</td>\n",
       "      <td>NaN</td>\n",
       "      <td>NaN</td>\n",
       "      <td>NaN</td>\n",
       "      <td>8.00</td>\n",
       "      <td>5.25</td>\n",
       "      <td>7.50</td>\n",
       "      <td>2018</td>\n",
       "      <td>18</td>\n",
       "    </tr>\n",
       "    <tr>\n",
       "      <th>...</th>\n",
       "      <td>...</td>\n",
       "      <td>...</td>\n",
       "      <td>...</td>\n",
       "      <td>...</td>\n",
       "      <td>...</td>\n",
       "      <td>...</td>\n",
       "      <td>...</td>\n",
       "      <td>...</td>\n",
       "      <td>...</td>\n",
       "      <td>...</td>\n",
       "      <td>...</td>\n",
       "      <td>...</td>\n",
       "    </tr>\n",
       "    <tr>\n",
       "      <th>4198820</th>\n",
       "      <td>64006547</td>\n",
       "      <td>3.8</td>\n",
       "      <td>NaN</td>\n",
       "      <td>NaN</td>\n",
       "      <td>3.50</td>\n",
       "      <td>NaN</td>\n",
       "      <td>3.5</td>\n",
       "      <td>NaN</td>\n",
       "      <td>NaN</td>\n",
       "      <td>NaN</td>\n",
       "      <td>2021</td>\n",
       "      <td>64</td>\n",
       "    </tr>\n",
       "    <tr>\n",
       "      <th>4198837</th>\n",
       "      <td>64006542</td>\n",
       "      <td>3.8</td>\n",
       "      <td>4.50</td>\n",
       "      <td>NaN</td>\n",
       "      <td>NaN</td>\n",
       "      <td>NaN</td>\n",
       "      <td>NaN</td>\n",
       "      <td>6.50</td>\n",
       "      <td>NaN</td>\n",
       "      <td>NaN</td>\n",
       "      <td>2021</td>\n",
       "      <td>64</td>\n",
       "    </tr>\n",
       "    <tr>\n",
       "      <th>4198944</th>\n",
       "      <td>64006483</td>\n",
       "      <td>3.8</td>\n",
       "      <td>5.00</td>\n",
       "      <td>NaN</td>\n",
       "      <td>NaN</td>\n",
       "      <td>NaN</td>\n",
       "      <td>NaN</td>\n",
       "      <td>6.25</td>\n",
       "      <td>6.75</td>\n",
       "      <td>NaN</td>\n",
       "      <td>2021</td>\n",
       "      <td>64</td>\n",
       "    </tr>\n",
       "    <tr>\n",
       "      <th>4198949</th>\n",
       "      <td>64006567</td>\n",
       "      <td>3.8</td>\n",
       "      <td>4.00</td>\n",
       "      <td>NaN</td>\n",
       "      <td>NaN</td>\n",
       "      <td>NaN</td>\n",
       "      <td>NaN</td>\n",
       "      <td>5.00</td>\n",
       "      <td>NaN</td>\n",
       "      <td>NaN</td>\n",
       "      <td>2021</td>\n",
       "      <td>64</td>\n",
       "    </tr>\n",
       "    <tr>\n",
       "      <th>4198981</th>\n",
       "      <td>64006681</td>\n",
       "      <td>3.8</td>\n",
       "      <td>4.17</td>\n",
       "      <td>NaN</td>\n",
       "      <td>NaN</td>\n",
       "      <td>NaN</td>\n",
       "      <td>NaN</td>\n",
       "      <td>3.25</td>\n",
       "      <td>NaN</td>\n",
       "      <td>NaN</td>\n",
       "      <td>2021</td>\n",
       "      <td>64</td>\n",
       "    </tr>\n",
       "  </tbody>\n",
       "</table>\n",
       "<p>73713 rows × 12 columns</p>\n",
       "</div>"
      ],
      "text/plain": [
       "              SBD  Toan   Van  Ngoai ngu    Ly  Sinh  Hoa  Lich su  Dia ly  \\\n",
       "847352   18010247   3.8  6.75        3.0   NaN   NaN  NaN     3.50    6.25   \n",
       "847436   18019492   3.8  5.50        NaN   NaN   NaN  NaN     3.00    5.75   \n",
       "847520   18009412   3.8  3.75        2.8   NaN   NaN  NaN     5.00    5.25   \n",
       "847542   18009323   3.8  5.75        2.8  2.75  2.75  3.0     3.50    6.00   \n",
       "847569   18018423   3.8  6.50        3.4   NaN   NaN  NaN     8.00    5.25   \n",
       "...           ...   ...   ...        ...   ...   ...  ...      ...     ...   \n",
       "4198820  64006547   3.8   NaN        NaN  3.50   NaN  3.5      NaN     NaN   \n",
       "4198837  64006542   3.8  4.50        NaN   NaN   NaN  NaN     6.50     NaN   \n",
       "4198944  64006483   3.8  5.00        NaN   NaN   NaN  NaN     6.25    6.75   \n",
       "4198949  64006567   3.8  4.00        NaN   NaN   NaN  NaN     5.00     NaN   \n",
       "4198981  64006681   3.8  4.17        NaN   NaN   NaN  NaN     3.25     NaN   \n",
       "\n",
       "         GDCD  Year  MaTinh  \n",
       "847352   8.00  2018      18  \n",
       "847436    NaN  2018      18  \n",
       "847520   6.75  2018      18  \n",
       "847542   7.00  2018      18  \n",
       "847569   7.50  2018      18  \n",
       "...       ...   ...     ...  \n",
       "4198820   NaN  2021      64  \n",
       "4198837   NaN  2021      64  \n",
       "4198944   NaN  2021      64  \n",
       "4198949   NaN  2021      64  \n",
       "4198981   NaN  2021      64  \n",
       "\n",
       "[73713 rows x 12 columns]"
      ]
     },
     "execution_count": 35,
     "metadata": {},
     "output_type": "execute_result"
    }
   ],
   "source": [
    "df_results[df_results['Toan']==3.8]"
   ]
  },
  {
   "cell_type": "code",
   "execution_count": 36,
   "metadata": {},
   "outputs": [
    {
     "data": {
      "text/plain": [
       "Text(0.5, 1.0, '2021')"
      ]
     },
     "execution_count": 36,
     "metadata": {},
     "output_type": "execute_result"
    },
    {
     "data": {
      "image/png": "[encoded data removed]",
      "text/plain": [
       "<Figure size 1332x756 with 4 Axes>"
      ]
     },
     "metadata": {
      "needs_background": "light"
     },
     "output_type": "display_data"
    }
   ],
   "source": [
    "#Môn Ngoại ngữ\n",
    "\n",
    "fig,a =  plt.subplots(2,2)\n",
    "fig.set_size_inches(18.5, 10.5, forward=True)\n",
    "x = np.array(df_cities['MaTinh'])\n",
    "\n",
    "x = np.arange(1,5)\n",
    "a[0][0].hist(language_18,edgecolor=\"#6A9662\",color=\"#B3D4FC\")\n",
    "a[0][0].set_title('2018')\n",
    "a[0][1].hist(language_19,edgecolor=\"#6A9662\",color=\"#DDFFDD\")\n",
    "a[0][1].set_title('2019')\n",
    "a[1][0].hist(language_20,edgecolor=\"#6A9662\",color=\"#112971\")\n",
    "a[1][0].set_title('2020')\n",
    "a[1][1].hist(language_21,edgecolor=\"#6A9662\",color=\"#659AD3\")\n",
    "a[1][1].set_title('2021')"
   ]
  },
  {
   "cell_type": "markdown",
   "metadata": {},
   "source": [
    "### So sánh phổ điểm của môn Toán và Ngoại ngữ theo sự thay đổi từng năm theo đồ thị đã được trực quan\n",
    "Liệu có thể nói như một số bài báo là Ngoại ngữ (cụ thể là tiếng Anh) hiện nay không được các bạn trẻ ưu tiên lấy đó để xét điểm vào đại học ??"
   ]
  },
  {
   "cell_type": "markdown",
   "metadata": {},
   "source": [
    "**Trả lời**"
   ]
  },
  {
   "cell_type": "markdown",
   "metadata": {},
   "source": [
    "\n",
    "ở các bài thi môn toán qua từng năm có sự thay đổi rõ rệt, vẫn là biểu đồ bị lệch về bên phải cho thấy điểm trung binh đạt được là khá cao và có xu hướng đang dần tăng lên, điều này có thể được giải thích theo 2 hướng tích cực và tiêu cực\n",
    "- Tích cực là: Toán là một môn bắt buộc và tất cả các thí sinh tham gia luôn trong tâm thế đạt được điểm cao nhất có thể để dễ dàng hơn cho các ôn sau, nó cũng là tiền đề để học tốt các bộ môn về tự nhiên\n",
    "- Tiêu cực là: Do vấn đề về dịch bênh cũng như việc xét tuyển ĐH đã không còn quá phụ thuộc vào điểm số của kì thi THPTQG nên đề có xu hướng dễ chịu hơn, nghiêng về hướng muốn học sinh được tốt nghiệp với điểm số cao và không quan tâm đến tình trạng *lạm phát điểm*"
   ]
  },
  {
   "cell_type": "markdown",
   "metadata": {},
   "source": [
    "Bài thi Ngoại ngữ thì lại là đồ thị lệch về bên trái thể hiện việc điểm số không hề cao và phần nhiều là các trường họp dưới trung bình, có thể thấy qua các bài báo thường đăng về việc có >40% học sinh tham gia THPTQG có điểm số thấp. Tuy nhiên điểm liệt thấp cho thấy đề thi vẫn đảm bảo đủ điều kiện cho HS tốt nghiệp.\n",
    "- Ở các năm trước, điểm số có phần rất thấp so với năm 2021, điều này được lí giải là do hiện tại xu hướng xét tuyển bằng điểm thi trong trường và các bằng Anh Văn Quốc tế là vô cùng phổ biến trong hiện tại, phải gọi là xu thế cho các bạn không muốn phải khó khăn trong việc ôn luyện nhiều môn mòa chỉ cần quan tâm vào bằng tiếng anh là được\n",
    "- Ỏ năm 2021, điểm số tăng cao vượt trội hơn cả với môn toán\n",
    "- Tỉnh trạng này còn có thể là do đề thi hiện tại được đánh giá là dễ hơn so với các năm trước và các môn thi tổ hợp (tự nhiên) trong cùng năm"
   ]
  },
  {
   "cell_type": "markdown",
   "metadata": {},
   "source": [
    "# Còn tiếp ....\n",
    "hãy trả lời giừm tớ đuy"
   ]
  },
  {
   "cell_type": "markdown",
   "metadata": {},
   "source": [
    "**Câu hỏi 6**\\\n",
    "So sánh số lượng người thi tổ hợp Khoa học tự nhiên và Khoa học xã hội trong 4 năm\n",
    "- KHTN: Lí Hóa Sinh\n",
    "- KHXH: Sử Địa GDCD"
   ]
  },
  {
   "cell_type": "markdown",
   "metadata": {},
   "source": [
    "Cho biết số lượng thí sinh tham dự bài thi tổ hợp **KHTN** hoặc **KHXH** là các học sinh tham gia thi tối thiểu 1 trong 3 môn của tổ hợp\\\n",
    "Vậy nên để tranh tình trạng có những bài thi làm ít hơn 3 bài thì mình sẽ *lấy số lượng của môn thi **cao nhất** trong cả 3 môn* và tính ra số lượng bài thi tổ hợp"
   ]
  },
  {
   "cell_type": "code",
   "execution_count": 37,
   "metadata": {},
   "outputs": [],
   "source": [
    "science_subjects = ['Ly', 'Hoa', 'Sinh']\n",
    "social_subjects = ['Lich su', 'Dia ly', 'GDCD']"
   ]
  },
  {
   "cell_type": "code",
   "execution_count": 38,
   "metadata": {},
   "outputs": [
    {
     "data": {
      "text/plain": [
       "1249962"
      ]
     },
     "execution_count": 38,
     "metadata": {},
     "output_type": "execute_result"
    }
   ],
   "source": [
    "count_science=0\n",
    "for subject in science_subjects:\n",
    "    if(df_results[subject].count() > count_science):\n",
    "        count_science = df_results[subject].count()\n",
    "count_science"
   ]
  },
  {
   "cell_type": "code",
   "execution_count": 39,
   "metadata": {},
   "outputs": [
    {
     "data": {
      "text/plain": [
       "2144812"
      ]
     },
     "execution_count": 39,
     "metadata": {},
     "output_type": "execute_result"
    }
   ],
   "source": [
    "count_social=0\n",
    "for subject in social_subjects:\n",
    "    if(df_results[subject].count() > count_social):\n",
    "        count_social = df_results[subject].count()\n",
    "count_social"
   ]
  },
  {
   "cell_type": "code",
   "execution_count": 40,
   "metadata": {},
   "outputs": [
    {
     "data": {
      "text/plain": [
       "True"
      ]
     },
     "execution_count": 40,
     "metadata": {},
     "output_type": "execute_result"
    }
   ],
   "source": [
    "count_science + count_social > df_results['SBD'].count()"
   ]
  },
  {
   "cell_type": "markdown",
   "metadata": {},
   "source": [
    "**Kết luận**\n",
    "=> Có nhiều trường hợp sinh viên thi cả 2 tổ hợp trong 4 năm"
   ]
  },
  {
   "cell_type": "code",
   "execution_count": 41,
   "metadata": {},
   "outputs": [
    {
     "data": {
      "image/png": "[encoded data removed]",
      "text/plain": [
       "<Figure size 432x288 with 1 Axes>"
      ]
     },
     "metadata": {},
     "output_type": "display_data"
    }
   ],
   "source": [
    "# fig = plt.figure()\n",
    "labels = ['Tổ họp Khoa học Tự nhiên', 'Tổ hợp Khoa học Xã hội']\n",
    "plt.pie([count_science,count_social], labels = labels,autopct='%1.2f%%', textprops={'color':\"w\"})\n",
    "plt.show()"
   ]
  },
  {
   "cell_type": "markdown",
   "metadata": {},
   "source": [
    "### Vẽ biểu đồ so sánh số lượng các bài thi tổ hợp trong mỗi năm"
   ]
  },
  {
   "cell_type": "code",
   "execution_count": 42,
   "metadata": {},
   "outputs": [
    {
     "name": "stdout",
     "output_type": "stream",
     "text": [
      "1239159\n",
      "1239159\n",
      "1239159\n",
      "1239159\n"
     ]
    }
   ],
   "source": [
    "for year in years:\n",
    "    count_science=0\n",
    "    for subject in science_subjects:\n",
    "        if(df_results[df_results['Year']==year].loc[:,subject].count() > count_science):\n",
    "            count_science = df_results[subject].count()\n",
    "    print(count_science)\n",
    "\n",
    "\n",
    "# count_science=0\n",
    "# for subject in science_subjects:\n",
    "#     if(df_results[subject].count() > count_science):\n",
    "#         count_science = df_results[subject].count()\n",
    "# count_science"
   ]
  },
  {
   "cell_type": "code",
   "execution_count": 43,
   "metadata": {},
   "outputs": [
    {
     "data": {
      "text/plain": [
       "['Ly', 'Hoa', 'Sinh']"
      ]
     },
     "execution_count": 43,
     "metadata": {},
     "output_type": "execute_result"
    }
   ],
   "source": [
    "science_subjects"
   ]
  },
  {
   "cell_type": "code",
   "execution_count": 44,
   "metadata": {},
   "outputs": [
    {
     "name": "stdout",
     "output_type": "stream",
     "text": [
      "293287\n",
      "295536\n",
      "290377\n"
     ]
    }
   ],
   "source": [
    "count_science=0\n",
    "for subject in science_subjects:\n",
    "    if(df_results[df_results['Year']==2020].loc[:,subject].count() > count_science):\n",
    "        print(df_results[df_results['Year']==2020].loc[:,subject].count())\n",
    "        # count_science = df_results[subject].count()\n",
    "# print(count_science)"
   ]
  },
  {
   "cell_type": "markdown",
   "metadata": {},
   "source": [
    "**Câu hỏi 7**\\\n",
    "So sánh số lượng các bài thi tổ hợp và xem Tổ hợp nào hiện đang là xu thế và có điểm số lấn át với những tổ hợp khác"
   ]
  },
  {
   "cell_type": "markdown",
   "metadata": {},
   "source": [
    "**cụ thể**\\\n",
    "Dưới đây chúng ta chỉ xét những tổ hợp đơn giản\n",
    "- A00 : Toán - Lý - Hóa\n",
    "- A01 : Toán - Lý - Anh\n",
    "- B00 : Toán - Hóa -Sinh\n",
    "- C00 : Ngữ Văn - Địa lý - Lịch sử\n",
    "- D07 : Ngữ Văn - Ngoại ngữ - Hóa học"
   ]
  }
 ],
 "metadata": {
  "kernelspec": {
   "display_name": "Python 3.9.7 64-bit",
   "language": "python",
   "name": "python3"
  },
  "language_info": {
   "codemirror_mode": {
    "name": "ipython",
    "version": 3
   },
   "file_extension": ".py",
   "mimetype": "text/x-python",
   "name": "python",
   "nbconvert_exporter": "python",
   "pygments_lexer": "ipython3",
   "version": "3.9.7"
  },
  "orig_nbformat": 4,
  "vscode": {
   "interpreter": {
    "hash": "6bfec4ce93f3c8730c5305a78a297c4af7425bada9233a6e3b20f480ff32d241"
   }
  }
 },
 "nbformat": 4,
 "nbformat_minor": 2
}

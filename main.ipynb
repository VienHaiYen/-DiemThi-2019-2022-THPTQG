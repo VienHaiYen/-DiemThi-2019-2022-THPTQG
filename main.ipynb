{
 "cells": [
  {
   "cell_type": "markdown",
   "metadata": {},
   "source": [
    "### ĐỒ ÁN CUỐI KÌ LẬP TRÌNH CHO KHOA HỌC DỮ LIỆU **LÝ THUYẾT**"
   ]
  },
  {
   "cell_type": "markdown",
   "metadata": {},
   "source": [
    "## Thu thập dữ liệu từ web\n",
    "Đào từ web xuống tất cả các kết quả thi của thí sinh từ năm [2015-2022]"
   ]
  },
  {
   "cell_type": "code",
   "execution_count": 63,
   "metadata": {},
   "outputs": [],
   "source": [
    "import numpy as np\n",
    "import pandas as pd\n",
    "import seaborn as sns\n",
    "import matplotlib.pyplot as plt\n",
    "import requests\n",
    "import json"
   ]
  },
  {
   "cell_type": "code",
   "execution_count": 64,
   "metadata": {},
   "outputs": [],
   "source": [
    "# https://diemthi.vnanet.vn/BTT-tra-cuu-diem-thi-THPT-2019\n",
    "# https://diemthi.vnanet.vn/Home/SearchBySobaodanhFile?code=02070045&nam=2019\n",
    "# HCM :  [02000001, 02071045]"
   ]
  },
  {
   "cell_type": "code",
   "execution_count": 65,
   "metadata": {},
   "outputs": [
    {
     "data": {
      "text/html": [
       "<div>\n",
       "<style scoped>\n",
       "    .dataframe tbody tr th:only-of-type {\n",
       "        vertical-align: middle;\n",
       "    }\n",
       "\n",
       "    .dataframe tbody tr th {\n",
       "        vertical-align: top;\n",
       "    }\n",
       "\n",
       "    .dataframe thead th {\n",
       "        text-align: right;\n",
       "    }\n",
       "</style>\n",
       "<table border=\"1\" class=\"dataframe\">\n",
       "  <thead>\n",
       "    <tr style=\"text-align: right;\">\n",
       "      <th></th>\n",
       "      <th>MaTinh</th>\n",
       "      <th>TenTinh</th>\n",
       "    </tr>\n",
       "  </thead>\n",
       "  <tbody>\n",
       "    <tr>\n",
       "      <th>0</th>\n",
       "      <td>1</td>\n",
       "      <td>THÀNH PHỐ HÀ NỘI</td>\n",
       "    </tr>\n",
       "    <tr>\n",
       "      <th>1</th>\n",
       "      <td>2</td>\n",
       "      <td>THÀNH PHỐ HỒ CHÍ MINH</td>\n",
       "    </tr>\n",
       "    <tr>\n",
       "      <th>2</th>\n",
       "      <td>3</td>\n",
       "      <td>THÀNH PHỐ HẢI PHÒNG</td>\n",
       "    </tr>\n",
       "    <tr>\n",
       "      <th>3</th>\n",
       "      <td>4</td>\n",
       "      <td>THÀNH PHỐ ĐÀ NẴNG</td>\n",
       "    </tr>\n",
       "    <tr>\n",
       "      <th>4</th>\n",
       "      <td>5</td>\n",
       "      <td>TỈNH HÀ GIANG</td>\n",
       "    </tr>\n",
       "  </tbody>\n",
       "</table>\n",
       "</div>"
      ],
      "text/plain": [
       "   MaTinh                TenTinh\n",
       "0       1       THÀNH PHỐ HÀ NỘI\n",
       "1       2  THÀNH PHỐ HỒ CHÍ MINH\n",
       "2       3    THÀNH PHỐ HẢI PHÒNG\n",
       "3       4      THÀNH PHỐ ĐÀ NẴNG\n",
       "4       5          TỈNH HÀ GIANG"
      ]
     },
     "execution_count": 65,
     "metadata": {},
     "output_type": "execute_result"
    }
   ],
   "source": [
    "df_cities = pd.read_csv('./[2018-2021] thptqg-data/Tinh.csv')\n",
    "df_cities.head()"
   ]
  },
  {
   "cell_type": "code",
   "execution_count": 114,
   "metadata": {},
   "outputs": [],
   "source": [
    "years=[2019,2021,2021,2022]\n",
    "subjects=[\"Toan\",\"Van\",\"Ngoai ngu\",\"Ly\",\"Sinh\",\"Hoa\",\"Lich su\",\"Dia ly\",\"GDCD\"]"
   ]
  },
  {
   "cell_type": "code",
   "execution_count": 67,
   "metadata": {},
   "outputs": [],
   "source": [
    "def get_result_item(result,year):\n",
    "    maTinh = round(int(result['Code'])/1000000)\n",
    "    obj = {\n",
    "        'SBD':result['Code'],\n",
    "        'Toan': result['Toan'],\n",
    "        'Van': result['NguVan'],\n",
    "        'Ngoai ngu': result['NgoaiNgu'],\n",
    "        'Sinh': result['SinhHoc'],\n",
    "        'Hoa': result['HoaHoc'],\n",
    "        'Ly': result['VatLi'],\n",
    "        'Dia ly': result['DiaLi'],\n",
    "        'Lich su': result['LichSu'],\n",
    "        'GDCD': result['GDCD'],\n",
    "        'MaTinh': maTinh,\n",
    "        'Year':year\n",
    "    },\n",
    "    return pd.DataFrame(obj)\n"
   ]
  },
  {
   "cell_type": "code",
   "execution_count": 68,
   "metadata": {},
   "outputs": [],
   "source": [
    "df_results = pd.DataFrame()"
   ]
  },
  {
   "cell_type": "code",
   "execution_count": 69,
   "metadata": {},
   "outputs": [],
   "source": [
    "# for year in years:\n",
    "#     for i in df_cities['MaTinh']:\n",
    "#         ms = 1\n",
    "#         enable = True\n",
    "#         while enable ==True:\n",
    "#             res = requests.get('https://diemthi.vnanet.vn/Home/SearchBySobaodanhFile?code={:02d}{:06d}&nam={year}'.format(i, ms,year=year))\n",
    "#             response = json.loads(res.text)\n",
    "#             result = response['result']\n",
    "#             if (len(result)==0):\n",
    "#                 enable=False\n",
    "#             else:\n",
    "#                 df_results = pd.concat([df_results,get_result_item(result[0],year)],ignore_index = True)\n",
    "#                 ms+=1\n"
   ]
  },
  {
   "cell_type": "code",
   "execution_count": 70,
   "metadata": {},
   "outputs": [],
   "source": [
    "y_2017 = pd.read_csv('./dataset/2017.csv')\n",
    "y_2018 = pd.read_csv('./dataset/2018.csv')\n",
    "y_2019 = pd.read_csv('./dataset/2019.csv')\n",
    "y_2020 = pd.read_csv('./dataset/2020.csv')\n",
    "y_2021 = pd.read_csv('./dataset/2021.csv')\n",
    "y_2022 = pd.read_csv('./dataset/2022.csv')"
   ]
  },
  {
   "cell_type": "code",
   "execution_count": 71,
   "metadata": {},
   "outputs": [],
   "source": [
    "df_results = pd.concat([y_2017,y_2018,y_2019,y_2020,y_2021,y_2022])"
   ]
  },
  {
   "cell_type": "code",
   "execution_count": 72,
   "metadata": {},
   "outputs": [
    {
     "data": {
      "text/html": [
       "<div>\n",
       "<style scoped>\n",
       "    .dataframe tbody tr th:only-of-type {\n",
       "        vertical-align: middle;\n",
       "    }\n",
       "\n",
       "    .dataframe tbody tr th {\n",
       "        vertical-align: top;\n",
       "    }\n",
       "\n",
       "    .dataframe thead th {\n",
       "        text-align: right;\n",
       "    }\n",
       "</style>\n",
       "<table border=\"1\" class=\"dataframe\">\n",
       "  <thead>\n",
       "    <tr style=\"text-align: right;\">\n",
       "      <th></th>\n",
       "      <th>SBD</th>\n",
       "      <th>MaTinh</th>\n",
       "      <th>Toan</th>\n",
       "      <th>Van</th>\n",
       "      <th>Ly</th>\n",
       "      <th>Hoa</th>\n",
       "      <th>Sinh</th>\n",
       "      <th>Lich su</th>\n",
       "      <th>Dia ly</th>\n",
       "      <th>GDCD</th>\n",
       "      <th>Ngoai ngu</th>\n",
       "      <th>Year</th>\n",
       "    </tr>\n",
       "  </thead>\n",
       "  <tbody>\n",
       "    <tr>\n",
       "      <th>995376</th>\n",
       "      <td>64006555</td>\n",
       "      <td>64</td>\n",
       "      <td>6.2</td>\n",
       "      <td>4.75</td>\n",
       "      <td>NaN</td>\n",
       "      <td>NaN</td>\n",
       "      <td>NaN</td>\n",
       "      <td>5.00</td>\n",
       "      <td>6.00</td>\n",
       "      <td>7.00</td>\n",
       "      <td>2.8</td>\n",
       "      <td>2022</td>\n",
       "    </tr>\n",
       "    <tr>\n",
       "      <th>995377</th>\n",
       "      <td>64006584</td>\n",
       "      <td>64</td>\n",
       "      <td>8.4</td>\n",
       "      <td>6.75</td>\n",
       "      <td>NaN</td>\n",
       "      <td>NaN</td>\n",
       "      <td>NaN</td>\n",
       "      <td>6.50</td>\n",
       "      <td>6.75</td>\n",
       "      <td>9.00</td>\n",
       "      <td>4.6</td>\n",
       "      <td>2022</td>\n",
       "    </tr>\n",
       "    <tr>\n",
       "      <th>995378</th>\n",
       "      <td>64006576</td>\n",
       "      <td>64</td>\n",
       "      <td>6.6</td>\n",
       "      <td>5.25</td>\n",
       "      <td>NaN</td>\n",
       "      <td>NaN</td>\n",
       "      <td>NaN</td>\n",
       "      <td>4.50</td>\n",
       "      <td>5.50</td>\n",
       "      <td>8.50</td>\n",
       "      <td>3.2</td>\n",
       "      <td>2022</td>\n",
       "    </tr>\n",
       "    <tr>\n",
       "      <th>995379</th>\n",
       "      <td>64006583</td>\n",
       "      <td>64</td>\n",
       "      <td>5.0</td>\n",
       "      <td>6.50</td>\n",
       "      <td>NaN</td>\n",
       "      <td>NaN</td>\n",
       "      <td>NaN</td>\n",
       "      <td>6.75</td>\n",
       "      <td>7.50</td>\n",
       "      <td>8.50</td>\n",
       "      <td>3.8</td>\n",
       "      <td>2022</td>\n",
       "    </tr>\n",
       "    <tr>\n",
       "      <th>995380</th>\n",
       "      <td>64006581</td>\n",
       "      <td>64</td>\n",
       "      <td>6.6</td>\n",
       "      <td>6.00</td>\n",
       "      <td>NaN</td>\n",
       "      <td>NaN</td>\n",
       "      <td>NaN</td>\n",
       "      <td>6.00</td>\n",
       "      <td>6.75</td>\n",
       "      <td>7.75</td>\n",
       "      <td>4.2</td>\n",
       "      <td>2022</td>\n",
       "    </tr>\n",
       "  </tbody>\n",
       "</table>\n",
       "</div>"
      ],
      "text/plain": [
       "             SBD  MaTinh  Toan   Van  Ly  Hoa  Sinh  Lich su  Dia ly  GDCD  \\\n",
       "995376  64006555      64   6.2  4.75 NaN  NaN   NaN     5.00    6.00  7.00   \n",
       "995377  64006584      64   8.4  6.75 NaN  NaN   NaN     6.50    6.75  9.00   \n",
       "995378  64006576      64   6.6  5.25 NaN  NaN   NaN     4.50    5.50  8.50   \n",
       "995379  64006583      64   5.0  6.50 NaN  NaN   NaN     6.75    7.50  8.50   \n",
       "995380  64006581      64   6.6  6.00 NaN  NaN   NaN     6.00    6.75  7.75   \n",
       "\n",
       "        Ngoai ngu  Year  \n",
       "995376        2.8  2022  \n",
       "995377        4.6  2022  \n",
       "995378        3.2  2022  \n",
       "995379        3.8  2022  \n",
       "995380        4.2  2022  "
      ]
     },
     "execution_count": 72,
     "metadata": {},
     "output_type": "execute_result"
    }
   ],
   "source": [
    "df_results.tail()"
   ]
  },
  {
   "cell_type": "code",
   "execution_count": 73,
   "metadata": {},
   "outputs": [
    {
     "data": {
      "text/html": [
       "<div>\n",
       "<style scoped>\n",
       "    .dataframe tbody tr th:only-of-type {\n",
       "        vertical-align: middle;\n",
       "    }\n",
       "\n",
       "    .dataframe tbody tr th {\n",
       "        vertical-align: top;\n",
       "    }\n",
       "\n",
       "    .dataframe thead th {\n",
       "        text-align: right;\n",
       "    }\n",
       "</style>\n",
       "<table border=\"1\" class=\"dataframe\">\n",
       "  <thead>\n",
       "    <tr style=\"text-align: right;\">\n",
       "      <th></th>\n",
       "      <th>SBD</th>\n",
       "      <th>MaTinh</th>\n",
       "      <th>Toan</th>\n",
       "      <th>Van</th>\n",
       "      <th>Ly</th>\n",
       "      <th>Hoa</th>\n",
       "      <th>Sinh</th>\n",
       "      <th>Lich su</th>\n",
       "      <th>Dia ly</th>\n",
       "      <th>GDCD</th>\n",
       "      <th>Ngoai ngu</th>\n",
       "      <th>Year</th>\n",
       "    </tr>\n",
       "  </thead>\n",
       "  <tbody>\n",
       "    <tr>\n",
       "      <th>995376</th>\n",
       "      <td>64006555</td>\n",
       "      <td>64</td>\n",
       "      <td>6.2</td>\n",
       "      <td>4.75</td>\n",
       "      <td>NaN</td>\n",
       "      <td>NaN</td>\n",
       "      <td>NaN</td>\n",
       "      <td>5.00</td>\n",
       "      <td>6.00</td>\n",
       "      <td>7.00</td>\n",
       "      <td>2.8</td>\n",
       "      <td>2022</td>\n",
       "    </tr>\n",
       "    <tr>\n",
       "      <th>995377</th>\n",
       "      <td>64006584</td>\n",
       "      <td>64</td>\n",
       "      <td>8.4</td>\n",
       "      <td>6.75</td>\n",
       "      <td>NaN</td>\n",
       "      <td>NaN</td>\n",
       "      <td>NaN</td>\n",
       "      <td>6.50</td>\n",
       "      <td>6.75</td>\n",
       "      <td>9.00</td>\n",
       "      <td>4.6</td>\n",
       "      <td>2022</td>\n",
       "    </tr>\n",
       "    <tr>\n",
       "      <th>995378</th>\n",
       "      <td>64006576</td>\n",
       "      <td>64</td>\n",
       "      <td>6.6</td>\n",
       "      <td>5.25</td>\n",
       "      <td>NaN</td>\n",
       "      <td>NaN</td>\n",
       "      <td>NaN</td>\n",
       "      <td>4.50</td>\n",
       "      <td>5.50</td>\n",
       "      <td>8.50</td>\n",
       "      <td>3.2</td>\n",
       "      <td>2022</td>\n",
       "    </tr>\n",
       "    <tr>\n",
       "      <th>995379</th>\n",
       "      <td>64006583</td>\n",
       "      <td>64</td>\n",
       "      <td>5.0</td>\n",
       "      <td>6.50</td>\n",
       "      <td>NaN</td>\n",
       "      <td>NaN</td>\n",
       "      <td>NaN</td>\n",
       "      <td>6.75</td>\n",
       "      <td>7.50</td>\n",
       "      <td>8.50</td>\n",
       "      <td>3.8</td>\n",
       "      <td>2022</td>\n",
       "    </tr>\n",
       "    <tr>\n",
       "      <th>995380</th>\n",
       "      <td>64006581</td>\n",
       "      <td>64</td>\n",
       "      <td>6.6</td>\n",
       "      <td>6.00</td>\n",
       "      <td>NaN</td>\n",
       "      <td>NaN</td>\n",
       "      <td>NaN</td>\n",
       "      <td>6.00</td>\n",
       "      <td>6.75</td>\n",
       "      <td>7.75</td>\n",
       "      <td>4.2</td>\n",
       "      <td>2022</td>\n",
       "    </tr>\n",
       "  </tbody>\n",
       "</table>\n",
       "</div>"
      ],
      "text/plain": [
       "             SBD  MaTinh  Toan   Van  Ly  Hoa  Sinh  Lich su  Dia ly  GDCD  \\\n",
       "995376  64006555      64   6.2  4.75 NaN  NaN   NaN     5.00    6.00  7.00   \n",
       "995377  64006584      64   8.4  6.75 NaN  NaN   NaN     6.50    6.75  9.00   \n",
       "995378  64006576      64   6.6  5.25 NaN  NaN   NaN     4.50    5.50  8.50   \n",
       "995379  64006583      64   5.0  6.50 NaN  NaN   NaN     6.75    7.50  8.50   \n",
       "995380  64006581      64   6.6  6.00 NaN  NaN   NaN     6.00    6.75  7.75   \n",
       "\n",
       "        Ngoai ngu  Year  \n",
       "995376        2.8  2022  \n",
       "995377        4.6  2022  \n",
       "995378        3.2  2022  \n",
       "995379        3.8  2022  \n",
       "995380        4.2  2022  "
      ]
     },
     "execution_count": 73,
     "metadata": {},
     "output_type": "execute_result"
    }
   ],
   "source": [
    "df_results.tail()"
   ]
  },
  {
   "cell_type": "code",
   "execution_count": 74,
   "metadata": {},
   "outputs": [],
   "source": [
    "df_results.head(10)\n",
    "df_results.to_csv('2017-2022.csv',index=False)"
   ]
  },
  {
   "cell_type": "markdown",
   "metadata": {},
   "source": [
    "## Khám phá dữ liệu"
   ]
  },
  {
   "cell_type": "markdown",
   "metadata": {},
   "source": [
    "#### Số dòng và cột của dữ liệu"
   ]
  },
  {
   "cell_type": "code",
   "execution_count": 76,
   "metadata": {},
   "outputs": [],
   "source": [
    "num_result_rows = len(df_results.axes[0])\n",
    "num_result_cols = len(df_results.axes[1])\n",
    "\n",
    "num_city_rows = len(df_cities.axes[0])\n",
    "num_city_cols = len(df_cities.axes[1])"
   ]
  },
  {
   "cell_type": "code",
   "execution_count": 77,
   "metadata": {},
   "outputs": [
    {
     "name": "stdout",
     "output_type": "stream",
     "text": [
      "Có tổng cộng là 5204079 học sinh tham gia kì thi THPTQG trên khắp cả nước\n",
      "Số lượng các tỉnh tham gia là 63 tỉnh\n"
     ]
    }
   ],
   "source": [
    "print('Có tổng cộng là {number} học sinh tham gia kì thi THPTQG trên khắp cả nước'.format(number=num_result_rows))\n",
    "print('Số lượng các tỉnh tham gia là {number} tỉnh'.format(number=num_city_rows))"
   ]
  },
  {
   "cell_type": "markdown",
   "metadata": {},
   "source": [
    "#### Kiểm tra dòng trùng"
   ]
  },
  {
   "cell_type": "code",
   "execution_count": 75,
   "metadata": {},
   "outputs": [
    {
     "name": "stdout",
     "output_type": "stream",
     "text": [
      "Không bị trùng\n"
     ]
    }
   ],
   "source": [
    "have_duplicated_rows = False\n",
    "for i in df_results.duplicated().items():\n",
    "    if(i == True):\n",
    "        have_duplicated_rows = True\n",
    "\n",
    "if(have_duplicated_rows == True):\n",
    "    print('Bị trùng dữ liệu')\n",
    "else:\n",
    "    print('Không bị trùng')"
   ]
  },
  {
   "cell_type": "markdown",
   "metadata": {},
   "source": [
    "#### Dữ liệu có bị thiếu không ?"
   ]
  },
  {
   "cell_type": "code",
   "execution_count": null,
   "metadata": {},
   "outputs": [],
   "source": [
    "missing_ratio = df_results.isnull().sum()\n",
    "missing_ratio = missing_ratio / num_rows\n",
    "missing_ratio[missing_ratio > 0]"
   ]
  },
  {
   "cell_type": "markdown",
   "metadata": {},
   "source": [
    "Các cột là:"
   ]
  },
  {
   "cell_type": "code",
   "execution_count": 78,
   "metadata": {},
   "outputs": [
    {
     "name": "stdout",
     "output_type": "stream",
     "text": [
      "SBD, MaTinh, Toan, Van, Ly, Hoa, Sinh, Lich su, Dia ly, GDCD, Ngoai ngu, Year, "
     ]
    }
   ],
   "source": [
    "for i in df_results.columns:\n",
    "    print(i, end = \", \")"
   ]
  },
  {
   "cell_type": "markdown",
   "metadata": {},
   "source": [
    "#### Ý nghĩa của từng dòng\n",
    "- Là điểm thi THPTQG của các thí sinh, mỗi dòng là riêng biệt với nhau và sẽ không xuất hiện tình trạng trùng\n",
    "- Các thí sinh có thể đến từ các tỉnh thành khác nhau, có mã số iêng biệt ở từng năm"
   ]
  },
  {
   "cell_type": "markdown",
   "metadata": {},
   "source": [
    "#### Ý nghĩa của từng cột\n",
    "\n",
    "\n",
    "|Tên cột   |Ý nghĩa   |\n",
    "|---|---|\n",
    "|SBD  |Số báo danh của thí sinh (có thể bị trùng ở các năm khác nhau), trong 1 năm không tồn tại 2 SBD giống nha   |\n",
    "|Toan   |Điểm môn Toán  |\n",
    "|Van   |Điểm môn Ngữ văn   |\n",
    "|Ngoai ngu   |Điểm môn Ngoại ngữ  (Có thể là Tiếng Anh, Tiếng Nhật, Tiếng Trung ,...) |\n",
    "|Ly   |Điểm môn Vật lý   |\n",
    "|Hoa   |Điểm môn Hóa học   |\n",
    "|Sinh   |Điểm môn Sinh học   |\n",
    "|Lich su   |Điểm môn Sử   |\n",
    "|Dia ly   |Điểm môn Dịa   |\n",
    "|GDCD   |Điểm môn Giáo dục công dân   |\n",
    "|MaTinh   |Mã tỉnh dự thi   |\n",
    "\n",
    "\n"
   ]
  },
  {
   "cell_type": "markdown",
   "metadata": {},
   "source": [
    "#### Mỗi cột hiện đang có kiểu dữ liệu gì? "
   ]
  },
  {
   "cell_type": "code",
   "execution_count": 79,
   "metadata": {},
   "outputs": [],
   "source": [
    "col_dtypes = df_results.dtypes"
   ]
  },
  {
   "cell_type": "markdown",
   "metadata": {},
   "source": [
    "#### Có cột nào có kiểu dữ liệu chưa phù hợp và khó để tiếp tục xử lí hay không ?"
   ]
  },
  {
   "cell_type": "markdown",
   "metadata": {},
   "source": [
    "### Các vấn đề cần tiền xử lí"
   ]
  },
  {
   "cell_type": "markdown",
   "metadata": {},
   "source": [
    "## Tiền xử lí dữ liệu"
   ]
  },
  {
   "cell_type": "code",
   "execution_count": null,
   "metadata": {},
   "outputs": [],
   "source": []
  },
  {
   "cell_type": "markdown",
   "metadata": {},
   "source": [
    "## Đặt câu hỏi và trả lời"
   ]
  },
  {
   "cell_type": "markdown",
   "metadata": {},
   "source": [
    "**Câu 1:**\n",
    "Tìm số lượng thí sinh tham dự của các tỉnh vào mỗi năm"
   ]
  },
  {
   "cell_type": "code",
   "execution_count": 80,
   "metadata": {},
   "outputs": [],
   "source": [
    "years = df_results['Year'].unique()\n",
    "cities = df_cities['MaTinh'].unique()"
   ]
  },
  {
   "cell_type": "markdown",
   "metadata": {},
   "source": [
    "**Lưu ý:** Tồn tại những năm có những tỉnh không được ghi nhận số liệu, điều này là do mất số liệu lưu trữ trong năm đó"
   ]
  },
  {
   "cell_type": "code",
   "execution_count": 81,
   "metadata": {},
   "outputs": [
    {
     "data": {
      "text/html": [
       "<div>\n",
       "<style scoped>\n",
       "    .dataframe tbody tr th:only-of-type {\n",
       "        vertical-align: middle;\n",
       "    }\n",
       "\n",
       "    .dataframe tbody tr th {\n",
       "        vertical-align: top;\n",
       "    }\n",
       "\n",
       "    .dataframe thead th {\n",
       "        text-align: right;\n",
       "    }\n",
       "</style>\n",
       "<table border=\"1\" class=\"dataframe\">\n",
       "  <thead>\n",
       "    <tr style=\"text-align: right;\">\n",
       "      <th></th>\n",
       "      <th>MaTinh</th>\n",
       "      <th>TenTinh</th>\n",
       "      <th>2017</th>\n",
       "      <th>2018</th>\n",
       "      <th>2019</th>\n",
       "      <th>2020</th>\n",
       "      <th>2021</th>\n",
       "      <th>2022</th>\n",
       "    </tr>\n",
       "  </thead>\n",
       "  <tbody>\n",
       "    <tr>\n",
       "      <th>0</th>\n",
       "      <td>1</td>\n",
       "      <td>THÀNH PHỐ HÀ NỘI</td>\n",
       "      <td>64999</td>\n",
       "      <td>38099</td>\n",
       "      <td>74277</td>\n",
       "      <td>78860</td>\n",
       "      <td>100688</td>\n",
       "      <td>96942</td>\n",
       "    </tr>\n",
       "    <tr>\n",
       "      <th>1</th>\n",
       "      <td>2</td>\n",
       "      <td>THÀNH PHỐ HỒ CHÍ MINH</td>\n",
       "      <td>64999</td>\n",
       "      <td>78321</td>\n",
       "      <td>0</td>\n",
       "      <td>74451</td>\n",
       "      <td>86224</td>\n",
       "      <td>84594</td>\n",
       "    </tr>\n",
       "    <tr>\n",
       "      <th>2</th>\n",
       "      <td>3</td>\n",
       "      <td>THÀNH PHỐ HẢI PHÒNG</td>\n",
       "      <td>18579</td>\n",
       "      <td>5099</td>\n",
       "      <td>18484</td>\n",
       "      <td>18533</td>\n",
       "      <td>23241</td>\n",
       "      <td>22399</td>\n",
       "    </tr>\n",
       "    <tr>\n",
       "      <th>3</th>\n",
       "      <td>4</td>\n",
       "      <td>THÀNH PHỐ ĐÀ NẴNG</td>\n",
       "      <td>11022</td>\n",
       "      <td>6099</td>\n",
       "      <td>10110</td>\n",
       "      <td>0</td>\n",
       "      <td>12631</td>\n",
       "      <td>12574</td>\n",
       "    </tr>\n",
       "    <tr>\n",
       "      <th>4</th>\n",
       "      <td>5</td>\n",
       "      <td>TỈNH HÀ GIANG</td>\n",
       "      <td>5563</td>\n",
       "      <td>3099</td>\n",
       "      <td>5155</td>\n",
       "      <td>5627</td>\n",
       "      <td>5603</td>\n",
       "      <td>5863</td>\n",
       "    </tr>\n",
       "    <tr>\n",
       "      <th>...</th>\n",
       "      <td>...</td>\n",
       "      <td>...</td>\n",
       "      <td>...</td>\n",
       "      <td>...</td>\n",
       "      <td>...</td>\n",
       "      <td>...</td>\n",
       "      <td>...</td>\n",
       "      <td>...</td>\n",
       "    </tr>\n",
       "    <tr>\n",
       "      <th>58</th>\n",
       "      <td>60</td>\n",
       "      <td>TỈNH BẠC LIÊU</td>\n",
       "      <td>4945</td>\n",
       "      <td>5370</td>\n",
       "      <td>5355</td>\n",
       "      <td>5589</td>\n",
       "      <td>6331</td>\n",
       "      <td>6412</td>\n",
       "    </tr>\n",
       "    <tr>\n",
       "      <th>59</th>\n",
       "      <td>61</td>\n",
       "      <td>TỈNH CÀ MAU</td>\n",
       "      <td>7684</td>\n",
       "      <td>9275</td>\n",
       "      <td>9292</td>\n",
       "      <td>9637</td>\n",
       "      <td>10914</td>\n",
       "      <td>10691</td>\n",
       "    </tr>\n",
       "    <tr>\n",
       "      <th>60</th>\n",
       "      <td>62</td>\n",
       "      <td>TỈNH ĐIỆN BIÊN</td>\n",
       "      <td>5302</td>\n",
       "      <td>5481</td>\n",
       "      <td>5287</td>\n",
       "      <td>5608</td>\n",
       "      <td>6268</td>\n",
       "      <td>6412</td>\n",
       "    </tr>\n",
       "    <tr>\n",
       "      <th>61</th>\n",
       "      <td>63</td>\n",
       "      <td>TỈNH ĐĂK NÔNG</td>\n",
       "      <td>6020</td>\n",
       "      <td>6361</td>\n",
       "      <td>6292</td>\n",
       "      <td>6212</td>\n",
       "      <td>6679</td>\n",
       "      <td>6852</td>\n",
       "    </tr>\n",
       "    <tr>\n",
       "      <th>62</th>\n",
       "      <td>64</td>\n",
       "      <td>TỈNH HẬU GIANG</td>\n",
       "      <td>5119</td>\n",
       "      <td>6190</td>\n",
       "      <td>5707</td>\n",
       "      <td>5813</td>\n",
       "      <td>6814</td>\n",
       "      <td>6549</td>\n",
       "    </tr>\n",
       "  </tbody>\n",
       "</table>\n",
       "<p>63 rows × 8 columns</p>\n",
       "</div>"
      ],
      "text/plain": [
       "    MaTinh                TenTinh   2017   2018   2019   2020    2021   2022\n",
       "0        1       THÀNH PHỐ HÀ NỘI  64999  38099  74277  78860  100688  96942\n",
       "1        2  THÀNH PHỐ HỒ CHÍ MINH  64999  78321      0  74451   86224  84594\n",
       "2        3    THÀNH PHỐ HẢI PHÒNG  18579   5099  18484  18533   23241  22399\n",
       "3        4      THÀNH PHỐ ĐÀ NẴNG  11022   6099  10110      0   12631  12574\n",
       "4        5          TỈNH HÀ GIANG   5563   3099   5155   5627    5603   5863\n",
       "..     ...                    ...    ...    ...    ...    ...     ...    ...\n",
       "58      60          TỈNH BẠC LIÊU   4945   5370   5355   5589    6331   6412\n",
       "59      61            TỈNH CÀ MAU   7684   9275   9292   9637   10914  10691\n",
       "60      62         TỈNH ĐIỆN BIÊN   5302   5481   5287   5608    6268   6412\n",
       "61      63          TỈNH ĐĂK NÔNG   6020   6361   6292   6212    6679   6852\n",
       "62      64         TỈNH HẬU GIANG   5119   6190   5707   5813    6814   6549\n",
       "\n",
       "[63 rows x 8 columns]"
      ]
     },
     "execution_count": 81,
     "metadata": {},
     "output_type": "execute_result"
    }
   ],
   "source": [
    "for year in years:\n",
    "    col_year_city_participants_number =[]\n",
    "    for city in cities:\n",
    "        col_year_city_participants_number.append(df_results.loc[(df_results['Year']==year) & (df_results['MaTinh']==city),'SBD'].count())\n",
    "    df_cities[year] =  pd.Series(col_year_city_participants_number)\n",
    "\n",
    "df_cities"
   ]
  },
  {
   "cell_type": "code",
   "execution_count": 82,
   "metadata": {},
   "outputs": [
    {
     "data": {
      "image/png": "[encoded data removed]",
      "text/plain": [
       "<Figure size 1332x756 with 4 Axes>"
      ]
     },
     "metadata": {
      "needs_background": "light"
     },
     "output_type": "display_data"
    }
   ],
   "source": [
    "fig,a =  plt.subplots(2,2)\n",
    "fig.set_size_inches(18.5, 10.5, forward=True)\n",
    "x = np.array(df_cities['MaTinh'])\n",
    "\n",
    "x = np.arange(1,5)\n",
    "a[0][0].bar(np.array(df_cities['MaTinh']),np.array(df_cities[2018]))\n",
    "a[0][0].set_title('2018')\n",
    "a[0][1].bar(np.array(df_cities['MaTinh']),np.array(df_cities[2019]))\n",
    "a[0][1].set_title('2019')\n",
    "a[1][0].bar(np.array(df_cities['MaTinh']),np.array(df_cities[2020]))\n",
    "a[1][0].set_title('2020')\n",
    "a[1][1].bar(np.array(df_cities['MaTinh']),np.array(df_cities[2021]))\n",
    "a[1][1].set_title('2021')\n",
    "plt.show()"
   ]
  },
  {
   "cell_type": "markdown",
   "metadata": {},
   "source": [
    "### <span style=\"color:red\">**Lưu ý**</span>\n",
    "Những thành phố có năm không thu thập được dữ liệu"
   ]
  },
  {
   "cell_type": "code",
   "execution_count": 83,
   "metadata": {},
   "outputs": [
    {
     "data": {
      "text/html": [
       "<div>\n",
       "<style scoped>\n",
       "    .dataframe tbody tr th:only-of-type {\n",
       "        vertical-align: middle;\n",
       "    }\n",
       "\n",
       "    .dataframe tbody tr th {\n",
       "        vertical-align: top;\n",
       "    }\n",
       "\n",
       "    .dataframe thead th {\n",
       "        text-align: right;\n",
       "    }\n",
       "</style>\n",
       "<table border=\"1\" class=\"dataframe\">\n",
       "  <thead>\n",
       "    <tr style=\"text-align: right;\">\n",
       "      <th></th>\n",
       "      <th>MaTinh</th>\n",
       "      <th>TenTinh</th>\n",
       "      <th>2017</th>\n",
       "      <th>2018</th>\n",
       "      <th>2019</th>\n",
       "      <th>2020</th>\n",
       "      <th>2021</th>\n",
       "      <th>2022</th>\n",
       "    </tr>\n",
       "  </thead>\n",
       "  <tbody>\n",
       "    <tr>\n",
       "      <th>1</th>\n",
       "      <td>2</td>\n",
       "      <td>THÀNH PHỐ HỒ CHÍ MINH</td>\n",
       "      <td>64999</td>\n",
       "      <td>78321</td>\n",
       "      <td>0</td>\n",
       "      <td>74451</td>\n",
       "      <td>86224</td>\n",
       "      <td>84594</td>\n",
       "    </tr>\n",
       "    <tr>\n",
       "      <th>3</th>\n",
       "      <td>4</td>\n",
       "      <td>THÀNH PHỐ ĐÀ NẴNG</td>\n",
       "      <td>11022</td>\n",
       "      <td>6099</td>\n",
       "      <td>10110</td>\n",
       "      <td>0</td>\n",
       "      <td>12631</td>\n",
       "      <td>12574</td>\n",
       "    </tr>\n",
       "    <tr>\n",
       "      <th>13</th>\n",
       "      <td>14</td>\n",
       "      <td>TỈNH SƠN LA</td>\n",
       "      <td>9556</td>\n",
       "      <td>0</td>\n",
       "      <td>10551</td>\n",
       "      <td>11626</td>\n",
       "      <td>11384</td>\n",
       "      <td>11325</td>\n",
       "    </tr>\n",
       "    <tr>\n",
       "      <th>16</th>\n",
       "      <td>17</td>\n",
       "      <td>TỈNH QUẢNG NINH</td>\n",
       "      <td>13538</td>\n",
       "      <td>0</td>\n",
       "      <td>14108</td>\n",
       "      <td>14547</td>\n",
       "      <td>16367</td>\n",
       "      <td>15623</td>\n",
       "    </tr>\n",
       "    <tr>\n",
       "      <th>27</th>\n",
       "      <td>29</td>\n",
       "      <td>TỈNH NGHỆ AN</td>\n",
       "      <td>30802</td>\n",
       "      <td>0</td>\n",
       "      <td>32242</td>\n",
       "      <td>31072</td>\n",
       "      <td>34327</td>\n",
       "      <td>36563</td>\n",
       "    </tr>\n",
       "    <tr>\n",
       "      <th>48</th>\n",
       "      <td>50</td>\n",
       "      <td>TỈNH ĐỒNG THÁP</td>\n",
       "      <td>12553</td>\n",
       "      <td>14367</td>\n",
       "      <td>13098</td>\n",
       "      <td>13386</td>\n",
       "      <td>0</td>\n",
       "      <td>15037</td>\n",
       "    </tr>\n",
       "    <tr>\n",
       "      <th>49</th>\n",
       "      <td>51</td>\n",
       "      <td>TỈNH AN GIANG</td>\n",
       "      <td>14060</td>\n",
       "      <td>0</td>\n",
       "      <td>15784</td>\n",
       "      <td>15239</td>\n",
       "      <td>5544</td>\n",
       "      <td>18573</td>\n",
       "    </tr>\n",
       "  </tbody>\n",
       "</table>\n",
       "</div>"
      ],
      "text/plain": [
       "    MaTinh                TenTinh   2017   2018   2019   2020   2021   2022\n",
       "1        2  THÀNH PHỐ HỒ CHÍ MINH  64999  78321      0  74451  86224  84594\n",
       "3        4      THÀNH PHỐ ĐÀ NẴNG  11022   6099  10110      0  12631  12574\n",
       "13      14            TỈNH SƠN LA   9556      0  10551  11626  11384  11325\n",
       "16      17        TỈNH QUẢNG NINH  13538      0  14108  14547  16367  15623\n",
       "27      29           TỈNH NGHỆ AN  30802      0  32242  31072  34327  36563\n",
       "48      50         TỈNH ĐỒNG THÁP  12553  14367  13098  13386      0  15037\n",
       "49      51          TỈNH AN GIANG  14060      0  15784  15239   5544  18573"
      ]
     },
     "execution_count": 83,
     "metadata": {},
     "output_type": "execute_result"
    }
   ],
   "source": [
    "df_cities[(df_cities[2018]==0) | (df_cities[2019]==0) | (df_cities[2020]==0) |(df_cities[2021]==0)]"
   ]
  },
  {
   "cell_type": "markdown",
   "metadata": {},
   "source": [
    "Tính trung bình số lượng thí sinh tham gia của mỗi tỉnh\\\n",
    "Cho biết tình thành nào có số lượng thí sinh tham giao cao nhất / thấp nhất"
   ]
  },
  {
   "cell_type": "code",
   "execution_count": 84,
   "metadata": {},
   "outputs": [],
   "source": [
    "# vì có những số liệu của các tp bị bỏ lỡ nên hiện tại sẽ sử dụng tới hàm mean tự định nghĩa\n",
    "# cho phép những ô bị mất dữ liệu không tính vào tổng số tránh làm chênh lệnh\n",
    "import math\n",
    "def custom_mean_function(arr):\n",
    "    arr = np.array(arr)\n",
    "    sum = 0\n",
    "    for i in arr:\n",
    "        sum+=i\n",
    "    return sum/len(arr[arr!=0])\n"
   ]
  },
  {
   "cell_type": "code",
   "execution_count": 85,
   "metadata": {},
   "outputs": [],
   "source": [
    "avg_number_participants = []\n",
    "len(df_cities)\n",
    "for i in range(len(df_cities)):\n",
    "    avg_number_participants.append(custom_mean_function(df_cities.loc[i,[2018,2018,2020,2021]]))"
   ]
  },
  {
   "cell_type": "code",
   "execution_count": 86,
   "metadata": {},
   "outputs": [],
   "source": [
    "max_avg = max(avg_number_participants)\n",
    "min_avg = min(avg_number_participants)"
   ]
  },
  {
   "cell_type": "markdown",
   "metadata": {},
   "source": [
    "#### Tỉnh thành có nhiều thí sinh trung bình dự thi nhất là:"
   ]
  },
  {
   "cell_type": "code",
   "execution_count": 87,
   "metadata": {},
   "outputs": [
    {
     "data": {
      "text/html": [
       "<div>\n",
       "<style scoped>\n",
       "    .dataframe tbody tr th:only-of-type {\n",
       "        vertical-align: middle;\n",
       "    }\n",
       "\n",
       "    .dataframe tbody tr th {\n",
       "        vertical-align: top;\n",
       "    }\n",
       "\n",
       "    .dataframe thead th {\n",
       "        text-align: right;\n",
       "    }\n",
       "</style>\n",
       "<table border=\"1\" class=\"dataframe\">\n",
       "  <thead>\n",
       "    <tr style=\"text-align: right;\">\n",
       "      <th></th>\n",
       "      <th>MaTinh</th>\n",
       "      <th>TenTinh</th>\n",
       "      <th>2017</th>\n",
       "      <th>2018</th>\n",
       "      <th>2019</th>\n",
       "      <th>2020</th>\n",
       "      <th>2021</th>\n",
       "      <th>2022</th>\n",
       "    </tr>\n",
       "  </thead>\n",
       "  <tbody>\n",
       "    <tr>\n",
       "      <th>1</th>\n",
       "      <td>2</td>\n",
       "      <td>THÀNH PHỐ HỒ CHÍ MINH</td>\n",
       "      <td>64999</td>\n",
       "      <td>78321</td>\n",
       "      <td>0</td>\n",
       "      <td>74451</td>\n",
       "      <td>86224</td>\n",
       "      <td>84594</td>\n",
       "    </tr>\n",
       "  </tbody>\n",
       "</table>\n",
       "</div>"
      ],
      "text/plain": [
       "   MaTinh                TenTinh   2017   2018  2019   2020   2021   2022\n",
       "1       2  THÀNH PHỐ HỒ CHÍ MINH  64999  78321     0  74451  86224  84594"
      ]
     },
     "execution_count": 87,
     "metadata": {},
     "output_type": "execute_result"
    }
   ],
   "source": [
    "df_cities.iloc[[avg_number_participants.index(max_avg)]]"
   ]
  },
  {
   "cell_type": "markdown",
   "metadata": {},
   "source": [
    "#### Tỉnh thành có ít thí sinh trung bình dự thi ít nhất là:"
   ]
  },
  {
   "cell_type": "code",
   "execution_count": 88,
   "metadata": {},
   "outputs": [
    {
     "data": {
      "text/html": [
       "<div>\n",
       "<style scoped>\n",
       "    .dataframe tbody tr th:only-of-type {\n",
       "        vertical-align: middle;\n",
       "    }\n",
       "\n",
       "    .dataframe tbody tr th {\n",
       "        vertical-align: top;\n",
       "    }\n",
       "\n",
       "    .dataframe thead th {\n",
       "        text-align: right;\n",
       "    }\n",
       "</style>\n",
       "<table border=\"1\" class=\"dataframe\">\n",
       "  <thead>\n",
       "    <tr style=\"text-align: right;\">\n",
       "      <th></th>\n",
       "      <th>MaTinh</th>\n",
       "      <th>TenTinh</th>\n",
       "      <th>2017</th>\n",
       "      <th>2018</th>\n",
       "      <th>2019</th>\n",
       "      <th>2020</th>\n",
       "      <th>2021</th>\n",
       "      <th>2022</th>\n",
       "    </tr>\n",
       "  </thead>\n",
       "  <tbody>\n",
       "    <tr>\n",
       "      <th>10</th>\n",
       "      <td>11</td>\n",
       "      <td>TỈNH BẮC KẠN</td>\n",
       "      <td>2830</td>\n",
       "      <td>2866</td>\n",
       "      <td>2849</td>\n",
       "      <td>2851</td>\n",
       "      <td>2893</td>\n",
       "      <td>3053</td>\n",
       "    </tr>\n",
       "  </tbody>\n",
       "</table>\n",
       "</div>"
      ],
      "text/plain": [
       "    MaTinh       TenTinh  2017  2018  2019  2020  2021  2022\n",
       "10      11  TỈNH BẮC KẠN  2830  2866  2849  2851  2893  3053"
      ]
     },
     "execution_count": 88,
     "metadata": {},
     "output_type": "execute_result"
    }
   ],
   "source": [
    "df_cities.iloc[[avg_number_participants.index(min_avg)]]"
   ]
  },
  {
   "cell_type": "markdown",
   "metadata": {},
   "source": [
    "**Câu hỏi 3:**\n",
    "Tìm và nhận xét số lượng thí sinh thi đậu tốt nghiệp\\\n",
    "Biết là để thõa điều kiện tốt nghiệp:\n",
    "- Các môn tiên quyết bắt buộc và các môn thành phần trong bài thi Tổ hợp luôn phải lớn hơn 1.0\n",
    "- Tổng điểm xét tốt nghiệp phải lớn hơn 5.0 -> ở trường hợp này mình không xét tới vì điểm tốt nghiệp có 30% là điểm trung bình trong trường"
   ]
  },
  {
   "cell_type": "code",
   "execution_count": 89,
   "metadata": {},
   "outputs": [],
   "source": [
    "passed_cdt_1 = (df_results['Toan']>1 )&(df_results['Van']>1 )&(df_results['Ngoai ngu']>1 )\n",
    "passed_cdt_2 = (df_results['Ly']>1 )&(df_results['Hoa']>1 )&(df_results['Sinh']>1 )\n",
    "passed_cdt_3 = (df_results['Lich su']>1) & (df_results['Dia ly']>1 ) & (df_results['GDCD']>1 )\n"
   ]
  },
  {
   "cell_type": "code",
   "execution_count": 90,
   "metadata": {},
   "outputs": [
    {
     "data": {
      "text/html": [
       "<div>\n",
       "<style scoped>\n",
       "    .dataframe tbody tr th:only-of-type {\n",
       "        vertical-align: middle;\n",
       "    }\n",
       "\n",
       "    .dataframe tbody tr th {\n",
       "        vertical-align: top;\n",
       "    }\n",
       "\n",
       "    .dataframe thead th {\n",
       "        text-align: right;\n",
       "    }\n",
       "</style>\n",
       "<table border=\"1\" class=\"dataframe\">\n",
       "  <thead>\n",
       "    <tr style=\"text-align: right;\">\n",
       "      <th></th>\n",
       "      <th>SBD</th>\n",
       "      <th>MaTinh</th>\n",
       "      <th>Toan</th>\n",
       "      <th>Van</th>\n",
       "      <th>Ly</th>\n",
       "      <th>Hoa</th>\n",
       "      <th>Sinh</th>\n",
       "      <th>Lich su</th>\n",
       "      <th>Dia ly</th>\n",
       "      <th>GDCD</th>\n",
       "      <th>Ngoai ngu</th>\n",
       "      <th>Year</th>\n",
       "    </tr>\n",
       "  </thead>\n",
       "  <tbody>\n",
       "    <tr>\n",
       "      <th>0</th>\n",
       "      <td>1000001</td>\n",
       "      <td>1</td>\n",
       "      <td>6.4</td>\n",
       "      <td>6.00</td>\n",
       "      <td>NaN</td>\n",
       "      <td>NaN</td>\n",
       "      <td>NaN</td>\n",
       "      <td>4.00</td>\n",
       "      <td>6.00</td>\n",
       "      <td>7.25</td>\n",
       "      <td>8.8</td>\n",
       "      <td>2017</td>\n",
       "    </tr>\n",
       "    <tr>\n",
       "      <th>1</th>\n",
       "      <td>1000002</td>\n",
       "      <td>1</td>\n",
       "      <td>6.0</td>\n",
       "      <td>7.00</td>\n",
       "      <td>NaN</td>\n",
       "      <td>NaN</td>\n",
       "      <td>NaN</td>\n",
       "      <td>4.50</td>\n",
       "      <td>8.50</td>\n",
       "      <td>8.75</td>\n",
       "      <td>7.6</td>\n",
       "      <td>2017</td>\n",
       "    </tr>\n",
       "    <tr>\n",
       "      <th>2</th>\n",
       "      <td>1000003</td>\n",
       "      <td>1</td>\n",
       "      <td>5.6</td>\n",
       "      <td>7.25</td>\n",
       "      <td>NaN</td>\n",
       "      <td>NaN</td>\n",
       "      <td>NaN</td>\n",
       "      <td>4.50</td>\n",
       "      <td>6.00</td>\n",
       "      <td>7.00</td>\n",
       "      <td>8.4</td>\n",
       "      <td>2017</td>\n",
       "    </tr>\n",
       "    <tr>\n",
       "      <th>3</th>\n",
       "      <td>1000004</td>\n",
       "      <td>1</td>\n",
       "      <td>8.2</td>\n",
       "      <td>7.25</td>\n",
       "      <td>NaN</td>\n",
       "      <td>NaN</td>\n",
       "      <td>NaN</td>\n",
       "      <td>6.50</td>\n",
       "      <td>8.75</td>\n",
       "      <td>8.25</td>\n",
       "      <td>9.0</td>\n",
       "      <td>2017</td>\n",
       "    </tr>\n",
       "    <tr>\n",
       "      <th>4</th>\n",
       "      <td>1000005</td>\n",
       "      <td>1</td>\n",
       "      <td>7.8</td>\n",
       "      <td>5.75</td>\n",
       "      <td>NaN</td>\n",
       "      <td>NaN</td>\n",
       "      <td>NaN</td>\n",
       "      <td>5.00</td>\n",
       "      <td>7.25</td>\n",
       "      <td>7.25</td>\n",
       "      <td>9.4</td>\n",
       "      <td>2017</td>\n",
       "    </tr>\n",
       "    <tr>\n",
       "      <th>...</th>\n",
       "      <td>...</td>\n",
       "      <td>...</td>\n",
       "      <td>...</td>\n",
       "      <td>...</td>\n",
       "      <td>...</td>\n",
       "      <td>...</td>\n",
       "      <td>...</td>\n",
       "      <td>...</td>\n",
       "      <td>...</td>\n",
       "      <td>...</td>\n",
       "      <td>...</td>\n",
       "      <td>...</td>\n",
       "    </tr>\n",
       "    <tr>\n",
       "      <th>995376</th>\n",
       "      <td>64006555</td>\n",
       "      <td>64</td>\n",
       "      <td>6.2</td>\n",
       "      <td>4.75</td>\n",
       "      <td>NaN</td>\n",
       "      <td>NaN</td>\n",
       "      <td>NaN</td>\n",
       "      <td>5.00</td>\n",
       "      <td>6.00</td>\n",
       "      <td>7.00</td>\n",
       "      <td>2.8</td>\n",
       "      <td>2022</td>\n",
       "    </tr>\n",
       "    <tr>\n",
       "      <th>995377</th>\n",
       "      <td>64006584</td>\n",
       "      <td>64</td>\n",
       "      <td>8.4</td>\n",
       "      <td>6.75</td>\n",
       "      <td>NaN</td>\n",
       "      <td>NaN</td>\n",
       "      <td>NaN</td>\n",
       "      <td>6.50</td>\n",
       "      <td>6.75</td>\n",
       "      <td>9.00</td>\n",
       "      <td>4.6</td>\n",
       "      <td>2022</td>\n",
       "    </tr>\n",
       "    <tr>\n",
       "      <th>995378</th>\n",
       "      <td>64006576</td>\n",
       "      <td>64</td>\n",
       "      <td>6.6</td>\n",
       "      <td>5.25</td>\n",
       "      <td>NaN</td>\n",
       "      <td>NaN</td>\n",
       "      <td>NaN</td>\n",
       "      <td>4.50</td>\n",
       "      <td>5.50</td>\n",
       "      <td>8.50</td>\n",
       "      <td>3.2</td>\n",
       "      <td>2022</td>\n",
       "    </tr>\n",
       "    <tr>\n",
       "      <th>995379</th>\n",
       "      <td>64006583</td>\n",
       "      <td>64</td>\n",
       "      <td>5.0</td>\n",
       "      <td>6.50</td>\n",
       "      <td>NaN</td>\n",
       "      <td>NaN</td>\n",
       "      <td>NaN</td>\n",
       "      <td>6.75</td>\n",
       "      <td>7.50</td>\n",
       "      <td>8.50</td>\n",
       "      <td>3.8</td>\n",
       "      <td>2022</td>\n",
       "    </tr>\n",
       "    <tr>\n",
       "      <th>995380</th>\n",
       "      <td>64006581</td>\n",
       "      <td>64</td>\n",
       "      <td>6.6</td>\n",
       "      <td>6.00</td>\n",
       "      <td>NaN</td>\n",
       "      <td>NaN</td>\n",
       "      <td>NaN</td>\n",
       "      <td>6.00</td>\n",
       "      <td>6.75</td>\n",
       "      <td>7.75</td>\n",
       "      <td>4.2</td>\n",
       "      <td>2022</td>\n",
       "    </tr>\n",
       "  </tbody>\n",
       "</table>\n",
       "<p>4512476 rows × 12 columns</p>\n",
       "</div>"
      ],
      "text/plain": [
       "             SBD  MaTinh  Toan   Van  Ly  Hoa  Sinh  Lich su  Dia ly  GDCD  \\\n",
       "0        1000001       1   6.4  6.00 NaN  NaN   NaN     4.00    6.00  7.25   \n",
       "1        1000002       1   6.0  7.00 NaN  NaN   NaN     4.50    8.50  8.75   \n",
       "2        1000003       1   5.6  7.25 NaN  NaN   NaN     4.50    6.00  7.00   \n",
       "3        1000004       1   8.2  7.25 NaN  NaN   NaN     6.50    8.75  8.25   \n",
       "4        1000005       1   7.8  5.75 NaN  NaN   NaN     5.00    7.25  7.25   \n",
       "...          ...     ...   ...   ...  ..  ...   ...      ...     ...   ...   \n",
       "995376  64006555      64   6.2  4.75 NaN  NaN   NaN     5.00    6.00  7.00   \n",
       "995377  64006584      64   8.4  6.75 NaN  NaN   NaN     6.50    6.75  9.00   \n",
       "995378  64006576      64   6.6  5.25 NaN  NaN   NaN     4.50    5.50  8.50   \n",
       "995379  64006583      64   5.0  6.50 NaN  NaN   NaN     6.75    7.50  8.50   \n",
       "995380  64006581      64   6.6  6.00 NaN  NaN   NaN     6.00    6.75  7.75   \n",
       "\n",
       "        Ngoai ngu  Year  \n",
       "0             8.8  2017  \n",
       "1             7.6  2017  \n",
       "2             8.4  2017  \n",
       "3             9.0  2017  \n",
       "4             9.4  2017  \n",
       "...           ...   ...  \n",
       "995376        2.8  2022  \n",
       "995377        4.6  2022  \n",
       "995378        3.2  2022  \n",
       "995379        3.8  2022  \n",
       "995380        4.2  2022  \n",
       "\n",
       "[4512476 rows x 12 columns]"
      ]
     },
     "execution_count": 90,
     "metadata": {},
     "output_type": "execute_result"
    }
   ],
   "source": [
    "df_passed = df_results[passed_cdt_1 & (passed_cdt_2 | passed_cdt_3)]\n",
    "df_passed"
   ]
  },
  {
   "cell_type": "code",
   "execution_count": 91,
   "metadata": {},
   "outputs": [
    {
     "data": {
      "text/html": [
       "<div>\n",
       "<style scoped>\n",
       "    .dataframe tbody tr th:only-of-type {\n",
       "        vertical-align: middle;\n",
       "    }\n",
       "\n",
       "    .dataframe tbody tr th {\n",
       "        vertical-align: top;\n",
       "    }\n",
       "\n",
       "    .dataframe thead th {\n",
       "        text-align: right;\n",
       "    }\n",
       "</style>\n",
       "<table border=\"1\" class=\"dataframe\">\n",
       "  <thead>\n",
       "    <tr style=\"text-align: right;\">\n",
       "      <th></th>\n",
       "      <th>MaTinh</th>\n",
       "      <th>2017</th>\n",
       "      <th>2018</th>\n",
       "      <th>2019</th>\n",
       "      <th>2020</th>\n",
       "      <th>2021</th>\n",
       "      <th>2022</th>\n",
       "    </tr>\n",
       "  </thead>\n",
       "  <tbody>\n",
       "    <tr>\n",
       "      <th>0</th>\n",
       "      <td>1</td>\n",
       "      <td>55007</td>\n",
       "      <td>33216</td>\n",
       "      <td>64034</td>\n",
       "      <td>66582</td>\n",
       "      <td>85208</td>\n",
       "      <td>79287</td>\n",
       "    </tr>\n",
       "    <tr>\n",
       "      <th>1</th>\n",
       "      <td>2</td>\n",
       "      <td>54663</td>\n",
       "      <td>67267</td>\n",
       "      <td>0</td>\n",
       "      <td>64848</td>\n",
       "      <td>74530</td>\n",
       "      <td>71915</td>\n",
       "    </tr>\n",
       "    <tr>\n",
       "      <th>2</th>\n",
       "      <td>3</td>\n",
       "      <td>16042</td>\n",
       "      <td>4747</td>\n",
       "      <td>16640</td>\n",
       "      <td>16563</td>\n",
       "      <td>20416</td>\n",
       "      <td>19444</td>\n",
       "    </tr>\n",
       "    <tr>\n",
       "      <th>3</th>\n",
       "      <td>4</td>\n",
       "      <td>9346</td>\n",
       "      <td>5656</td>\n",
       "      <td>9012</td>\n",
       "      <td>0</td>\n",
       "      <td>11064</td>\n",
       "      <td>10793</td>\n",
       "    </tr>\n",
       "    <tr>\n",
       "      <th>4</th>\n",
       "      <td>5</td>\n",
       "      <td>4494</td>\n",
       "      <td>2799</td>\n",
       "      <td>4457</td>\n",
       "      <td>4847</td>\n",
       "      <td>4916</td>\n",
       "      <td>5132</td>\n",
       "    </tr>\n",
       "    <tr>\n",
       "      <th>...</th>\n",
       "      <td>...</td>\n",
       "      <td>...</td>\n",
       "      <td>...</td>\n",
       "      <td>...</td>\n",
       "      <td>...</td>\n",
       "      <td>...</td>\n",
       "      <td>...</td>\n",
       "    </tr>\n",
       "    <tr>\n",
       "      <th>58</th>\n",
       "      <td>60</td>\n",
       "      <td>4311</td>\n",
       "      <td>4896</td>\n",
       "      <td>4903</td>\n",
       "      <td>5048</td>\n",
       "      <td>5698</td>\n",
       "      <td>5707</td>\n",
       "    </tr>\n",
       "    <tr>\n",
       "      <th>59</th>\n",
       "      <td>61</td>\n",
       "      <td>6863</td>\n",
       "      <td>8467</td>\n",
       "      <td>8849</td>\n",
       "      <td>9128</td>\n",
       "      <td>10537</td>\n",
       "      <td>10280</td>\n",
       "    </tr>\n",
       "    <tr>\n",
       "      <th>60</th>\n",
       "      <td>62</td>\n",
       "      <td>4060</td>\n",
       "      <td>4376</td>\n",
       "      <td>4598</td>\n",
       "      <td>4692</td>\n",
       "      <td>5246</td>\n",
       "      <td>5481</td>\n",
       "    </tr>\n",
       "    <tr>\n",
       "      <th>61</th>\n",
       "      <td>63</td>\n",
       "      <td>5209</td>\n",
       "      <td>5736</td>\n",
       "      <td>5812</td>\n",
       "      <td>5719</td>\n",
       "      <td>6237</td>\n",
       "      <td>6315</td>\n",
       "    </tr>\n",
       "    <tr>\n",
       "      <th>62</th>\n",
       "      <td>64</td>\n",
       "      <td>4658</td>\n",
       "      <td>5692</td>\n",
       "      <td>5313</td>\n",
       "      <td>5334</td>\n",
       "      <td>6343</td>\n",
       "      <td>6105</td>\n",
       "    </tr>\n",
       "  </tbody>\n",
       "</table>\n",
       "<p>63 rows × 7 columns</p>\n",
       "</div>"
      ],
      "text/plain": [
       "    MaTinh   2017   2018   2019   2020   2021   2022\n",
       "0        1  55007  33216  64034  66582  85208  79287\n",
       "1        2  54663  67267      0  64848  74530  71915\n",
       "2        3  16042   4747  16640  16563  20416  19444\n",
       "3        4   9346   5656   9012      0  11064  10793\n",
       "4        5   4494   2799   4457   4847   4916   5132\n",
       "..     ...    ...    ...    ...    ...    ...    ...\n",
       "58      60   4311   4896   4903   5048   5698   5707\n",
       "59      61   6863   8467   8849   9128  10537  10280\n",
       "60      62   4060   4376   4598   4692   5246   5481\n",
       "61      63   5209   5736   5812   5719   6237   6315\n",
       "62      64   4658   5692   5313   5334   6343   6105\n",
       "\n",
       "[63 rows x 7 columns]"
      ]
     },
     "execution_count": 91,
     "metadata": {},
     "output_type": "execute_result"
    }
   ],
   "source": [
    "df_city_passed = pd.DataFrame()\n",
    "df_city_passed['MaTinh'] = df_cities['MaTinh']\n",
    "\n",
    "for year in years:\n",
    "    city_passed_year =[]\n",
    "    for city in cities:\n",
    "        city_passed_year.append(df_passed.loc[(df_passed['Year']==year) & (df_passed['MaTinh']==city),'SBD'].count())\n",
    "    df_city_passed[year] =  pd.Series(city_passed_year)\n",
    "\n",
    "df_city_passed"
   ]
  },
  {
   "cell_type": "markdown",
   "metadata": {},
   "source": [
    "#### Biểu đồ cột cho thấy mối quan hệ của việc đậu và tham gia kì thi trong năm 2018"
   ]
  },
  {
   "cell_type": "code",
   "execution_count": 92,
   "metadata": {},
   "outputs": [
    {
     "data": {
      "text/plain": [
       "<matplotlib.legend.Legend at 0x1f32e3d7be0>"
      ]
     },
     "execution_count": 92,
     "metadata": {},
     "output_type": "execute_result"
    },
    {
     "data": {
      "image/png": "[encoded data removed]",
      "text/plain": [
       "<Figure size 1332x756 with 1 Axes>"
      ]
     },
     "metadata": {
      "needs_background": "light"
     },
     "output_type": "display_data"
    }
   ],
   "source": [
    "fig,a =  plt.subplots(1,1)\n",
    "fig.set_size_inches(18.5, 10.5, forward=True)\n",
    "x = np.array(df_cities['MaTinh'])\n",
    "\n",
    "\n",
    "a.bar(np.array(df_cities['MaTinh'])-0.3, df_cities[2018],color='red', width=0.3, label='Tham gia thi')\n",
    "a.bar(np.array(df_cities['MaTinh']), df_city_passed[2018], width=0.3,color='blue', label='Đậu')\n",
    "\n",
    "a.set_ylabel('Số lượng thí sinh')\n",
    "a.set_xlabel('Năm')\n",
    "a.set_title(\"Thí sinh tham dự kì thi và Vượt qua kì thi của tất cả các tỉnh thành trong năm 2018\")\n",
    "a.legend()"
   ]
  },
  {
   "cell_type": "markdown",
   "metadata": {},
   "source": [
    "### Tỉ Lệ thi đậu tốt nghiệp"
   ]
  },
  {
   "cell_type": "code",
   "execution_count": 93,
   "metadata": {},
   "outputs": [
    {
     "data": {
      "text/html": [
       "<div>\n",
       "<style scoped>\n",
       "    .dataframe tbody tr th:only-of-type {\n",
       "        vertical-align: middle;\n",
       "    }\n",
       "\n",
       "    .dataframe tbody tr th {\n",
       "        vertical-align: top;\n",
       "    }\n",
       "\n",
       "    .dataframe thead th {\n",
       "        text-align: right;\n",
       "    }\n",
       "</style>\n",
       "<table border=\"1\" class=\"dataframe\">\n",
       "  <thead>\n",
       "    <tr style=\"text-align: right;\">\n",
       "      <th></th>\n",
       "      <th>MaTinh</th>\n",
       "      <th>TenTinh</th>\n",
       "      <th>2017</th>\n",
       "      <th>2018</th>\n",
       "      <th>2019</th>\n",
       "      <th>2020</th>\n",
       "      <th>2021</th>\n",
       "      <th>2022</th>\n",
       "    </tr>\n",
       "  </thead>\n",
       "  <tbody>\n",
       "    <tr>\n",
       "      <th>0</th>\n",
       "      <td>1</td>\n",
       "      <td>THÀNH PHỐ HÀ NỘI</td>\n",
       "      <td>64999</td>\n",
       "      <td>38099</td>\n",
       "      <td>74277</td>\n",
       "      <td>78860</td>\n",
       "      <td>100688</td>\n",
       "      <td>96942</td>\n",
       "    </tr>\n",
       "    <tr>\n",
       "      <th>1</th>\n",
       "      <td>2</td>\n",
       "      <td>THÀNH PHỐ HỒ CHÍ MINH</td>\n",
       "      <td>64999</td>\n",
       "      <td>78321</td>\n",
       "      <td>0</td>\n",
       "      <td>74451</td>\n",
       "      <td>86224</td>\n",
       "      <td>84594</td>\n",
       "    </tr>\n",
       "    <tr>\n",
       "      <th>2</th>\n",
       "      <td>3</td>\n",
       "      <td>THÀNH PHỐ HẢI PHÒNG</td>\n",
       "      <td>18579</td>\n",
       "      <td>5099</td>\n",
       "      <td>18484</td>\n",
       "      <td>18533</td>\n",
       "      <td>23241</td>\n",
       "      <td>22399</td>\n",
       "    </tr>\n",
       "    <tr>\n",
       "      <th>3</th>\n",
       "      <td>4</td>\n",
       "      <td>THÀNH PHỐ ĐÀ NẴNG</td>\n",
       "      <td>11022</td>\n",
       "      <td>6099</td>\n",
       "      <td>10110</td>\n",
       "      <td>0</td>\n",
       "      <td>12631</td>\n",
       "      <td>12574</td>\n",
       "    </tr>\n",
       "    <tr>\n",
       "      <th>4</th>\n",
       "      <td>5</td>\n",
       "      <td>TỈNH HÀ GIANG</td>\n",
       "      <td>5563</td>\n",
       "      <td>3099</td>\n",
       "      <td>5155</td>\n",
       "      <td>5627</td>\n",
       "      <td>5603</td>\n",
       "      <td>5863</td>\n",
       "    </tr>\n",
       "    <tr>\n",
       "      <th>...</th>\n",
       "      <td>...</td>\n",
       "      <td>...</td>\n",
       "      <td>...</td>\n",
       "      <td>...</td>\n",
       "      <td>...</td>\n",
       "      <td>...</td>\n",
       "      <td>...</td>\n",
       "      <td>...</td>\n",
       "    </tr>\n",
       "    <tr>\n",
       "      <th>58</th>\n",
       "      <td>60</td>\n",
       "      <td>TỈNH BẠC LIÊU</td>\n",
       "      <td>4945</td>\n",
       "      <td>5370</td>\n",
       "      <td>5355</td>\n",
       "      <td>5589</td>\n",
       "      <td>6331</td>\n",
       "      <td>6412</td>\n",
       "    </tr>\n",
       "    <tr>\n",
       "      <th>59</th>\n",
       "      <td>61</td>\n",
       "      <td>TỈNH CÀ MAU</td>\n",
       "      <td>7684</td>\n",
       "      <td>9275</td>\n",
       "      <td>9292</td>\n",
       "      <td>9637</td>\n",
       "      <td>10914</td>\n",
       "      <td>10691</td>\n",
       "    </tr>\n",
       "    <tr>\n",
       "      <th>60</th>\n",
       "      <td>62</td>\n",
       "      <td>TỈNH ĐIỆN BIÊN</td>\n",
       "      <td>5302</td>\n",
       "      <td>5481</td>\n",
       "      <td>5287</td>\n",
       "      <td>5608</td>\n",
       "      <td>6268</td>\n",
       "      <td>6412</td>\n",
       "    </tr>\n",
       "    <tr>\n",
       "      <th>61</th>\n",
       "      <td>63</td>\n",
       "      <td>TỈNH ĐĂK NÔNG</td>\n",
       "      <td>6020</td>\n",
       "      <td>6361</td>\n",
       "      <td>6292</td>\n",
       "      <td>6212</td>\n",
       "      <td>6679</td>\n",
       "      <td>6852</td>\n",
       "    </tr>\n",
       "    <tr>\n",
       "      <th>62</th>\n",
       "      <td>64</td>\n",
       "      <td>TỈNH HẬU GIANG</td>\n",
       "      <td>5119</td>\n",
       "      <td>6190</td>\n",
       "      <td>5707</td>\n",
       "      <td>5813</td>\n",
       "      <td>6814</td>\n",
       "      <td>6549</td>\n",
       "    </tr>\n",
       "  </tbody>\n",
       "</table>\n",
       "<p>63 rows × 8 columns</p>\n",
       "</div>"
      ],
      "text/plain": [
       "    MaTinh                TenTinh   2017   2018   2019   2020    2021   2022\n",
       "0        1       THÀNH PHỐ HÀ NỘI  64999  38099  74277  78860  100688  96942\n",
       "1        2  THÀNH PHỐ HỒ CHÍ MINH  64999  78321      0  74451   86224  84594\n",
       "2        3    THÀNH PHỐ HẢI PHÒNG  18579   5099  18484  18533   23241  22399\n",
       "3        4      THÀNH PHỐ ĐÀ NẴNG  11022   6099  10110      0   12631  12574\n",
       "4        5          TỈNH HÀ GIANG   5563   3099   5155   5627    5603   5863\n",
       "..     ...                    ...    ...    ...    ...    ...     ...    ...\n",
       "58      60          TỈNH BẠC LIÊU   4945   5370   5355   5589    6331   6412\n",
       "59      61            TỈNH CÀ MAU   7684   9275   9292   9637   10914  10691\n",
       "60      62         TỈNH ĐIỆN BIÊN   5302   5481   5287   5608    6268   6412\n",
       "61      63          TỈNH ĐĂK NÔNG   6020   6361   6292   6212    6679   6852\n",
       "62      64         TỈNH HẬU GIANG   5119   6190   5707   5813    6814   6549\n",
       "\n",
       "[63 rows x 8 columns]"
      ]
     },
     "execution_count": 93,
     "metadata": {},
     "output_type": "execute_result"
    }
   ],
   "source": [
    "df_cities"
   ]
  },
  {
   "cell_type": "code",
   "execution_count": 94,
   "metadata": {},
   "outputs": [
    {
     "data": {
      "text/plain": [
       "2018    True\n",
       "Name: 5, dtype: bool"
      ]
     },
     "execution_count": 94,
     "metadata": {},
     "output_type": "execute_result"
    }
   ],
   "source": [
    "df_city_passed.loc[5,[2018]]\n",
    "df_city_passed.loc[5,[2018]]\n",
    "df_cities.loc[5,[2018]]!=0"
   ]
  },
  {
   "cell_type": "code",
   "execution_count": 95,
   "metadata": {},
   "outputs": [],
   "source": [
    "percentage_passed_city = []\n",
    "year = 2018\n",
    "for i in range(len(df_cities)):\n",
    "    percent = math.nan\n",
    "    if(df_cities.loc[i,[year]].iloc[0] !=0 ):\n",
    "        percent = df_city_passed.loc[i,year] *1.0 / df_cities.loc[i,year]\n",
    "    percentage_passed_city.append(percent)"
   ]
  },
  {
   "cell_type": "markdown",
   "metadata": {},
   "source": [
    "#### Tình thành có tỉ lệ thí sinh đỗ cao nhất và thấp nhất năm 2018 là"
   ]
  },
  {
   "cell_type": "code",
   "execution_count": 96,
   "metadata": {},
   "outputs": [],
   "source": [
    "max_ratio=max(percentage_passed_city)\n",
    "min_ratio=min(percentage_passed_city)"
   ]
  },
  {
   "cell_type": "code",
   "execution_count": 97,
   "metadata": {},
   "outputs": [
    {
     "name": "stdout",
     "output_type": "stream",
     "text": [
      "Tỉ lệ:  94.66 %\n",
      "TenTinh    TỈNH QUẢNG NAM\n",
      "Name: 32, dtype: object\n"
     ]
    }
   ],
   "source": [
    "# CAO NHẤT\n",
    "print('Tỉ lệ: ', round(max_ratio*100,2), '%')\n",
    "print(df_cities.iloc[percentage_passed_city.index(max_ratio)].loc[['TenTinh']])"
   ]
  },
  {
   "cell_type": "code",
   "execution_count": 98,
   "metadata": {},
   "outputs": [
    {
     "name": "stdout",
     "output_type": "stream",
     "text": [
      "Tỉ lệ:  61.44 %\n",
      "TenTinh    TỈNH NAM ĐỊNH\n",
      "Name: 23, dtype: object\n"
     ]
    }
   ],
   "source": [
    "# CAO NHẤT\n",
    "print('Tỉ lệ: ', round(min_ratio*100,2),'%')\n",
    "print(df_cities.iloc[percentage_passed_city.index(min_ratio)].loc[['TenTinh']])"
   ]
  },
  {
   "cell_type": "markdown",
   "metadata": {},
   "source": [
    "**Câu hỏi 4:** \\\n",
    "Cho biết điểm thi môn Toán trên khắp cả nước\n",
    "Trực quan hóa sự thay đổi điểm số trung bình của tất cả các môn thi"
   ]
  },
  {
   "cell_type": "code",
   "execution_count": 99,
   "metadata": {},
   "outputs": [],
   "source": [
    "math_17 = df_results[df_results['Year']==2017].loc[:,'Toan']\n",
    "math_18 = df_results[df_results['Year']==2018].loc[:,'Toan']\n",
    "math_19 = df_results[df_results['Year']==2019].loc[:,'Toan']\n",
    "math_20 = df_results[df_results['Year']==2020].loc[:,'Toan']\n",
    "math_21 = df_results[df_results['Year']==2021].loc[:,'Toan']\n",
    "math_22 = df_results[df_results['Year']==2022].loc[:,'Toan']"
   ]
  },
  {
   "cell_type": "code",
   "execution_count": 100,
   "metadata": {},
   "outputs": [],
   "source": [
    "language_17 = df_results[df_results['Year']==2017].loc[:, 'Ngoai ngu']\n",
    "language_18 = df_results[df_results['Year']==2018].loc[:, 'Ngoai ngu']\n",
    "language_19 = df_results[df_results['Year']==2019].loc[:, 'Ngoai ngu']\n",
    "language_20 = df_results[df_results['Year']==2020].loc[:, 'Ngoai ngu']\n",
    "language_21 = df_results[df_results['Year']==2021].loc[:, 'Ngoai ngu']\n",
    "language_22 = df_results[df_results['Year']==2022].loc[:, 'Ngoai ngu']"
   ]
  },
  {
   "cell_type": "markdown",
   "metadata": {},
   "source": [
    "#### Trực quan hóa để thấy sự tương quan của tất cả các môn qua các năm"
   ]
  },
  {
   "cell_type": "code",
   "execution_count": 101,
   "metadata": {},
   "outputs": [
    {
     "data": {
      "image/png": "[encoded data removed]",
      "text/plain": [
       "<Figure size 1332x756 with 9 Axes>"
      ]
     },
     "metadata": {
      "needs_background": "light"
     },
     "output_type": "display_data"
    }
   ],
   "source": [
    "fig,a =  plt.subplots(3,3)\n",
    "fig.set_size_inches(18.5, 10.5, forward=True)\n",
    "x = np.array([2017,2018,2019,2020,2021,2022])\n",
    "\n",
    "all_subjects =[ 'Toan', 'Van', 'Ngoai ngu', 'Ly',  'Hoa','Sinh', 'Lich su','Dia ly', 'GDCD']\n",
    "i=0\n",
    "for subject in all_subjects:\n",
    "       mean_years = []\n",
    "       for year in years:\n",
    "              mean_years.append(np.mean(df_results[df_results['Year']==year][subject]))\n",
    "\n",
    "       a[int(i/3)][i%3].plot(x,np.array(mean_years))\n",
    "       a[int(i/3)][i%3].set_title(subject)\n",
    "       plt.ylim(0,10)\n",
    "       i+=1\n",
    "plt.show()"
   ]
  },
  {
   "cell_type": "markdown",
   "metadata": {},
   "source": [
    "**Câu hỏi 5**\n",
    "### Biểu đồ thể hiển phổ điểm của môn Toán và Ngoại ngữ qua các năm"
   ]
  },
  {
   "cell_type": "code",
   "execution_count": 102,
   "metadata": {},
   "outputs": [
    {
     "data": {
      "text/plain": [
       "Text(0.5, 1.0, '2021')"
      ]
     },
     "execution_count": 102,
     "metadata": {},
     "output_type": "execute_result"
    },
    {
     "data": {
      "image/png": "[encoded data removed]",
      "text/plain": [
       "<Figure size 1332x756 with 4 Axes>"
      ]
     },
     "metadata": {
      "needs_background": "light"
     },
     "output_type": "display_data"
    }
   ],
   "source": [
    "#Môn TOÁN\n",
    "\n",
    "fig,a =  plt.subplots(2,2)\n",
    "fig.set_size_inches(18.5, 10.5, forward=True)\n",
    "\n",
    "c = [0. , 0.2, 0.4, 0.6, 0.8, 1. , 1.2, 1.4, 1.6, 1.8, 2. , 2.2, 2.4,\n",
    "       2.6, 2.8, 3. , 3.2, 3.4, 3.6, 3.8, 4. , 4.2, 4.4, 4.6, 4.8, 5. ,\n",
    "       5.2, 5.4, 5.6, 5.8, 6. , 6.2, 6.4, 6.6, 6.8, 7. , 7.2, 7.4, 7.6,\n",
    "       7.8, 8. , 8.2, 8.4, 8.6, 8.8, 9. , 9.2, 9.4, 9.6, 9.8,10.0]\n",
    "\n",
    "a[0][0].hist(math_18,edgecolor=\"#6A9662\",color=\"#B3D4FC\")\n",
    "a[0][0].set_title('2018')\n",
    "a[0][1].hist(math_19,edgecolor=\"#6A9662\",color=\"#DDFFDD\")\n",
    "a[0][1].set_title('2019')\n",
    "a[1][0].hist(math_20,edgecolor=\"#6A9662\",color=\"#112971\")\n",
    "a[1][0].set_title('2020')\n",
    "a[1][1].hist(math_21,edgecolor=\"#6A9662\",color=\"#F16E28\")\n",
    "a[1][1].set_title('2021')"
   ]
  },
  {
   "cell_type": "code",
   "execution_count": 103,
   "metadata": {},
   "outputs": [
    {
     "data": {
      "text/html": [
       "<div>\n",
       "<style scoped>\n",
       "    .dataframe tbody tr th:only-of-type {\n",
       "        vertical-align: middle;\n",
       "    }\n",
       "\n",
       "    .dataframe tbody tr th {\n",
       "        vertical-align: top;\n",
       "    }\n",
       "\n",
       "    .dataframe thead th {\n",
       "        text-align: right;\n",
       "    }\n",
       "</style>\n",
       "<table border=\"1\" class=\"dataframe\">\n",
       "  <thead>\n",
       "    <tr style=\"text-align: right;\">\n",
       "      <th></th>\n",
       "      <th>SBD</th>\n",
       "      <th>MaTinh</th>\n",
       "      <th>Toan</th>\n",
       "      <th>Van</th>\n",
       "      <th>Ly</th>\n",
       "      <th>Hoa</th>\n",
       "      <th>Sinh</th>\n",
       "      <th>Lich su</th>\n",
       "      <th>Dia ly</th>\n",
       "      <th>GDCD</th>\n",
       "      <th>Ngoai ngu</th>\n",
       "      <th>Year</th>\n",
       "    </tr>\n",
       "  </thead>\n",
       "  <tbody>\n",
       "    <tr>\n",
       "      <th>23</th>\n",
       "      <td>1000028</td>\n",
       "      <td>1</td>\n",
       "      <td>3.8</td>\n",
       "      <td>5.00</td>\n",
       "      <td>NaN</td>\n",
       "      <td>NaN</td>\n",
       "      <td>NaN</td>\n",
       "      <td>3.75</td>\n",
       "      <td>6.75</td>\n",
       "      <td>7.75</td>\n",
       "      <td>6.8</td>\n",
       "      <td>2017</td>\n",
       "    </tr>\n",
       "    <tr>\n",
       "      <th>185</th>\n",
       "      <td>1000212</td>\n",
       "      <td>1</td>\n",
       "      <td>3.8</td>\n",
       "      <td>7.75</td>\n",
       "      <td>NaN</td>\n",
       "      <td>NaN</td>\n",
       "      <td>NaN</td>\n",
       "      <td>4.25</td>\n",
       "      <td>6.75</td>\n",
       "      <td>7.25</td>\n",
       "      <td>5.2</td>\n",
       "      <td>2017</td>\n",
       "    </tr>\n",
       "    <tr>\n",
       "      <th>241</th>\n",
       "      <td>1000276</td>\n",
       "      <td>1</td>\n",
       "      <td>3.8</td>\n",
       "      <td>5.50</td>\n",
       "      <td>NaN</td>\n",
       "      <td>NaN</td>\n",
       "      <td>NaN</td>\n",
       "      <td>2.00</td>\n",
       "      <td>4.75</td>\n",
       "      <td>6.50</td>\n",
       "      <td>3.6</td>\n",
       "      <td>2017</td>\n",
       "    </tr>\n",
       "    <tr>\n",
       "      <th>249</th>\n",
       "      <td>1000284</td>\n",
       "      <td>1</td>\n",
       "      <td>3.8</td>\n",
       "      <td>6.50</td>\n",
       "      <td>NaN</td>\n",
       "      <td>NaN</td>\n",
       "      <td>NaN</td>\n",
       "      <td>3.00</td>\n",
       "      <td>8.00</td>\n",
       "      <td>7.25</td>\n",
       "      <td>6.8</td>\n",
       "      <td>2017</td>\n",
       "    </tr>\n",
       "    <tr>\n",
       "      <th>295</th>\n",
       "      <td>1000331</td>\n",
       "      <td>1</td>\n",
       "      <td>3.8</td>\n",
       "      <td>6.00</td>\n",
       "      <td>NaN</td>\n",
       "      <td>NaN</td>\n",
       "      <td>NaN</td>\n",
       "      <td>3.75</td>\n",
       "      <td>4.75</td>\n",
       "      <td>7.00</td>\n",
       "      <td>4.2</td>\n",
       "      <td>2017</td>\n",
       "    </tr>\n",
       "    <tr>\n",
       "      <th>...</th>\n",
       "      <td>...</td>\n",
       "      <td>...</td>\n",
       "      <td>...</td>\n",
       "      <td>...</td>\n",
       "      <td>...</td>\n",
       "      <td>...</td>\n",
       "      <td>...</td>\n",
       "      <td>...</td>\n",
       "      <td>...</td>\n",
       "      <td>...</td>\n",
       "      <td>...</td>\n",
       "      <td>...</td>\n",
       "    </tr>\n",
       "    <tr>\n",
       "      <th>994731</th>\n",
       "      <td>64005930</td>\n",
       "      <td>64</td>\n",
       "      <td>3.8</td>\n",
       "      <td>4.50</td>\n",
       "      <td>NaN</td>\n",
       "      <td>NaN</td>\n",
       "      <td>NaN</td>\n",
       "      <td>4.00</td>\n",
       "      <td>4.25</td>\n",
       "      <td>6.50</td>\n",
       "      <td>3.0</td>\n",
       "      <td>2022</td>\n",
       "    </tr>\n",
       "    <tr>\n",
       "      <th>994739</th>\n",
       "      <td>64005940</td>\n",
       "      <td>64</td>\n",
       "      <td>3.8</td>\n",
       "      <td>5.25</td>\n",
       "      <td>NaN</td>\n",
       "      <td>NaN</td>\n",
       "      <td>NaN</td>\n",
       "      <td>6.25</td>\n",
       "      <td>7.50</td>\n",
       "      <td>8.75</td>\n",
       "      <td>2.8</td>\n",
       "      <td>2022</td>\n",
       "    </tr>\n",
       "    <tr>\n",
       "      <th>994810</th>\n",
       "      <td>64005985</td>\n",
       "      <td>64</td>\n",
       "      <td>3.8</td>\n",
       "      <td>4.50</td>\n",
       "      <td>NaN</td>\n",
       "      <td>NaN</td>\n",
       "      <td>NaN</td>\n",
       "      <td>7.25</td>\n",
       "      <td>6.50</td>\n",
       "      <td>8.75</td>\n",
       "      <td>2.2</td>\n",
       "      <td>2022</td>\n",
       "    </tr>\n",
       "    <tr>\n",
       "      <th>994813</th>\n",
       "      <td>64006009</td>\n",
       "      <td>64</td>\n",
       "      <td>3.8</td>\n",
       "      <td>3.00</td>\n",
       "      <td>NaN</td>\n",
       "      <td>NaN</td>\n",
       "      <td>NaN</td>\n",
       "      <td>4.75</td>\n",
       "      <td>5.25</td>\n",
       "      <td>6.25</td>\n",
       "      <td>3.0</td>\n",
       "      <td>2022</td>\n",
       "    </tr>\n",
       "    <tr>\n",
       "      <th>995369</th>\n",
       "      <td>64006554</td>\n",
       "      <td>64</td>\n",
       "      <td>3.8</td>\n",
       "      <td>4.50</td>\n",
       "      <td>NaN</td>\n",
       "      <td>NaN</td>\n",
       "      <td>NaN</td>\n",
       "      <td>4.50</td>\n",
       "      <td>5.25</td>\n",
       "      <td>6.25</td>\n",
       "      <td>2.2</td>\n",
       "      <td>2022</td>\n",
       "    </tr>\n",
       "  </tbody>\n",
       "</table>\n",
       "<p>118678 rows × 12 columns</p>\n",
       "</div>"
      ],
      "text/plain": [
       "             SBD  MaTinh  Toan   Van  Ly  Hoa  Sinh  Lich su  Dia ly  GDCD  \\\n",
       "23       1000028       1   3.8  5.00 NaN  NaN   NaN     3.75    6.75  7.75   \n",
       "185      1000212       1   3.8  7.75 NaN  NaN   NaN     4.25    6.75  7.25   \n",
       "241      1000276       1   3.8  5.50 NaN  NaN   NaN     2.00    4.75  6.50   \n",
       "249      1000284       1   3.8  6.50 NaN  NaN   NaN     3.00    8.00  7.25   \n",
       "295      1000331       1   3.8  6.00 NaN  NaN   NaN     3.75    4.75  7.00   \n",
       "...          ...     ...   ...   ...  ..  ...   ...      ...     ...   ...   \n",
       "994731  64005930      64   3.8  4.50 NaN  NaN   NaN     4.00    4.25  6.50   \n",
       "994739  64005940      64   3.8  5.25 NaN  NaN   NaN     6.25    7.50  8.75   \n",
       "994810  64005985      64   3.8  4.50 NaN  NaN   NaN     7.25    6.50  8.75   \n",
       "994813  64006009      64   3.8  3.00 NaN  NaN   NaN     4.75    5.25  6.25   \n",
       "995369  64006554      64   3.8  4.50 NaN  NaN   NaN     4.50    5.25  6.25   \n",
       "\n",
       "        Ngoai ngu  Year  \n",
       "23            6.8  2017  \n",
       "185           5.2  2017  \n",
       "241           3.6  2017  \n",
       "249           6.8  2017  \n",
       "295           4.2  2017  \n",
       "...           ...   ...  \n",
       "994731        3.0  2022  \n",
       "994739        2.8  2022  \n",
       "994810        2.2  2022  \n",
       "994813        3.0  2022  \n",
       "995369        2.2  2022  \n",
       "\n",
       "[118678 rows x 12 columns]"
      ]
     },
     "execution_count": 103,
     "metadata": {},
     "output_type": "execute_result"
    }
   ],
   "source": [
    "df_results[df_results['Toan']==3.8]"
   ]
  },
  {
   "cell_type": "code",
   "execution_count": 104,
   "metadata": {},
   "outputs": [
    {
     "data": {
      "text/plain": [
       "Text(0.5, 1.0, '2021')"
      ]
     },
     "execution_count": 104,
     "metadata": {},
     "output_type": "execute_result"
    },
    {
     "data": {
      "image/png": "[encoded data removed]",
      "text/plain": [
       "<Figure size 1332x756 with 4 Axes>"
      ]
     },
     "metadata": {
      "needs_background": "light"
     },
     "output_type": "display_data"
    }
   ],
   "source": [
    "#Môn Ngoại ngữ\n",
    "\n",
    "fig,a =  plt.subplots(2,2)\n",
    "fig.set_size_inches(18.5, 10.5, forward=True)\n",
    "x = np.array(df_cities['MaTinh'])\n",
    "\n",
    "x = np.arange(1,5)\n",
    "a[0][0].hist(language_18,edgecolor=\"#6A9662\",color=\"#B3D4FC\")\n",
    "a[0][0].set_title('2018')\n",
    "a[0][1].hist(language_19,edgecolor=\"#6A9662\",color=\"#DDFFDD\")\n",
    "a[0][1].set_title('2019')\n",
    "a[1][0].hist(language_20,edgecolor=\"#6A9662\",color=\"#112971\")\n",
    "a[1][0].set_title('2020')\n",
    "a[1][1].hist(language_21,edgecolor=\"#6A9662\",color=\"#659AD3\")\n",
    "a[1][1].set_title('2021')"
   ]
  },
  {
   "cell_type": "markdown",
   "metadata": {},
   "source": [
    "### So sánh phổ điểm của môn Toán và Ngoại ngữ theo sự thay đổi từng năm theo đồ thị đã được trực quan\n",
    "Liệu có thể nói như một số bài báo là Ngoại ngữ (cụ thể là tiếng Anh) hiện nay không được các bạn trẻ ưu tiên lấy đó để xét điểm vào đại học ??"
   ]
  },
  {
   "cell_type": "markdown",
   "metadata": {},
   "source": [
    "**Trả lời**"
   ]
  },
  {
   "cell_type": "markdown",
   "metadata": {},
   "source": [
    "\n",
    "ở các bài thi môn toán qua từng năm có sự thay đổi rõ rệt, vẫn là biểu đồ bị lệch về bên phải cho thấy điểm trung binh đạt được là khá cao và có xu hướng đang dần tăng lên, điều này có thể được giải thích theo 2 hướng tích cực và tiêu cực\n",
    "- Tích cực là: Toán là một môn bắt buộc và tất cả các thí sinh tham gia luôn trong tâm thế đạt được điểm cao nhất có thể để dễ dàng hơn cho các ôn sau, nó cũng là tiền đề để học tốt các bộ môn về tự nhiên\n",
    "- Tiêu cực là: Do vấn đề về dịch bênh cũng như việc xét tuyển ĐH đã không còn quá phụ thuộc vào điểm số của kì thi THPTQG nên đề có xu hướng dễ chịu hơn, nghiêng về hướng muốn học sinh được tốt nghiệp với điểm số cao và không quan tâm đến tình trạng *lạm phát điểm*"
   ]
  },
  {
   "cell_type": "markdown",
   "metadata": {},
   "source": [
    "Bài thi Ngoại ngữ thì lại là đồ thị lệch về bên trái thể hiện việc điểm số không hề cao và phần nhiều là các trường họp dưới trung bình, có thể thấy qua các bài báo thường đăng về việc có >40% học sinh tham gia THPTQG có điểm số thấp. Tuy nhiên điểm liệt thấp cho thấy đề thi vẫn đảm bảo đủ điều kiện cho HS tốt nghiệp.\n",
    "- Ở các năm trước, điểm số có phần rất thấp so với năm 2021, điều này được lí giải là do hiện tại xu hướng xét tuyển bằng điểm thi trong trường và các bằng Anh Văn Quốc tế là vô cùng phổ biến trong hiện tại, phải gọi là xu thế cho các bạn không muốn phải khó khăn trong việc ôn luyện nhiều môn mòa chỉ cần quan tâm vào bằng tiếng anh là được\n",
    "- Ỏ năm 2021, điểm số tăng cao vượt trội hơn cả với môn toán\n",
    "- Tỉnh trạng này còn có thể là do đề thi hiện tại được đánh giá là dễ hơn so với các năm trước và các môn thi tổ hợp (tự nhiên) trong cùng năm"
   ]
  },
  {
   "cell_type": "markdown",
   "metadata": {},
   "source": [
    "**Câu hỏi 6**\\\n",
    "So sánh số lượng người thi tổ hợp Khoa học tự nhiên và Khoa học xã hội trong 4 năm\n",
    "- KHTN: Lí Hóa Sinh\n",
    "- KHXH: Sử Địa GDCD"
   ]
  },
  {
   "cell_type": "markdown",
   "metadata": {},
   "source": [
    "Cho biết số lượng thí sinh tham dự bài thi tổ hợp **KHTN** hoặc **KHXH** là các học sinh tham gia thi tối thiểu 1 trong 3 môn của tổ hợp\\\n",
    "Vậy nên để tranh tình trạng có những bài thi làm ít hơn 3 bài thì mình sẽ *lấy số lượng của môn thi **cao nhất** trong cả 3 môn* và tính ra số lượng bài thi tổ hợp"
   ]
  },
  {
   "cell_type": "code",
   "execution_count": 105,
   "metadata": {},
   "outputs": [],
   "source": [
    "science_subjects = ['Ly', 'Hoa', 'Sinh']\n",
    "social_subjects = ['Lich su', 'Dia ly', 'GDCD']"
   ]
  },
  {
   "cell_type": "code",
   "execution_count": 106,
   "metadata": {},
   "outputs": [
    {
     "data": {
      "text/plain": [
       "1971173"
      ]
     },
     "execution_count": 106,
     "metadata": {},
     "output_type": "execute_result"
    }
   ],
   "source": [
    "count_science=0\n",
    "for subject in science_subjects:\n",
    "    if(df_results[subject].count() > count_science):\n",
    "        count_science = df_results[subject].count()\n",
    "count_science"
   ]
  },
  {
   "cell_type": "code",
   "execution_count": 107,
   "metadata": {},
   "outputs": [
    {
     "data": {
      "text/plain": [
       "3315520"
      ]
     },
     "execution_count": 107,
     "metadata": {},
     "output_type": "execute_result"
    }
   ],
   "source": [
    "count_social=0\n",
    "for subject in social_subjects:\n",
    "    if(df_results[subject].count() > count_social):\n",
    "        count_social = df_results[subject].count()\n",
    "count_social"
   ]
  },
  {
   "cell_type": "code",
   "execution_count": 108,
   "metadata": {},
   "outputs": [
    {
     "data": {
      "text/plain": [
       "True"
      ]
     },
     "execution_count": 108,
     "metadata": {},
     "output_type": "execute_result"
    }
   ],
   "source": [
    "count_science + count_social > df_results['SBD'].count()"
   ]
  },
  {
   "cell_type": "markdown",
   "metadata": {},
   "source": [
    "**Kết luận**\n",
    "=> Có nhiều trường hợp sinh viên thi cả 2 tổ hợp trong 4 năm"
   ]
  },
  {
   "cell_type": "code",
   "execution_count": 109,
   "metadata": {},
   "outputs": [
    {
     "data": {
      "image/png": "[encoded data removed]",
      "text/plain": [
       "<Figure size 432x288 with 1 Axes>"
      ]
     },
     "metadata": {},
     "output_type": "display_data"
    }
   ],
   "source": [
    "# fig = plt.figure()\n",
    "labels = ['Tổ họp Khoa học Tự nhiên', 'Tổ hợp Khoa học Xã hội']\n",
    "plt.pie([count_science,count_social], labels = labels,autopct='%1.2f%%', textprops={'color':\"w\"})\n",
    "plt.show()"
   ]
  },
  {
   "cell_type": "markdown",
   "metadata": {},
   "source": [
    "### Vẽ biểu đồ so sánh số lượng các bài thi tổ hợp trong mỗi năm"
   ]
  },
  {
   "cell_type": "code",
   "execution_count": 110,
   "metadata": {},
   "outputs": [
    {
     "name": "stdout",
     "output_type": "stream",
     "text": [
      "1956275\n",
      "1956275\n",
      "1956275\n",
      "1956275\n",
      "1956275\n",
      "1956275\n"
     ]
    }
   ],
   "source": [
    "for year in years:\n",
    "    count_science=0\n",
    "    for subject in science_subjects:\n",
    "        if(df_results[df_results['Year']==year].loc[:,subject].count() > count_science):\n",
    "            count_science = df_results[subject].count()\n",
    "    print(count_science)\n",
    "\n"
   ]
  },
  {
   "cell_type": "code",
   "execution_count": 111,
   "metadata": {},
   "outputs": [
    {
     "data": {
      "text/plain": [
       "['Ly', 'Hoa', 'Sinh']"
      ]
     },
     "execution_count": 111,
     "metadata": {},
     "output_type": "execute_result"
    }
   ],
   "source": [
    "science_subjects"
   ]
  },
  {
   "cell_type": "code",
   "execution_count": 112,
   "metadata": {},
   "outputs": [
    {
     "name": "stdout",
     "output_type": "stream",
     "text": [
      "293287\n",
      "295536\n",
      "290377\n"
     ]
    }
   ],
   "source": [
    "count_science=0\n",
    "for subject in science_subjects:\n",
    "    if(df_results[df_results['Year']==2020].loc[:,subject].count() > count_science):\n",
    "        print(df_results[df_results['Year']==2020].loc[:,subject].count())\n",
    "        # count_science = df_results[subject].count()\n",
    "# print(count_science)"
   ]
  },
  {
   "cell_type": "markdown",
   "metadata": {},
   "source": [
    "**Câu hỏi 7**\\\n",
    "So sánh số lượng các bài thi tổ hợp và xem Tổ hợp nào hiện đang là xu thế và có điểm số lấn át với những tổ hợp khác"
   ]
  },
  {
   "cell_type": "markdown",
   "metadata": {},
   "source": [
    "**cụ thể**\\\n",
    "Dưới đây chúng ta chỉ xét những tổ hợp đơn giản\n",
    "- A00 : Toán - Lý - Hóa\n",
    "- A01 : Toán - Lý - Anh\n",
    "- B00 : Toán - Hóa -Sinh\n",
    "- C00 : Ngữ Văn - Địa lý - Lịch sử\n",
    "- D07 : Ngữ Văn - Ngoại ngữ - Hóa học"
   ]
  },
  {
   "cell_type": "markdown",
   "metadata": {},
   "source": [
    "**Câu 8:**\n",
    "So sánh điểm số của trước khi covid và sau khi covid, cụ thể là năm 2019 và 2020"
   ]
  },
  {
   "cell_type": "code",
   "execution_count": 115,
   "metadata": {},
   "outputs": [
    {
     "data": {
      "text/plain": [
       "Text(0.5, 1.0, 'Điểm trung bình các môn học năm 2019, năm 2020')"
      ]
     },
     "execution_count": 115,
     "metadata": {},
     "output_type": "execute_result"
    },
    {
     "data": {
      "image/png": "[encoded data removed]",
      "text/plain": [
       "<Figure size 1080x576 with 1 Axes>"
      ]
     },
     "metadata": {
      "needs_background": "light"
     },
     "output_type": "display_data"
    }
   ],
   "source": [
    "\n",
    "df=df_results[(df_results['Year']==2019) | (df_results['Year'] == 2020)]\n",
    "df=df.groupby(['Year'])[subjects].mean()\n",
    "df.reset_index(inplace=True)\n",
    "df=df.melt(id_vars=[\"Year\"],var_name=\"Subject\",value_name=\"DTB\")\n",
    "plt.figure(figsize = (15,8))\n",
    "sns.barplot(data=df,\n",
    "            x=\"Subject\",\n",
    "            y=\"DTB\",\n",
    "            hue=\"Year\",\n",
    "            )\n",
    "plt.legend(title=\"Year\", loc=\"center left\",bbox_to_anchor=(1.05,0.5))\n",
    "plt.title(\"Điểm trung bình các môn học năm 2019, năm 2020\")"
   ]
  },
  {
   "cell_type": "markdown",
   "metadata": {},
   "source": [
    "**Câu 9:**\n",
    "Hãy tìm ra sự khác biệt trọng điểm số của người dân ở vùng kinh tế trọng điểm (như TPHCM, HN) và người dân ở những Tỉnh vẫn còn kém phát triển về kinh tế"
   ]
  },
  {
   "cell_type": "code",
   "execution_count": 117,
   "metadata": {},
   "outputs": [],
   "source": [
    "poor_cities = ['TỈNH ĐIỆN BIÊN\t','TỈNH HÀ GIANG','TỈNH CAO BẰNG','TỈNH BẮC KẠN','TỈNH KON TUM','TỈNH SƠN LA','TỈNH LAI CHÂU']"
   ]
  },
  {
   "cell_type": "code",
   "execution_count": 122,
   "metadata": {},
   "outputs": [
    {
     "data": {
      "text/html": [
       "<div>\n",
       "<style scoped>\n",
       "    .dataframe tbody tr th:only-of-type {\n",
       "        vertical-align: middle;\n",
       "    }\n",
       "\n",
       "    .dataframe tbody tr th {\n",
       "        vertical-align: top;\n",
       "    }\n",
       "\n",
       "    .dataframe thead th {\n",
       "        text-align: right;\n",
       "    }\n",
       "</style>\n",
       "<table border=\"1\" class=\"dataframe\">\n",
       "  <thead>\n",
       "    <tr style=\"text-align: right;\">\n",
       "      <th></th>\n",
       "      <th>MaTinh</th>\n",
       "      <th>TenTinh</th>\n",
       "      <th>2017</th>\n",
       "      <th>2018</th>\n",
       "      <th>2019</th>\n",
       "      <th>2020</th>\n",
       "      <th>2021</th>\n",
       "      <th>2022</th>\n",
       "    </tr>\n",
       "  </thead>\n",
       "  <tbody>\n",
       "    <tr>\n",
       "      <th>6</th>\n",
       "      <td>7</td>\n",
       "      <td>TỈNH LAI CHÂU</td>\n",
       "      <td>3328</td>\n",
       "      <td>3232</td>\n",
       "      <td>3231</td>\n",
       "      <td>3298</td>\n",
       "      <td>3563</td>\n",
       "      <td>3661</td>\n",
       "    </tr>\n",
       "  </tbody>\n",
       "</table>\n",
       "</div>"
      ],
      "text/plain": [
       "   MaTinh        TenTinh  2017  2018  2019  2020  2021  2022\n",
       "6       7  TỈNH LAI CHÂU  3328  3232  3231  3298  3563  3661"
      ]
     },
     "execution_count": 122,
     "metadata": {},
     "output_type": "execute_result"
    }
   ],
   "source": [
    "df_cities[df_cities['TenTinh']==poor_cities[6]]"
   ]
  },
  {
   "cell_type": "markdown",
   "metadata": {},
   "source": [
    "continuous..."
   ]
  },
  {
   "cell_type": "markdown",
   "metadata": {},
   "source": [
    "# Còn tiếp ....\n",
    "hãy trả lời giừm tớ đuy"
   ]
  }
 ],
 "metadata": {
  "kernelspec": {
   "display_name": "Python 3.9.7 64-bit",
   "language": "python",
   "name": "python3"
  },
  "language_info": {
   "codemirror_mode": {
    "name": "ipython",
    "version": 3
   },
   "file_extension": ".py",
   "mimetype": "text/x-python",
   "name": "python",
   "nbconvert_exporter": "python",
   "pygments_lexer": "ipython3",
   "version": "3.9.7"
  },
  "orig_nbformat": 4,
  "vscode": {
   "interpreter": {
    "hash": "6bfec4ce93f3c8730c5305a78a297c4af7425bada9233a6e3b20f480ff32d241"
   }
  }
 },
 "nbformat": 4,
 "nbformat_minor": 2
}

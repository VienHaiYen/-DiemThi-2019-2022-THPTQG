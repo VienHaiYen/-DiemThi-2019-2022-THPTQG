{
 "cells": [
  {
   "attachments": {},
   "cell_type": "markdown",
   "metadata": {},
   "source": [
    "## ĐỒ ÁN CUỐI KÌ LẬP TRÌNH CHO KHOA HỌC DỮ LIỆU"
   ]
  },
  {
   "attachments": {},
   "cell_type": "markdown",
   "metadata": {},
   "source": [
    "### Thành viên:\n",
    "- 20120219: Nguyễn Minh Trí\n",
    "- 20120357: Nguyễn Đức Minh Quân\n",
    "- 20120633: Viên Hải Yến\n",
    "- 20120634: Lê Minh Trí\n"
   ]
  },
  {
   "attachments": {},
   "cell_type": "markdown",
   "metadata": {},
   "source": [
    "## **Mô tả đồ án:**\n",
    "- Thực hiện quy trình khoa học dữ liệu với dữ liệu được chọn, cụ thể ở đây là danh sách các bộ phim trên Nexfilx được lấy về vào năm 2021, những bộ phim được Nexflix phát hành tình từ ngày 14/4/2015.\n",
    "- Tự đặt các câu hỏi liên quan tới dữ liệu và có thể đào sâu được các vấn đề tiềm ẩn, từ đó trực quan hóa sinh động dữ liệu và tìm ra những điểm mấu chốt có thể áp dụng được trong mô hình dữ liệu.\n",
    "\n",
    "### **Thời gian kết thúc đồ án:** 11/1/2023\n",
    "### **Thời gian vấn đáp:** Tuần 14/1/2023\n",
    "### **Nguồn của dữ liệu:**\n",
    "##### Dữ liệu được lấy trên Kaggle dưới file exel, đường link dẫn đến  [Ở đây](https://www.kaggle.com/datasets/syedmubarak/netflix-dataset-latest-2021)"
   ]
  },
  {
   "cell_type": "markdown",
   "metadata": {},
   "source": [
    "## Thu thập dữ liệu từ web\n",
    "Đào từ web xuống tất cả các kết quả thi của thí sinh từ năm [2015-2022]"
   ]
  },
  {
   "cell_type": "code",
   "execution_count": null,
   "metadata": {},
   "outputs": [],
   "source": [
    "import numpy as np\n",
    "import pandas as pd\n",
    "import seaborn as sns\n",
    "import matplotlib.pyplot as plt\n",
    "import requests\n",
    "import json"
   ]
  },
  {
   "cell_type": "code",
   "execution_count": null,
   "metadata": {},
   "outputs": [],
   "source": [
    "# https://diemthi.vnanet.vn/BTT-tra-cuu-diem-thi-THPT-2019\n",
    "# https://diemthi.vnanet.vn/Home/SearchBySobaodanhFile?code=02070045&nam=2019\n",
    "# HCM :  [02000001, 02071045]"
   ]
  },
  {
   "cell_type": "code",
   "execution_count": null,
   "metadata": {},
   "outputs": [],
   "source": [
    "df_cities = pd.read_csv('./[2017-2022] thptqg-data/Tinh.csv')\n",
    "df_cities.head()"
   ]
  },
  {
   "cell_type": "code",
   "execution_count": null,
   "metadata": {},
   "outputs": [],
   "source": [
    "years=[2019,2021,2021,2022]\n",
    "subjects=[\"Toan\",\"Van\",\"Ngoai ngu\",\"Ly\",\"Sinh\",\"Hoa\",\"Lich su\",\"Dia ly\",\"GDCD\"]"
   ]
  },
  {
   "cell_type": "code",
   "execution_count": null,
   "metadata": {},
   "outputs": [],
   "source": [
    "sum=0\n",
    "df_list=[]\n",
    "for year in range(2017,2023):\n",
    "    df_year=pd.read_csv('./[2017-2022] thptqg-data/{}.csv'.format(year))\n",
    "    df_year.rename(columns = {\"Vat ly\" : \"Ly\"}, inplace=True)\n",
    "    sum+=len(df_year)\n",
    "    df_list.append(df_year)\n",
    "df=pd.concat(df_list)"
   ]
  },
  {
   "cell_type": "code",
   "execution_count": null,
   "metadata": {},
   "outputs": [],
   "source": [
    "# df.to_csv('2017-2022.csv',index=False)\n",
    "df.head(10)"
   ]
  },
  {
   "cell_type": "markdown",
   "metadata": {},
   "source": [
    "## Khám phá dữ liệu"
   ]
  },
  {
   "cell_type": "markdown",
   "metadata": {},
   "source": [
    "#### Số dòng và cột của dữ liệu"
   ]
  },
  {
   "cell_type": "code",
   "execution_count": null,
   "metadata": {},
   "outputs": [],
   "source": [
    "num_rows,num_cols=df.shape\n",
    "print('Số cột : {}'.format(num_cols))\n",
    "print('Số dòng: {}'.format(num_rows))"
   ]
  },
  {
   "attachments": {},
   "cell_type": "markdown",
   "metadata": {},
   "source": [
    "#### Kiểm tra dòng trùng"
   ]
  },
  {
   "cell_type": "code",
   "execution_count": null,
   "metadata": {},
   "outputs": [],
   "source": [
    "have_duplicated_rows=df.duplicated().any()\n",
    "\n",
    "if have_duplicated_rows:\n",
    "    print('Các dòng dữ liệu bị lặp')\n",
    "else:\n",
    "    print('Các dòng dữ liệu không bị lặp')"
   ]
  },
  {
   "attachments": {},
   "cell_type": "markdown",
   "metadata": {},
   "source": [
    "#### Dữ liệu có bị thiếu không ?"
   ]
  },
  {
   "cell_type": "code",
   "execution_count": null,
   "metadata": {},
   "outputs": [],
   "source": [
    "missing_ratio = df.isnull().sum()\n",
    "missing_ratio = missing_ratio / num_rows\n",
    "missing_ratio[missing_ratio > 0]"
   ]
  },
  {
   "attachments": {},
   "cell_type": "markdown",
   "metadata": {},
   "source": [
    "*Ly do thieu*"
   ]
  },
  {
   "cell_type": "markdown",
   "metadata": {},
   "source": []
  },
  {
   "attachments": {},
   "cell_type": "markdown",
   "metadata": {},
   "source": [
    "#### Ý nghĩa của từng dòng\n",
    "- Là điểm thi THPTQG của các thí sinh, mỗi dòng là riêng biệt với nhau và sẽ không xuất hiện tình trạng trùng\n",
    "- Các thí sinh có thể đến từ các tỉnh thành khác nhau, có mã số iêng biệt ở từng năm"
   ]
  },
  {
   "cell_type": "code",
   "execution_count": null,
   "metadata": {},
   "outputs": [],
   "source": [
    "print('Có tổng cộng là {number} học sinh tham gia kì thi THPTQG trên khắp cả nước'.format(number=num_rows))\n",
    "print('Số lượng các tỉnh tham gia là {number} tỉnh'.format(number=len(df['MaTinh'].unique())))"
   ]
  },
  {
   "attachments": {},
   "cell_type": "markdown",
   "metadata": {},
   "source": [
    "#### Ý nghĩa của từng cột"
   ]
  },
  {
   "attachments": {},
   "cell_type": "markdown",
   "metadata": {},
   "source": [
    "Các cột là:"
   ]
  },
  {
   "cell_type": "code",
   "execution_count": null,
   "metadata": {},
   "outputs": [],
   "source": [
    "for i in df.columns:\n",
    "    print(i, end = \", \")"
   ]
  },
  {
   "attachments": {},
   "cell_type": "markdown",
   "metadata": {},
   "source": [
    "\n",
    "|Tên cột   |Ý nghĩa   |\n",
    "|---|---|\n",
    "|SBD  |Số báo danh của thí sinh (có thể bị trùng ở các năm khác nhau), trong 1 năm không tồn tại 2 SBD giống nha   |\n",
    "|Toan   |Điểm môn Toán  |\n",
    "|Van   |Điểm môn Ngữ văn   |\n",
    "|Ngoai ngu   |Điểm môn Ngoại ngữ  (Có thể là Tiếng Anh, Tiếng Nhật, Tiếng Trung ,...) |\n",
    "|Ly   |Điểm môn Vật lý   |\n",
    "|Hoa   |Điểm môn Hóa học   |\n",
    "|Sinh   |Điểm môn Sinh học   |\n",
    "|Lich su   |Điểm môn Sử   |\n",
    "|Dia ly   |Điểm môn Dịa   |\n",
    "|GDCD   |Điểm môn Giáo dục công dân   |\n",
    "|MaTinh   |Mã tỉnh dự thi   |\n",
    "\n",
    "\n"
   ]
  },
  {
   "attachments": {},
   "cell_type": "markdown",
   "metadata": {},
   "source": [
    "#### Mỗi cột hiện đang có kiểu dữ liệu gì? "
   ]
  },
  {
   "cell_type": "code",
   "execution_count": null,
   "metadata": {},
   "outputs": [],
   "source": [
    "df.dtypes"
   ]
  },
  {
   "cell_type": "markdown",
   "metadata": {},
   "source": [
    "#### Có cột nào có kiểu dữ liệu chưa phù hợp và khó để tiếp tục xử lí hay không ?"
   ]
  },
  {
   "cell_type": "markdown",
   "metadata": {},
   "source": [
    "### Các vấn đề cần tiền xử lí"
   ]
  },
  {
   "cell_type": "markdown",
   "metadata": {},
   "source": [
    "## Tiền xử lí dữ liệu"
   ]
  },
  {
   "cell_type": "code",
   "execution_count": null,
   "metadata": {},
   "outputs": [],
   "source": []
  },
  {
   "cell_type": "markdown",
   "metadata": {},
   "source": [
    "## Đặt câu hỏi và trả lời"
   ]
  },
  {
   "attachments": {},
   "cell_type": "markdown",
   "metadata": {},
   "source": [
    "<u>***Câu 1:***</u>\n",
    "Tìm số lượng thí sinh tham dự của các tỉnh vào mỗi năm"
   ]
  },
  {
   "cell_type": "code",
   "execution_count": null,
   "metadata": {},
   "outputs": [],
   "source": [
    "years = df['Year'].unique()\n",
    "cities = df_cities['MaTinh'].unique()"
   ]
  },
  {
   "cell_type": "markdown",
   "metadata": {},
   "source": [
    "**Lưu ý:** Tồn tại những năm có những tỉnh không được ghi nhận số liệu, điều này là do mất số liệu lưu trữ trong năm đó"
   ]
  },
  {
   "cell_type": "code",
   "execution_count": null,
   "metadata": {},
   "outputs": [],
   "source": [
    "for year in years:\n",
    "    col_year_city_participants_number =[]\n",
    "    for city in cities:\n",
    "        col_year_city_participants_number.append(df.loc[(df['Year']==year) & (df['MaTinh']==city),'SBD'].count())\n",
    "    df_cities[year] =  pd.Series(col_year_city_participants_number)\n",
    "\n",
    "df_cities"
   ]
  },
  {
   "cell_type": "code",
   "execution_count": null,
   "metadata": {},
   "outputs": [],
   "source": [
    "fig,a =  plt.subplots(2,2)\n",
    "fig.set_size_inches(18.5, 10.5, forward=True)\n",
    "x = np.array(df_cities['MaTinh'])\n",
    "\n",
    "x = np.arange(1,5)\n",
    "a[0][0].bar(np.array(df_cities['MaTinh']),np.array(df_cities[2018]))\n",
    "a[0][0].set_title('2018')\n",
    "a[0][1].bar(np.array(df_cities['MaTinh']),np.array(df_cities[2019]))\n",
    "a[0][1].set_title('2019')\n",
    "a[1][0].bar(np.array(df_cities['MaTinh']),np.array(df_cities[2020]))\n",
    "a[1][0].set_title('2020')\n",
    "a[1][1].bar(np.array(df_cities['MaTinh']),np.array(df_cities[2021]))\n",
    "a[1][1].set_title('2021')\n",
    "plt.show()"
   ]
  },
  {
   "cell_type": "markdown",
   "metadata": {},
   "source": [
    "### <span style=\"color:red\">**Lưu ý**</span>\n",
    "Những thành phố có năm không thu thập được dữ liệu"
   ]
  },
  {
   "cell_type": "code",
   "execution_count": null,
   "metadata": {},
   "outputs": [],
   "source": [
    "df_cities[(df_cities[2018]==0) | (df_cities[2019]==0) | (df_cities[2020]==0) |(df_cities[2021]==0)]"
   ]
  },
  {
   "attachments": {},
   "cell_type": "markdown",
   "metadata": {},
   "source": [
    "<u>***Câu 2:***</u>\n",
    "Tính trung bình số lượng thí sinh tham gia của mỗi tỉnh\\\n",
    "Cho biết tình thành nào có số lượng thí sinh tham giao cao nhất / thấp nhất"
   ]
  },
  {
   "cell_type": "code",
   "execution_count": null,
   "metadata": {},
   "outputs": [],
   "source": [
    "# vì có những số liệu của các tp bị bỏ lỡ nên hiện tại sẽ sử dụng tới hàm mean tự định nghĩa\n",
    "# cho phép những ô bị mất dữ liệu không tính vào tổng số tránh làm chênh lệnh\n",
    "import math\n",
    "def custom_mean_function(arr):\n",
    "    arr = np.array(arr)\n",
    "    sum = 0\n",
    "    for i in arr:\n",
    "        sum+=i\n",
    "    return sum/len(arr[arr!=0])\n"
   ]
  },
  {
   "cell_type": "code",
   "execution_count": null,
   "metadata": {},
   "outputs": [],
   "source": [
    "avg_number_participants = []\n",
    "len(df_cities)\n",
    "for i in range(len(df_cities)):\n",
    "    avg_number_participants.append(custom_mean_function(df_cities.loc[i,[2018,2018,2020,2021]]))"
   ]
  },
  {
   "cell_type": "code",
   "execution_count": null,
   "metadata": {},
   "outputs": [],
   "source": [
    "max_avg = max(avg_number_participants)\n",
    "min_avg = min(avg_number_participants)"
   ]
  },
  {
   "cell_type": "markdown",
   "metadata": {},
   "source": [
    "#### Tỉnh thành có nhiều thí sinh trung bình dự thi nhất là:"
   ]
  },
  {
   "cell_type": "code",
   "execution_count": null,
   "metadata": {},
   "outputs": [],
   "source": [
    "df_cities.iloc[[avg_number_participants.index(max_avg)]]"
   ]
  },
  {
   "cell_type": "markdown",
   "metadata": {},
   "source": [
    "#### Tỉnh thành có ít thí sinh trung bình dự thi ít nhất là:"
   ]
  },
  {
   "cell_type": "code",
   "execution_count": null,
   "metadata": {},
   "outputs": [],
   "source": [
    "df_cities.iloc[[avg_number_participants.index(min_avg)]]"
   ]
  },
  {
   "attachments": {},
   "cell_type": "markdown",
   "metadata": {},
   "source": [
    "<u>***Câu hỏi 3:***</u>\n",
    "Tìm và nhận xét số lượng thí sinh thi đậu tốt nghiệp\\\n",
    "Biết là để thõa điều kiện tốt nghiệp:\n",
    "- Các môn tiên quyết bắt buộc và các môn thành phần trong bài thi Tổ hợp luôn phải lớn hơn 1.0\n",
    "- Tổng điểm xét tốt nghiệp phải lớn hơn 5.0 -> ở trường hợp này mình không xét tới vì điểm tốt nghiệp có 30% là điểm trung bình trong trường"
   ]
  },
  {
   "cell_type": "code",
   "execution_count": null,
   "metadata": {},
   "outputs": [],
   "source": [
    "passed_cdt_1 = (df['Toan']>1 )&(df['Van']>1 )&(df['Ngoai ngu']>1 )\n",
    "passed_cdt_2 = (df['Ly']>1 )&(df['Hoa']>1 )&(df['Sinh']>1 )\n",
    "passed_cdt_3 = (df['Lich su']>1) & (df['Dia ly']>1 ) & (df['GDCD']>1 )\n"
   ]
  },
  {
   "cell_type": "code",
   "execution_count": null,
   "metadata": {},
   "outputs": [],
   "source": [
    "df_passed = df[passed_cdt_1 & (passed_cdt_2 | passed_cdt_3)]\n",
    "df_passed"
   ]
  },
  {
   "cell_type": "code",
   "execution_count": null,
   "metadata": {},
   "outputs": [],
   "source": [
    "df_city_passed = pd.DataFrame()\n",
    "df_city_passed['MaTinh'] = df_cities['MaTinh']\n",
    "\n",
    "for year in years:\n",
    "    city_passed_year =[]\n",
    "    for city in cities:\n",
    "        city_passed_year.append(df_passed.loc[(df_passed['Year']==year) & (df_passed['MaTinh']==city),'SBD'].count())\n",
    "    df_city_passed[year] =  pd.Series(city_passed_year)\n",
    "\n",
    "df_city_passed"
   ]
  },
  {
   "cell_type": "markdown",
   "metadata": {},
   "source": [
    "#### Biểu đồ cột cho thấy mối quan hệ của việc đậu và tham gia kì thi trong năm 2018"
   ]
  },
  {
   "cell_type": "code",
   "execution_count": null,
   "metadata": {},
   "outputs": [],
   "source": [
    "fig,a =  plt.subplots(1,1)\n",
    "fig.set_size_inches(18.5, 10.5, forward=True)\n",
    "x = np.array(df_cities['MaTinh'])\n",
    "\n",
    "\n",
    "a.bar(np.array(df_cities['MaTinh'])-0.3, df_cities[2018],color='red', width=0.3, label='Tham gia thi')\n",
    "a.bar(np.array(df_cities['MaTinh']), df_city_passed[2018], width=0.3,color='blue', label='Đậu')\n",
    "\n",
    "a.set_ylabel('Số lượng thí sinh')\n",
    "a.set_xlabel('Năm')\n",
    "a.set_title(\"Thí sinh tham dự kì thi và Vượt qua kì thi của tất cả các tỉnh thành trong năm 2018\")\n",
    "a.legend()"
   ]
  },
  {
   "cell_type": "markdown",
   "metadata": {},
   "source": [
    "### Tỉ Lệ thi đậu tốt nghiệp"
   ]
  },
  {
   "cell_type": "code",
   "execution_count": null,
   "metadata": {},
   "outputs": [],
   "source": [
    "df_cities"
   ]
  },
  {
   "cell_type": "code",
   "execution_count": null,
   "metadata": {},
   "outputs": [],
   "source": [
    "df_city_passed.loc[5,[2018]]\n",
    "df_city_passed.loc[5,[2018]]\n",
    "df_cities.loc[5,[2018]]!=0"
   ]
  },
  {
   "cell_type": "code",
   "execution_count": null,
   "metadata": {},
   "outputs": [],
   "source": [
    "percentage_passed_city = []\n",
    "year = 2018\n",
    "for i in range(len(df_cities)):\n",
    "    percent = math.nan\n",
    "    if(df_cities.loc[i,[year]].iloc[0] !=0 ):\n",
    "        percent = df_city_passed.loc[i,year] *1.0 / df_cities.loc[i,year]\n",
    "    percentage_passed_city.append(percent)"
   ]
  },
  {
   "cell_type": "markdown",
   "metadata": {},
   "source": [
    "#### Tình thành có tỉ lệ thí sinh đỗ cao nhất và thấp nhất năm 2018 là"
   ]
  },
  {
   "cell_type": "code",
   "execution_count": null,
   "metadata": {},
   "outputs": [],
   "source": [
    "max_ratio=max(percentage_passed_city)\n",
    "min_ratio=min(percentage_passed_city)"
   ]
  },
  {
   "cell_type": "code",
   "execution_count": null,
   "metadata": {},
   "outputs": [],
   "source": [
    "# CAO NHẤT\n",
    "print('Tỉ lệ: ', round(max_ratio*100,2), '%')\n",
    "print(df_cities.iloc[percentage_passed_city.index(max_ratio)].loc[['TenTinh']])"
   ]
  },
  {
   "cell_type": "code",
   "execution_count": null,
   "metadata": {},
   "outputs": [],
   "source": [
    "# CAO NHẤT\n",
    "print('Tỉ lệ: ', round(min_ratio*100,2),'%')\n",
    "print(df_cities.iloc[percentage_passed_city.index(min_ratio)].loc[['TenTinh']])"
   ]
  },
  {
   "attachments": {},
   "cell_type": "markdown",
   "metadata": {},
   "source": [
    "<u>***Câu hỏi 4:***</u> \\\n",
    "Cho biết điểm thi môn Toán trên khắp cả nước\n",
    "Trực quan hóa sự thay đổi điểm số trung bình của tất cả các môn thi"
   ]
  },
  {
   "cell_type": "code",
   "execution_count": null,
   "metadata": {},
   "outputs": [],
   "source": [
    "math_17 = df[df['Year']==2017].loc[:,'Toan']\n",
    "math_18 = df[df['Year']==2018].loc[:,'Toan']\n",
    "math_19 = df[df['Year']==2019].loc[:,'Toan']\n",
    "math_20 = df[df['Year']==2020].loc[:,'Toan']\n",
    "math_21 = df[df['Year']==2021].loc[:,'Toan']\n",
    "math_22 = df[df['Year']==2022].loc[:,'Toan']"
   ]
  },
  {
   "cell_type": "code",
   "execution_count": null,
   "metadata": {},
   "outputs": [],
   "source": [
    "language_17 = df[df['Year']==2017].loc[:, 'Ngoai ngu']\n",
    "language_18 = df[df['Year']==2018].loc[:, 'Ngoai ngu']\n",
    "language_19 = df[df['Year']==2019].loc[:, 'Ngoai ngu']\n",
    "language_20 = df[df['Year']==2020].loc[:, 'Ngoai ngu']\n",
    "language_21 = df[df['Year']==2021].loc[:, 'Ngoai ngu']\n",
    "language_22 = df[df['Year']==2022].loc[:, 'Ngoai ngu']"
   ]
  },
  {
   "cell_type": "markdown",
   "metadata": {},
   "source": [
    "#### Trực quan hóa để thấy sự tương quan của tất cả các môn qua các năm"
   ]
  },
  {
   "cell_type": "code",
   "execution_count": null,
   "metadata": {},
   "outputs": [],
   "source": [
    "fig,a =  plt.subplots(3,3)\n",
    "fig.set_size_inches(18.5, 10.5, forward=True)\n",
    "x = np.array([2017,2018,2019,2020,2021,2022])\n",
    "\n",
    "all_subjects =[ 'Toan', 'Van', 'Ngoai ngu', 'Ly',  'Hoa','Sinh', 'Lich su','Dia ly', 'GDCD']\n",
    "i=0\n",
    "for subject in all_subjects:\n",
    "       mean_years = []\n",
    "       for year in years:\n",
    "              mean_years.append(np.mean(df[df['Year']==year][subject]))\n",
    "\n",
    "       a[int(i/3)][i%3].plot(x,np.array(mean_years))\n",
    "       a[int(i/3)][i%3].set_title(subject)\n",
    "       plt.ylim(0,10)\n",
    "       i+=1\n",
    "plt.show()"
   ]
  },
  {
   "cell_type": "markdown",
   "metadata": {},
   "source": [
    "**Câu hỏi 5**\n",
    "### Biểu đồ thể hiển phổ điểm của môn Toán và Ngoại ngữ qua các năm"
   ]
  },
  {
   "cell_type": "code",
   "execution_count": null,
   "metadata": {},
   "outputs": [],
   "source": [
    "#Môn TOÁN\n",
    "\n",
    "fig,a =  plt.subplots(2,2)\n",
    "fig.set_size_inches(18.5, 10.5, forward=True)\n",
    "\n",
    "c = [0. , 0.2, 0.4, 0.6, 0.8, 1. , 1.2, 1.4, 1.6, 1.8, 2. , 2.2, 2.4,\n",
    "       2.6, 2.8, 3. , 3.2, 3.4, 3.6, 3.8, 4. , 4.2, 4.4, 4.6, 4.8, 5. ,\n",
    "       5.2, 5.4, 5.6, 5.8, 6. , 6.2, 6.4, 6.6, 6.8, 7. , 7.2, 7.4, 7.6,\n",
    "       7.8, 8. , 8.2, 8.4, 8.6, 8.8, 9. , 9.2, 9.4, 9.6, 9.8,10.0]\n",
    "\n",
    "a[0][0].hist(math_18,edgecolor=\"#6A9662\",color=\"#B3D4FC\")\n",
    "a[0][0].set_title('2018')\n",
    "a[0][1].hist(math_19,edgecolor=\"#6A9662\",color=\"#DDFFDD\")\n",
    "a[0][1].set_title('2019')\n",
    "a[1][0].hist(math_20,edgecolor=\"#6A9662\",color=\"#112971\")\n",
    "a[1][0].set_title('2020')\n",
    "a[1][1].hist(math_21,edgecolor=\"#6A9662\",color=\"#F16E28\")\n",
    "a[1][1].set_title('2021')"
   ]
  },
  {
   "cell_type": "code",
   "execution_count": null,
   "metadata": {},
   "outputs": [],
   "source": [
    "df[df['Toan']==3.8]"
   ]
  },
  {
   "cell_type": "code",
   "execution_count": null,
   "metadata": {},
   "outputs": [],
   "source": [
    "#Môn Ngoại ngữ\n",
    "\n",
    "fig,a =  plt.subplots(2,2)\n",
    "fig.set_size_inches(18.5, 10.5, forward=True)\n",
    "x = np.array(df_cities['MaTinh'])\n",
    "\n",
    "x = np.arange(1,5)\n",
    "a[0][0].hist(language_18,edgecolor=\"#6A9662\",color=\"#B3D4FC\")\n",
    "a[0][0].set_title('2018')\n",
    "a[0][1].hist(language_19,edgecolor=\"#6A9662\",color=\"#DDFFDD\")\n",
    "a[0][1].set_title('2019')\n",
    "a[1][0].hist(language_20,edgecolor=\"#6A9662\",color=\"#112971\")\n",
    "a[1][0].set_title('2020')\n",
    "a[1][1].hist(language_21,edgecolor=\"#6A9662\",color=\"#659AD3\")\n",
    "a[1][1].set_title('2021')"
   ]
  },
  {
   "cell_type": "markdown",
   "metadata": {},
   "source": [
    "### So sánh phổ điểm của môn Toán và Ngoại ngữ theo sự thay đổi từng năm theo đồ thị đã được trực quan\n",
    "Liệu có thể nói như một số bài báo là Ngoại ngữ (cụ thể là tiếng Anh) hiện nay không được các bạn trẻ ưu tiên lấy đó để xét điểm vào đại học ??"
   ]
  },
  {
   "cell_type": "markdown",
   "metadata": {},
   "source": [
    "**Trả lời**"
   ]
  },
  {
   "cell_type": "markdown",
   "metadata": {},
   "source": [
    "\n",
    "ở các bài thi môn toán qua từng năm có sự thay đổi rõ rệt, vẫn là biểu đồ bị lệch về bên phải cho thấy điểm trung binh đạt được là khá cao và có xu hướng đang dần tăng lên, điều này có thể được giải thích theo 2 hướng tích cực và tiêu cực\n",
    "- Tích cực là: Toán là một môn bắt buộc và tất cả các thí sinh tham gia luôn trong tâm thế đạt được điểm cao nhất có thể để dễ dàng hơn cho các ôn sau, nó cũng là tiền đề để học tốt các bộ môn về tự nhiên\n",
    "- Tiêu cực là: Do vấn đề về dịch bênh cũng như việc xét tuyển ĐH đã không còn quá phụ thuộc vào điểm số của kì thi THPTQG nên đề có xu hướng dễ chịu hơn, nghiêng về hướng muốn học sinh được tốt nghiệp với điểm số cao và không quan tâm đến tình trạng *lạm phát điểm*"
   ]
  },
  {
   "cell_type": "markdown",
   "metadata": {},
   "source": [
    "Bài thi Ngoại ngữ thì lại là đồ thị lệch về bên trái thể hiện việc điểm số không hề cao và phần nhiều là các trường họp dưới trung bình, có thể thấy qua các bài báo thường đăng về việc có >40% học sinh tham gia THPTQG có điểm số thấp. Tuy nhiên điểm liệt thấp cho thấy đề thi vẫn đảm bảo đủ điều kiện cho HS tốt nghiệp.\n",
    "- Ở các năm trước, điểm số có phần rất thấp so với năm 2021, điều này được lí giải là do hiện tại xu hướng xét tuyển bằng điểm thi trong trường và các bằng Anh Văn Quốc tế là vô cùng phổ biến trong hiện tại, phải gọi là xu thế cho các bạn không muốn phải khó khăn trong việc ôn luyện nhiều môn mòa chỉ cần quan tâm vào bằng tiếng anh là được\n",
    "- Ỏ năm 2021, điểm số tăng cao vượt trội hơn cả với môn toán\n",
    "- Tỉnh trạng này còn có thể là do đề thi hiện tại được đánh giá là dễ hơn so với các năm trước và các môn thi tổ hợp (tự nhiên) trong cùng năm"
   ]
  },
  {
   "attachments": {},
   "cell_type": "markdown",
   "metadata": {},
   "source": [
    "<u>***Câu hỏi 6***</u>\\\n",
    "So sánh số lượng người thi ban Khoa học tự nhiên và Khoa học xã hội qua các năm"
   ]
  },
  {
   "attachments": {},
   "cell_type": "markdown",
   "metadata": {},
   "source": [
    "Cho biết số lượng thí sinh tham dự bài thi ban **KHTN** hoặc **KHXH** là các học sinh tham gia thi cả 3 môn của tổ hợp\n",
    "- KHTN: Lí Hóa Sinh\n",
    "- KHXH: Sử Địa GDCD"
   ]
  },
  {
   "cell_type": "code",
   "execution_count": null,
   "metadata": {},
   "outputs": [],
   "source": [
    "science_subjects = ['Ly', 'Hoa', 'Sinh']\n",
    "social_subjects = ['Lich su', 'Dia ly', 'GDCD']"
   ]
  },
  {
   "attachments": {},
   "cell_type": "markdown",
   "metadata": {},
   "source": [
    "Số lượng thí sinh chọn bài thi ban **KHTN**"
   ]
  },
  {
   "cell_type": "code",
   "execution_count": null,
   "metadata": {},
   "outputs": [],
   "source": [
    "keys=science_subjects.copy()\n",
    "keys.append(\"Year\")\n",
    "df_science=df[keys].copy()\n",
    "df_science.dropna(inplace=True)\n",
    "count_science=len(df_science)\n",
    "count_science"
   ]
  },
  {
   "attachments": {},
   "cell_type": "markdown",
   "metadata": {},
   "source": [
    "Số lượng thí sinh chọn bài thi ban **KHXH**"
   ]
  },
  {
   "cell_type": "code",
   "execution_count": null,
   "metadata": {},
   "outputs": [],
   "source": [
    "keys=social_subjects.copy()\n",
    "keys.append(\"Year\")\n",
    "df_social=df[keys].copy()\n",
    "df_social.dropna(inplace=True)\n",
    "count_social=len(df_social)\n",
    "count_social"
   ]
  },
  {
   "cell_type": "code",
   "execution_count": null,
   "metadata": {},
   "outputs": [],
   "source": [
    "# fig = plt.figure()\n",
    "graph_labels = ['ban Khoa học Tự nhiên', 'ban Khoa học Xã hội']\n",
    "plt.pie([count_science,count_social], autopct='%1.2f%%', textprops={'color':\"w\"})\n",
    "plt.legend(graph_labels,\n",
    "          title=\"Thể loại\",\n",
    "          loc=\"center left\",\n",
    "          bbox_to_anchor=(1, 0, 0.5, 1))\n",
    "plt.title(\"Tỉ lệ ban được chọn\")\n",
    "plt.show()"
   ]
  },
  {
   "attachments": {},
   "cell_type": "markdown",
   "metadata": {},
   "source": [
    "### Vẽ biểu đồ so sánh số lượng bài thi các ban trong mỗi năm"
   ]
  },
  {
   "cell_type": "code",
   "execution_count": null,
   "metadata": {},
   "outputs": [],
   "source": [
    "df1=df_science['Year'].value_counts().to_frame().rename(columns={\"Year\":\"ban Khoa học Tự Nhiên\"})\n",
    "df2=df_social['Year'].value_counts().to_frame().rename(columns={\"Year\":\"ban Khoa học Xã hội\"})\n",
    "df_vis=df1.merge(df2,right_index=True,left_index=True).reset_index(names=['Year'])\n",
    "df_vis=df_vis.melt(id_vars=['Year'],var_name=\"ToHop\",value_name=\"SoLuong\")"
   ]
  },
  {
   "cell_type": "code",
   "execution_count": null,
   "metadata": {},
   "outputs": [],
   "source": [
    "plt.subplots(figsize=(16,6))\n",
    "sns.barplot(data=df_vis,\n",
    "            x=\"Year\",\n",
    "            y=\"SoLuong\",\n",
    "            hue=\"ToHop\")"
   ]
  },
  {
   "attachments": {},
   "cell_type": "markdown",
   "metadata": {},
   "source": [
    "<u>***Câu hỏi 7***</u>\\\n",
    "So sánh số lượng các bài thi tổ hợp và xem tổ hợp nào hiện đang là xu thế và có điểm số lấn át với những tổ hợp khác"
   ]
  },
  {
   "attachments": {},
   "cell_type": "markdown",
   "metadata": {},
   "source": [
    "Trong giai đoạn chuẩn bị thi, thí sinh thường tập trung ôn các môn thi trong tổ hợp mình chọn"
   ]
  },
  {
   "attachments": {},
   "cell_type": "markdown",
   "metadata": {},
   "source": [
    "Ta xem xét độ tương quan điểm của các môn thi"
   ]
  },
  {
   "cell_type": "code",
   "execution_count": null,
   "metadata": {},
   "outputs": [],
   "source": [
    "plt.figure(figsize=(16,6))\n",
    "sns.heatmap(df.drop(columns=[\"SBD\",\"MaTinh\",\"Year\"]).corr(),annot=True,cmap='afmhot_r')"
   ]
  },
  {
   "attachments": {},
   "cell_type": "markdown",
   "metadata": {},
   "source": [
    "Từ 3 môn cơ bản là Toán, Văn, Ngoại ngữ ta sẽ chọn ra các tổ hợp có độ liên quan cao nhất với 3 môn này"
   ]
  },
  {
   "cell_type": "code",
   "execution_count": null,
   "metadata": {},
   "outputs": [],
   "source": [
    "df1=df[subjects].copy().corr()\n",
    "base_subject=[\"Toan\",\"Van\",\"Ngoai ngu\"]\n",
    "khoi=[]\n",
    "def gen_combination(list):\n",
    "    result=[]\n",
    "    for x in range(0,len(list)-1):\n",
    "        for y in range(x+1,len(list)):\n",
    "            result.append([list[x],list[y]])\n",
    "    return result\n",
    "for subject in base_subject:\n",
    "    related_sub=list(df1[subject].sort_values(ascending=False).index)\n",
    "    related_sub.remove(subject)\n",
    "\n",
    "    top_related_sub=related_sub[:3]\n",
    "    \n",
    "    for x in gen_combination(top_related_sub):\n",
    "        x.insert(0,subject)\n",
    "        khoi.append(x)\n",
    "khoi"
   ]
  },
  {
   "attachments": {},
   "cell_type": "markdown",
   "metadata": {},
   "source": [
    "Tính toán điểm trung bình và số lượng của các tổ hợp"
   ]
  },
  {
   "attachments": {},
   "cell_type": "markdown",
   "metadata": {},
   "source": [
    "Tổ hợp của thí sinh chọn sẽ được dự đoán dựa trên 3 môn có số điểm cao nhất của thí sinh"
   ]
  },
  {
   "cell_type": "code",
   "execution_count": null,
   "metadata": {},
   "outputs": [],
   "source": [
    "df_tohop=df[subjects].copy()\n",
    "arr=df_tohop.fillna(0).to_numpy()\n",
    "index=np.argsort(arr,axis=1)\n",
    "arr=np.take_along_axis(arr,index,axis=1)\n",
    "df_tohop['ToHopMax']=np.sum(arr[:,-3:],axis=1)\n",
    "df_tohop"
   ]
  },
  {
   "cell_type": "code",
   "execution_count": null,
   "metadata": {},
   "outputs": [],
   "source": [
    "df1=pd.DataFrame()\n",
    "df1['ToHop']=khoi\n",
    "\n",
    "def khoi_filter(khoi):\n",
    "    df_temp=df_tohop.dropna(subset=khoi)\n",
    "    return df_temp[np.sum(df_temp[khoi],axis=1)==df_temp['ToHopMax']]\n",
    "\n",
    "df1[\"DiemTB\"]=df1[\"ToHop\"].transform(lambda x: khoi_filter(x)[\"ToHopMax\"].mean())\n",
    "df1[\"SoLuong\"]=df1[\"ToHop\"].transform(lambda x: khoi_filter(x)[\"ToHopMax\"].count())\n",
    "\n",
    "def khoi_visualize(list):\n",
    "    result=\"\"\n",
    "    for sub in list:\n",
    "        result+=sub+\", \"\n",
    "    result=result[0:-2]\n",
    "    return result\n",
    "df1['ToHop']=df1[\"ToHop\"].transform(lambda x: khoi_visualize(x))\n",
    "df1"
   ]
  },
  {
   "attachments": {},
   "cell_type": "markdown",
   "metadata": {},
   "source": [
    "Trực quan hóa"
   ]
  },
  {
   "cell_type": "code",
   "execution_count": null,
   "metadata": {},
   "outputs": [],
   "source": [
    "fig,ax=plt.subplots(figsize=(18,8))\n",
    "sns.barplot(data=df1,\n",
    "            x=\"ToHop\",\n",
    "            y=\"SoLuong\")\n",
    "ax1=ax.twinx()\n",
    "sns.pointplot(data=df1,\n",
    "            x=\"ToHop\",\n",
    "            y=\"DiemTB\",\n",
    "            ax=ax1)"
   ]
  },
  {
   "cell_type": "markdown",
   "metadata": {},
   "source": [
    "**Câu 8:**\n",
    "So sánh điểm số của trước khi covid và sau khi covid, cụ thể là năm 2019 và 2020"
   ]
  },
  {
   "cell_type": "code",
   "execution_count": null,
   "metadata": {},
   "outputs": [],
   "source": [
    "\n",
    "df1=df[(df['Year']==2019) | (df['Year'] == 2020)]\n",
    "df1=df1.groupby(['Year'])[subjects].mean()\n",
    "df1.reset_index(inplace=True)\n",
    "df1=df1.melt(id_vars=[\"Year\"],var_name=\"Subject\",value_name=\"DTB\")\n",
    "plt.figure(figsize = (15,8))\n",
    "sns.barplot(data=df1,\n",
    "            x=\"Subject\",\n",
    "            y=\"DTB\",\n",
    "            hue=\"Year\",\n",
    "            )\n",
    "plt.legend(title=\"Year\", loc=\"center left\",bbox_to_anchor=(1.05,0.5))\n",
    "plt.title(\"Điểm trung bình các môn học năm 2019, năm 2020\")"
   ]
  },
  {
   "cell_type": "markdown",
   "metadata": {},
   "source": [
    "**Câu 9:**\n",
    "Hãy tìm ra sự khác biệt trọng điểm số của người dân ở vùng kinh tế trọng điểm (như TPHCM, HN) và người dân ở những Tỉnh vẫn còn kém phát triển về kinh tế"
   ]
  },
  {
   "cell_type": "code",
   "execution_count": null,
   "metadata": {},
   "outputs": [],
   "source": [
    "poor_cities = ['TỈNH ĐIỆN BIÊN\t','TỈNH HÀ GIANG','TỈNH CAO BẰNG','TỈNH BẮC KẠN','TỈNH KON TUM','TỈNH SƠN LA','TỈNH LAI CHÂU']"
   ]
  },
  {
   "cell_type": "code",
   "execution_count": null,
   "metadata": {},
   "outputs": [],
   "source": [
    "df_cities[df_cities['TenTinh']==poor_cities[6]]"
   ]
  },
  {
   "cell_type": "markdown",
   "metadata": {},
   "source": [
    "continuous..."
   ]
  },
  {
   "cell_type": "markdown",
   "metadata": {},
   "source": [
    "# Còn tiếp ....\n",
    "hãy trả lời giừm tớ đuy"
   ]
  }
 ],
 "metadata": {
  "kernelspec": {
   "display_name": "Python 3",
   "language": "python",
   "name": "python3"
  },
  "language_info": {
   "codemirror_mode": {
    "name": "ipython",
    "version": 3
   },
   "file_extension": ".py",
   "mimetype": "text/x-python",
   "name": "python",
   "nbconvert_exporter": "python",
   "pygments_lexer": "ipython3",
   "version": "3.10.8"
  },
  "orig_nbformat": 4,
  "vscode": {
   "interpreter": {
    "hash": "8c3d4d9970fc5c09c50d9318a9c7fbf4d0159e4b28833276f5678ee22bded273"
   }
  }
 },
 "nbformat": 4,
 "nbformat_minor": 2
}
